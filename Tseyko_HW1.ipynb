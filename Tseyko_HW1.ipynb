{
  "cells": [
    {
      "cell_type": "markdown",
      "metadata": {
        "id": "view-in-github",
        "colab_type": "text"
      },
      "source": [
        "<a href=\"https://colab.research.google.com/github/tseykoroman/ML_for_business/blob/main/Tseyko_HW1.ipynb\" target=\"_parent\"><img src=\"https://colab.research.google.com/assets/colab-badge.svg\" alt=\"Open In Colab\"/></a>"
      ]
    },
    {
      "cell_type": "markdown",
      "metadata": {
        "id": "alBKPK_8ZVCv"
      },
      "source": [
        "Автор материала: Зраев Артем.\n",
        "\n",
        "Можно использовать в каких угодно целях."
      ]
    },
    {
      "cell_type": "markdown",
      "metadata": {
        "id": "v85ljyexZVC2"
      },
      "source": [
        "<b> В задании нужно загрузить датасет с данными оттока и ответить на несколько вопросов (написать код). При этом сам датасет уже есть и его необязательно качать с репозитория</b>"
      ]
    },
    {
      "cell_type": "markdown",
      "metadata": {
        "id": "znJE9vwDZVC5"
      },
      "source": [
        "Цель задания: проверить базовые навыки работы студентов с Pandas, умение проводить такой же базовый EDA (exploratory data analysis), делать feature engineering и обучать и валидировать модель."
      ]
    },
    {
      "cell_type": "markdown",
      "metadata": {
        "id": "2PXeC6MEZVC-"
      },
      "source": [
        "Список столбцов с типами данных в датасете:\n",
        "\n",
        "- customerID           object\n",
        "- gender               object\n",
        "- SeniorCitizen         int64\n",
        "- Partner              object\n",
        "- Dependents           object\n",
        "- tenure                int64\n",
        "- PhoneService         object\n",
        "- MultipleLines        object\n",
        "- InternetService      object\n",
        "- OnlineSecurity       object\n",
        "- OnlineBackup         object\n",
        "- DeviceProtection     object\n",
        "- TechSupport          object\n",
        "- StreamingTV          object\n",
        "- StreamingMovies      object\n",
        "- Contract             object\n",
        "- PaperlessBilling     object\n",
        "- PaymentMethod        object\n",
        "- MonthlyCharges      float64\n",
        "- TotalCharges         object\n",
        "- Churn                object"
      ]
    },
    {
      "cell_type": "markdown",
      "source": [
        "Данные лежат на google диске по [ссылке](https://drive.google.com/file/d/1g8lsZO25O2SxuCrIYVSDV3eLqmfC-TCZ/view?usp=sharing)."
      ],
      "metadata": {
        "id": "yr1LD0O3aA5r"
      }
    },
    {
      "cell_type": "code",
      "source": [
        "!wget 'https://drive.google.com/uc?export=download&id=1g8lsZO25O2SxuCrIYVSDV3eLqmfC-TCZ' -O WA_Fn-UseC_-Telco-Customer-Churn.csv"
      ],
      "metadata": {
        "colab": {
          "base_uri": "https://localhost:8080/"
        },
        "id": "QNrC1b9CZ2Ry",
        "outputId": "b76f600e-96ee-4814-e0c4-b338adab912f"
      },
      "execution_count": 13,
      "outputs": [
        {
          "output_type": "stream",
          "name": "stdout",
          "text": [
            "--2022-03-23 12:02:15--  https://drive.google.com/uc?export=download&id=1g8lsZO25O2SxuCrIYVSDV3eLqmfC-TCZ\n",
            "Resolving drive.google.com (drive.google.com)... 74.125.195.113, 74.125.195.102, 74.125.195.100, ...\n",
            "Connecting to drive.google.com (drive.google.com)|74.125.195.113|:443... connected.\n",
            "HTTP request sent, awaiting response... 303 See Other\n",
            "Location: https://doc-08-c0-docs.googleusercontent.com/docs/securesc/ha0ro937gcuc7l7deffksulhg5h7mbp1/nq58f83nfqt6vuiklf8kg0ujb9qpohub/1648036875000/14904333240138417226/*/1g8lsZO25O2SxuCrIYVSDV3eLqmfC-TCZ?e=download [following]\n",
            "Warning: wildcards not supported in HTTP.\n",
            "--2022-03-23 12:02:16--  https://doc-08-c0-docs.googleusercontent.com/docs/securesc/ha0ro937gcuc7l7deffksulhg5h7mbp1/nq58f83nfqt6vuiklf8kg0ujb9qpohub/1648036875000/14904333240138417226/*/1g8lsZO25O2SxuCrIYVSDV3eLqmfC-TCZ?e=download\n",
            "Resolving doc-08-c0-docs.googleusercontent.com (doc-08-c0-docs.googleusercontent.com)... 108.177.98.132, 2607:f8b0:400e:c06::84\n",
            "Connecting to doc-08-c0-docs.googleusercontent.com (doc-08-c0-docs.googleusercontent.com)|108.177.98.132|:443... connected.\n",
            "HTTP request sent, awaiting response... 200 OK\n",
            "Length: 977501 (955K) [text/csv]\n",
            "Saving to: ‘WA_Fn-UseC_-Telco-Customer-Churn.csv’\n",
            "\n",
            "WA_Fn-UseC_-Telco-C 100%[===================>] 954.59K  --.-KB/s    in 0.007s  \n",
            "\n",
            "2022-03-23 12:02:16 (126 MB/s) - ‘WA_Fn-UseC_-Telco-Customer-Churn.csv’ saved [977501/977501]\n",
            "\n"
          ]
        }
      ]
    },
    {
      "cell_type": "code",
      "execution_count": 14,
      "metadata": {
        "colab": {
          "base_uri": "https://localhost:8080/",
          "height": 288
        },
        "id": "q3ZGnjRPZVDE",
        "outputId": "cbf97a49-1fc9-4832-d2ad-2579bedae6aa"
      },
      "outputs": [
        {
          "output_type": "execute_result",
          "data": {
            "text/plain": [
              "   customerID  gender  SeniorCitizen Partner Dependents  tenure PhoneService  \\\n",
              "0  7590-VHVEG  Female              0     Yes         No       1           No   \n",
              "1  5575-GNVDE    Male              0      No         No      34          Yes   \n",
              "2  3668-QPYBK    Male              0      No         No       2          Yes   \n",
              "\n",
              "      MultipleLines InternetService OnlineSecurity  ... DeviceProtection  \\\n",
              "0  No phone service             DSL             No  ...               No   \n",
              "1                No             DSL            Yes  ...              Yes   \n",
              "2                No             DSL            Yes  ...               No   \n",
              "\n",
              "  TechSupport StreamingTV StreamingMovies        Contract PaperlessBilling  \\\n",
              "0          No          No              No  Month-to-month              Yes   \n",
              "1          No          No              No        One year               No   \n",
              "2          No          No              No  Month-to-month              Yes   \n",
              "\n",
              "      PaymentMethod MonthlyCharges  TotalCharges Churn  \n",
              "0  Electronic check          29.85         29.85    No  \n",
              "1      Mailed check          56.95        1889.5    No  \n",
              "2      Mailed check          53.85        108.15   Yes  \n",
              "\n",
              "[3 rows x 21 columns]"
            ],
            "text/html": [
              "\n",
              "  <div id=\"df-268327dc-4bf4-4fe9-a111-a87bece210eb\">\n",
              "    <div class=\"colab-df-container\">\n",
              "      <div>\n",
              "<style scoped>\n",
              "    .dataframe tbody tr th:only-of-type {\n",
              "        vertical-align: middle;\n",
              "    }\n",
              "\n",
              "    .dataframe tbody tr th {\n",
              "        vertical-align: top;\n",
              "    }\n",
              "\n",
              "    .dataframe thead th {\n",
              "        text-align: right;\n",
              "    }\n",
              "</style>\n",
              "<table border=\"1\" class=\"dataframe\">\n",
              "  <thead>\n",
              "    <tr style=\"text-align: right;\">\n",
              "      <th></th>\n",
              "      <th>customerID</th>\n",
              "      <th>gender</th>\n",
              "      <th>SeniorCitizen</th>\n",
              "      <th>Partner</th>\n",
              "      <th>Dependents</th>\n",
              "      <th>tenure</th>\n",
              "      <th>PhoneService</th>\n",
              "      <th>MultipleLines</th>\n",
              "      <th>InternetService</th>\n",
              "      <th>OnlineSecurity</th>\n",
              "      <th>...</th>\n",
              "      <th>DeviceProtection</th>\n",
              "      <th>TechSupport</th>\n",
              "      <th>StreamingTV</th>\n",
              "      <th>StreamingMovies</th>\n",
              "      <th>Contract</th>\n",
              "      <th>PaperlessBilling</th>\n",
              "      <th>PaymentMethod</th>\n",
              "      <th>MonthlyCharges</th>\n",
              "      <th>TotalCharges</th>\n",
              "      <th>Churn</th>\n",
              "    </tr>\n",
              "  </thead>\n",
              "  <tbody>\n",
              "    <tr>\n",
              "      <th>0</th>\n",
              "      <td>7590-VHVEG</td>\n",
              "      <td>Female</td>\n",
              "      <td>0</td>\n",
              "      <td>Yes</td>\n",
              "      <td>No</td>\n",
              "      <td>1</td>\n",
              "      <td>No</td>\n",
              "      <td>No phone service</td>\n",
              "      <td>DSL</td>\n",
              "      <td>No</td>\n",
              "      <td>...</td>\n",
              "      <td>No</td>\n",
              "      <td>No</td>\n",
              "      <td>No</td>\n",
              "      <td>No</td>\n",
              "      <td>Month-to-month</td>\n",
              "      <td>Yes</td>\n",
              "      <td>Electronic check</td>\n",
              "      <td>29.85</td>\n",
              "      <td>29.85</td>\n",
              "      <td>No</td>\n",
              "    </tr>\n",
              "    <tr>\n",
              "      <th>1</th>\n",
              "      <td>5575-GNVDE</td>\n",
              "      <td>Male</td>\n",
              "      <td>0</td>\n",
              "      <td>No</td>\n",
              "      <td>No</td>\n",
              "      <td>34</td>\n",
              "      <td>Yes</td>\n",
              "      <td>No</td>\n",
              "      <td>DSL</td>\n",
              "      <td>Yes</td>\n",
              "      <td>...</td>\n",
              "      <td>Yes</td>\n",
              "      <td>No</td>\n",
              "      <td>No</td>\n",
              "      <td>No</td>\n",
              "      <td>One year</td>\n",
              "      <td>No</td>\n",
              "      <td>Mailed check</td>\n",
              "      <td>56.95</td>\n",
              "      <td>1889.5</td>\n",
              "      <td>No</td>\n",
              "    </tr>\n",
              "    <tr>\n",
              "      <th>2</th>\n",
              "      <td>3668-QPYBK</td>\n",
              "      <td>Male</td>\n",
              "      <td>0</td>\n",
              "      <td>No</td>\n",
              "      <td>No</td>\n",
              "      <td>2</td>\n",
              "      <td>Yes</td>\n",
              "      <td>No</td>\n",
              "      <td>DSL</td>\n",
              "      <td>Yes</td>\n",
              "      <td>...</td>\n",
              "      <td>No</td>\n",
              "      <td>No</td>\n",
              "      <td>No</td>\n",
              "      <td>No</td>\n",
              "      <td>Month-to-month</td>\n",
              "      <td>Yes</td>\n",
              "      <td>Mailed check</td>\n",
              "      <td>53.85</td>\n",
              "      <td>108.15</td>\n",
              "      <td>Yes</td>\n",
              "    </tr>\n",
              "  </tbody>\n",
              "</table>\n",
              "<p>3 rows × 21 columns</p>\n",
              "</div>\n",
              "      <button class=\"colab-df-convert\" onclick=\"convertToInteractive('df-268327dc-4bf4-4fe9-a111-a87bece210eb')\"\n",
              "              title=\"Convert this dataframe to an interactive table.\"\n",
              "              style=\"display:none;\">\n",
              "        \n",
              "  <svg xmlns=\"http://www.w3.org/2000/svg\" height=\"24px\"viewBox=\"0 0 24 24\"\n",
              "       width=\"24px\">\n",
              "    <path d=\"M0 0h24v24H0V0z\" fill=\"none\"/>\n",
              "    <path d=\"M18.56 5.44l.94 2.06.94-2.06 2.06-.94-2.06-.94-.94-2.06-.94 2.06-2.06.94zm-11 1L8.5 8.5l.94-2.06 2.06-.94-2.06-.94L8.5 2.5l-.94 2.06-2.06.94zm10 10l.94 2.06.94-2.06 2.06-.94-2.06-.94-.94-2.06-.94 2.06-2.06.94z\"/><path d=\"M17.41 7.96l-1.37-1.37c-.4-.4-.92-.59-1.43-.59-.52 0-1.04.2-1.43.59L10.3 9.45l-7.72 7.72c-.78.78-.78 2.05 0 2.83L4 21.41c.39.39.9.59 1.41.59.51 0 1.02-.2 1.41-.59l7.78-7.78 2.81-2.81c.8-.78.8-2.07 0-2.86zM5.41 20L4 18.59l7.72-7.72 1.47 1.35L5.41 20z\"/>\n",
              "  </svg>\n",
              "      </button>\n",
              "      \n",
              "  <style>\n",
              "    .colab-df-container {\n",
              "      display:flex;\n",
              "      flex-wrap:wrap;\n",
              "      gap: 12px;\n",
              "    }\n",
              "\n",
              "    .colab-df-convert {\n",
              "      background-color: #E8F0FE;\n",
              "      border: none;\n",
              "      border-radius: 50%;\n",
              "      cursor: pointer;\n",
              "      display: none;\n",
              "      fill: #1967D2;\n",
              "      height: 32px;\n",
              "      padding: 0 0 0 0;\n",
              "      width: 32px;\n",
              "    }\n",
              "\n",
              "    .colab-df-convert:hover {\n",
              "      background-color: #E2EBFA;\n",
              "      box-shadow: 0px 1px 2px rgba(60, 64, 67, 0.3), 0px 1px 3px 1px rgba(60, 64, 67, 0.15);\n",
              "      fill: #174EA6;\n",
              "    }\n",
              "\n",
              "    [theme=dark] .colab-df-convert {\n",
              "      background-color: #3B4455;\n",
              "      fill: #D2E3FC;\n",
              "    }\n",
              "\n",
              "    [theme=dark] .colab-df-convert:hover {\n",
              "      background-color: #434B5C;\n",
              "      box-shadow: 0px 1px 3px 1px rgba(0, 0, 0, 0.15);\n",
              "      filter: drop-shadow(0px 1px 2px rgba(0, 0, 0, 0.3));\n",
              "      fill: #FFFFFF;\n",
              "    }\n",
              "  </style>\n",
              "\n",
              "      <script>\n",
              "        const buttonEl =\n",
              "          document.querySelector('#df-268327dc-4bf4-4fe9-a111-a87bece210eb button.colab-df-convert');\n",
              "        buttonEl.style.display =\n",
              "          google.colab.kernel.accessAllowed ? 'block' : 'none';\n",
              "\n",
              "        async function convertToInteractive(key) {\n",
              "          const element = document.querySelector('#df-268327dc-4bf4-4fe9-a111-a87bece210eb');\n",
              "          const dataTable =\n",
              "            await google.colab.kernel.invokeFunction('convertToInteractive',\n",
              "                                                     [key], {});\n",
              "          if (!dataTable) return;\n",
              "\n",
              "          const docLinkHtml = 'Like what you see? Visit the ' +\n",
              "            '<a target=\"_blank\" href=https://colab.research.google.com/notebooks/data_table.ipynb>data table notebook</a>'\n",
              "            + ' to learn more about interactive tables.';\n",
              "          element.innerHTML = '';\n",
              "          dataTable['output_type'] = 'display_data';\n",
              "          await google.colab.output.renderOutput(dataTable, element);\n",
              "          const docLink = document.createElement('div');\n",
              "          docLink.innerHTML = docLinkHtml;\n",
              "          element.appendChild(docLink);\n",
              "        }\n",
              "      </script>\n",
              "    </div>\n",
              "  </div>\n",
              "  "
            ]
          },
          "metadata": {},
          "execution_count": 14
        }
      ],
      "source": [
        "import pandas as pd\n",
        "import numpy as np\n",
        "from sklearn.pipeline import Pipeline, make_pipeline\n",
        "from sklearn.base import BaseEstimator, TransformerMixin\n",
        "from sklearn.linear_model import LogisticRegression\n",
        "from sklearn.model_selection import train_test_split\n",
        "from sklearn.feature_extraction.text import TfidfVectorizer\n",
        "import itertools\n",
        "\n",
        "import matplotlib.pyplot as plt \n",
        "plt.rc(\"font\", size=14)\n",
        "\n",
        "import seaborn as sns\n",
        "sns.set(style=\"white\")\n",
        "sns.set(style=\"whitegrid\", color_codes=True)\n",
        "\n",
        "df = pd.read_csv(\"./WA_Fn-UseC_-Telco-Customer-Churn.csv\")\n",
        "df.head(3)"
      ]
    },
    {
      "cell_type": "markdown",
      "metadata": {
        "id": "5lVI3YukZVDI"
      },
      "source": [
        "##### 1. Какое соотношение мужчин и женщин в представленном наборе данных? Приблизительно одинаковое - 3488 женщин и 3555 мужчин"
      ]
    },
    {
      "cell_type": "code",
      "execution_count": 15,
      "metadata": {
        "id": "xmc9xk8jZVDL",
        "colab": {
          "base_uri": "https://localhost:8080/",
          "height": 284
        },
        "outputId": "766a3588-cc39-4c7a-ebaa-0c6c0914ecb3"
      },
      "outputs": [
        {
          "output_type": "display_data",
          "data": {
            "text/plain": [
              "<Figure size 432x288 with 1 Axes>"
            ],
            "image/png": "[encoded data removed]"
          },
          "metadata": {}
        }
      ],
      "source": [
        "sns.countplot(x='gender', data=df, palette='hls')\n",
        "plt.show()\n"
      ]
    },
    {
      "cell_type": "code",
      "execution_count": 16,
      "metadata": {
        "colab": {
          "base_uri": "https://localhost:8080/"
        },
        "outputId": "f61c4e75-289d-4335-b3d2-ad0cf69e08e8",
        "id": "bxxBJ8HeV36k"
      },
      "outputs": [
        {
          "output_type": "stream",
          "name": "stdout",
          "text": [
            "Количество значений для каждого уникального значения поля gender :\n",
            "Male      3555\n",
            "Female    3488\n",
            "Name: gender, dtype: int64\n"
          ]
        }
      ],
      "source": [
        "print(f'Количество значений для каждого уникального значения поля gender :')\n",
        "print(df[\"gender\"].value_counts())\n"
      ]
    },
    {
      "cell_type": "markdown",
      "metadata": {
        "id": "FXwqmWExZVDN"
      },
      "source": [
        "##### 2. Какое количество уникальных значений у поля InternetService? - 3: 'DSL', 'Fiber optic', 'No'"
      ]
    },
    {
      "cell_type": "code",
      "execution_count": 17,
      "metadata": {
        "id": "jm6rVxgXZVDR",
        "colab": {
          "base_uri": "https://localhost:8080/"
        },
        "outputId": "c1f20287-31ac-4c65-b6a5-bb629e528e63"
      },
      "outputs": [
        {
          "output_type": "stream",
          "name": "stdout",
          "text": [
            "Количество значений для каждого уникального значения поля InternetService :\n",
            "Fiber optic    3096\n",
            "DSL            2421\n",
            "No             1526\n",
            "Name: InternetService, dtype: int64\n",
            "Уникальные значения поля InternetService: ['DSL' 'Fiber optic' 'No']\n"
          ]
        }
      ],
      "source": [
        "print(f'Количество значений для каждого уникального значения поля InternetService :')\n",
        "print(df[\"InternetService\"].value_counts())\n",
        "\n",
        "print(f'Уникальные значения поля InternetService: {df[\"InternetService\"].unique()}')"
      ]
    },
    {
      "cell_type": "markdown",
      "metadata": {
        "id": "I65wYgfFZVDW"
      },
      "source": [
        "##### 3. Выведите статистики по полю TotalCharges (median, mean, std)."
      ]
    },
    {
      "cell_type": "code",
      "execution_count": 18,
      "metadata": {
        "id": "3vCVt4jCZVDZ",
        "colab": {
          "base_uri": "https://localhost:8080/"
        },
        "outputId": "b07a1d06-7eaa-4fe4-a286-af5a2bdc3861"
      },
      "outputs": [
        {
          "output_type": "stream",
          "name": "stdout",
          "text": [
            "Mean для поля TotalCharges: 2283.3004408418697\n",
            "Median для поля TotalCharges: 1397.475\n",
            "Std для поля TotalCharges: 2266.7713618831453\n"
          ]
        }
      ],
      "source": [
        "print(f'Mean для поля TotalCharges: {pd.to_numeric(df[\"TotalCharges\"], errors=\"coerce\").mean()}')\n",
        "print(f'Median для поля TotalCharges: {pd.to_numeric(df[\"TotalCharges\"], errors=\"coerce\").median()}')\n",
        "print(f'Std для поля TotalCharges: {pd.to_numeric(df[\"TotalCharges\"], errors=\"coerce\").std()}')"
      ]
    },
    {
      "cell_type": "markdown",
      "source": [
        "![image.png](data:image/png;base64,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)"
      ],
      "metadata": {
        "id": "n5atZJ_znEe_"
      }
    },
    {
      "cell_type": "markdown",
      "metadata": {
        "id": "5eNrTA5rZVDh"
      },
      "source": [
        "В чем странность того, что вы получили? (подсказка: смотреть нужно на тип данных) - насколько мы видим данные неравномерно распределены, смещены к значениям имеющим более низкие значения, медиана и мода не совпадают"
      ]
    },
    {
      "cell_type": "markdown",
      "metadata": {
        "id": "3Puxd-QGZVDk"
      },
      "source": [
        "##### 4. Сделайте замену значений поля PhoneService  на числовые (Yes->1, No->0)"
      ]
    },
    {
      "cell_type": "code",
      "execution_count": 19,
      "metadata": {
        "id": "vzzZHresZVDm",
        "colab": {
          "base_uri": "https://localhost:8080/",
          "height": 288
        },
        "outputId": "015ef4c4-6eea-4c73-fc89-6ce0b21d5f74"
      },
      "outputs": [
        {
          "output_type": "execute_result",
          "data": {
            "text/plain": [
              "   customerID  gender  SeniorCitizen Partner Dependents  tenure  PhoneService  \\\n",
              "0  7590-VHVEG  Female              0     Yes         No       1             0   \n",
              "1  5575-GNVDE    Male              0      No         No      34             1   \n",
              "2  3668-QPYBK    Male              0      No         No       2             1   \n",
              "\n",
              "      MultipleLines InternetService OnlineSecurity  ... DeviceProtection  \\\n",
              "0  No phone service             DSL             No  ...               No   \n",
              "1                No             DSL            Yes  ...              Yes   \n",
              "2                No             DSL            Yes  ...               No   \n",
              "\n",
              "  TechSupport StreamingTV StreamingMovies        Contract PaperlessBilling  \\\n",
              "0          No          No              No  Month-to-month              Yes   \n",
              "1          No          No              No        One year               No   \n",
              "2          No          No              No  Month-to-month              Yes   \n",
              "\n",
              "      PaymentMethod MonthlyCharges  TotalCharges Churn  \n",
              "0  Electronic check          29.85         29.85    No  \n",
              "1      Mailed check          56.95        1889.5    No  \n",
              "2      Mailed check          53.85        108.15   Yes  \n",
              "\n",
              "[3 rows x 21 columns]"
            ],
            "text/html": [
              "\n",
              "  <div id=\"df-e5c84bb6-068f-40a3-998f-7f2b11fafaba\">\n",
              "    <div class=\"colab-df-container\">\n",
              "      <div>\n",
              "<style scoped>\n",
              "    .dataframe tbody tr th:only-of-type {\n",
              "        vertical-align: middle;\n",
              "    }\n",
              "\n",
              "    .dataframe tbody tr th {\n",
              "        vertical-align: top;\n",
              "    }\n",
              "\n",
              "    .dataframe thead th {\n",
              "        text-align: right;\n",
              "    }\n",
              "</style>\n",
              "<table border=\"1\" class=\"dataframe\">\n",
              "  <thead>\n",
              "    <tr style=\"text-align: right;\">\n",
              "      <th></th>\n",
              "      <th>customerID</th>\n",
              "      <th>gender</th>\n",
              "      <th>SeniorCitizen</th>\n",
              "      <th>Partner</th>\n",
              "      <th>Dependents</th>\n",
              "      <th>tenure</th>\n",
              "      <th>PhoneService</th>\n",
              "      <th>MultipleLines</th>\n",
              "      <th>InternetService</th>\n",
              "      <th>OnlineSecurity</th>\n",
              "      <th>...</th>\n",
              "      <th>DeviceProtection</th>\n",
              "      <th>TechSupport</th>\n",
              "      <th>StreamingTV</th>\n",
              "      <th>StreamingMovies</th>\n",
              "      <th>Contract</th>\n",
              "      <th>PaperlessBilling</th>\n",
              "      <th>PaymentMethod</th>\n",
              "      <th>MonthlyCharges</th>\n",
              "      <th>TotalCharges</th>\n",
              "      <th>Churn</th>\n",
              "    </tr>\n",
              "  </thead>\n",
              "  <tbody>\n",
              "    <tr>\n",
              "      <th>0</th>\n",
              "      <td>7590-VHVEG</td>\n",
              "      <td>Female</td>\n",
              "      <td>0</td>\n",
              "      <td>Yes</td>\n",
              "      <td>No</td>\n",
              "      <td>1</td>\n",
              "      <td>0</td>\n",
              "      <td>No phone service</td>\n",
              "      <td>DSL</td>\n",
              "      <td>No</td>\n",
              "      <td>...</td>\n",
              "      <td>No</td>\n",
              "      <td>No</td>\n",
              "      <td>No</td>\n",
              "      <td>No</td>\n",
              "      <td>Month-to-month</td>\n",
              "      <td>Yes</td>\n",
              "      <td>Electronic check</td>\n",
              "      <td>29.85</td>\n",
              "      <td>29.85</td>\n",
              "      <td>No</td>\n",
              "    </tr>\n",
              "    <tr>\n",
              "      <th>1</th>\n",
              "      <td>5575-GNVDE</td>\n",
              "      <td>Male</td>\n",
              "      <td>0</td>\n",
              "      <td>No</td>\n",
              "      <td>No</td>\n",
              "      <td>34</td>\n",
              "      <td>1</td>\n",
              "      <td>No</td>\n",
              "      <td>DSL</td>\n",
              "      <td>Yes</td>\n",
              "      <td>...</td>\n",
              "      <td>Yes</td>\n",
              "      <td>No</td>\n",
              "      <td>No</td>\n",
              "      <td>No</td>\n",
              "      <td>One year</td>\n",
              "      <td>No</td>\n",
              "      <td>Mailed check</td>\n",
              "      <td>56.95</td>\n",
              "      <td>1889.5</td>\n",
              "      <td>No</td>\n",
              "    </tr>\n",
              "    <tr>\n",
              "      <th>2</th>\n",
              "      <td>3668-QPYBK</td>\n",
              "      <td>Male</td>\n",
              "      <td>0</td>\n",
              "      <td>No</td>\n",
              "      <td>No</td>\n",
              "      <td>2</td>\n",
              "      <td>1</td>\n",
              "      <td>No</td>\n",
              "      <td>DSL</td>\n",
              "      <td>Yes</td>\n",
              "      <td>...</td>\n",
              "      <td>No</td>\n",
              "      <td>No</td>\n",
              "      <td>No</td>\n",
              "      <td>No</td>\n",
              "      <td>Month-to-month</td>\n",
              "      <td>Yes</td>\n",
              "      <td>Mailed check</td>\n",
              "      <td>53.85</td>\n",
              "      <td>108.15</td>\n",
              "      <td>Yes</td>\n",
              "    </tr>\n",
              "  </tbody>\n",
              "</table>\n",
              "<p>3 rows × 21 columns</p>\n",
              "</div>\n",
              "      <button class=\"colab-df-convert\" onclick=\"convertToInteractive('df-e5c84bb6-068f-40a3-998f-7f2b11fafaba')\"\n",
              "              title=\"Convert this dataframe to an interactive table.\"\n",
              "              style=\"display:none;\">\n",
              "        \n",
              "  <svg xmlns=\"http://www.w3.org/2000/svg\" height=\"24px\"viewBox=\"0 0 24 24\"\n",
              "       width=\"24px\">\n",
              "    <path d=\"M0 0h24v24H0V0z\" fill=\"none\"/>\n",
              "    <path d=\"M18.56 5.44l.94 2.06.94-2.06 2.06-.94-2.06-.94-.94-2.06-.94 2.06-2.06.94zm-11 1L8.5 8.5l.94-2.06 2.06-.94-2.06-.94L8.5 2.5l-.94 2.06-2.06.94zm10 10l.94 2.06.94-2.06 2.06-.94-2.06-.94-.94-2.06-.94 2.06-2.06.94z\"/><path d=\"M17.41 7.96l-1.37-1.37c-.4-.4-.92-.59-1.43-.59-.52 0-1.04.2-1.43.59L10.3 9.45l-7.72 7.72c-.78.78-.78 2.05 0 2.83L4 21.41c.39.39.9.59 1.41.59.51 0 1.02-.2 1.41-.59l7.78-7.78 2.81-2.81c.8-.78.8-2.07 0-2.86zM5.41 20L4 18.59l7.72-7.72 1.47 1.35L5.41 20z\"/>\n",
              "  </svg>\n",
              "      </button>\n",
              "      \n",
              "  <style>\n",
              "    .colab-df-container {\n",
              "      display:flex;\n",
              "      flex-wrap:wrap;\n",
              "      gap: 12px;\n",
              "    }\n",
              "\n",
              "    .colab-df-convert {\n",
              "      background-color: #E8F0FE;\n",
              "      border: none;\n",
              "      border-radius: 50%;\n",
              "      cursor: pointer;\n",
              "      display: none;\n",
              "      fill: #1967D2;\n",
              "      height: 32px;\n",
              "      padding: 0 0 0 0;\n",
              "      width: 32px;\n",
              "    }\n",
              "\n",
              "    .colab-df-convert:hover {\n",
              "      background-color: #E2EBFA;\n",
              "      box-shadow: 0px 1px 2px rgba(60, 64, 67, 0.3), 0px 1px 3px 1px rgba(60, 64, 67, 0.15);\n",
              "      fill: #174EA6;\n",
              "    }\n",
              "\n",
              "    [theme=dark] .colab-df-convert {\n",
              "      background-color: #3B4455;\n",
              "      fill: #D2E3FC;\n",
              "    }\n",
              "\n",
              "    [theme=dark] .colab-df-convert:hover {\n",
              "      background-color: #434B5C;\n",
              "      box-shadow: 0px 1px 3px 1px rgba(0, 0, 0, 0.15);\n",
              "      filter: drop-shadow(0px 1px 2px rgba(0, 0, 0, 0.3));\n",
              "      fill: #FFFFFF;\n",
              "    }\n",
              "  </style>\n",
              "\n",
              "      <script>\n",
              "        const buttonEl =\n",
              "          document.querySelector('#df-e5c84bb6-068f-40a3-998f-7f2b11fafaba button.colab-df-convert');\n",
              "        buttonEl.style.display =\n",
              "          google.colab.kernel.accessAllowed ? 'block' : 'none';\n",
              "\n",
              "        async function convertToInteractive(key) {\n",
              "          const element = document.querySelector('#df-e5c84bb6-068f-40a3-998f-7f2b11fafaba');\n",
              "          const dataTable =\n",
              "            await google.colab.kernel.invokeFunction('convertToInteractive',\n",
              "                                                     [key], {});\n",
              "          if (!dataTable) return;\n",
              "\n",
              "          const docLinkHtml = 'Like what you see? Visit the ' +\n",
              "            '<a target=\"_blank\" href=https://colab.research.google.com/notebooks/data_table.ipynb>data table notebook</a>'\n",
              "            + ' to learn more about interactive tables.';\n",
              "          element.innerHTML = '';\n",
              "          dataTable['output_type'] = 'display_data';\n",
              "          await google.colab.output.renderOutput(dataTable, element);\n",
              "          const docLink = document.createElement('div');\n",
              "          docLink.innerHTML = docLinkHtml;\n",
              "          element.appendChild(docLink);\n",
              "        }\n",
              "      </script>\n",
              "    </div>\n",
              "  </div>\n",
              "  "
            ]
          },
          "metadata": {},
          "execution_count": 19
        }
      ],
      "source": [
        "from sklearn.preprocessing import LabelEncoder\n",
        "labelencoder = LabelEncoder()\n",
        "df[\"PhoneService\"] = labelencoder.fit_transform(df[\"PhoneService\"])\n",
        "df.head(3)"
      ]
    },
    {
      "cell_type": "markdown",
      "metadata": {
        "id": "6yGo5lt7ZVDo"
      },
      "source": [
        "##### 5. Сделайте замену пробелов в поле TotalCharges на np.nan и приведите поле к типу данных float32. Затем заполните оставшиеся пропуски значением 0 с помощью метода fillna у столбца. Снова выведите статистики и сравните с тем, что вы видели в вопросе 3. Так как пропусков было немного и мы заменили их нулями, то видим почти то же самое распределение."
      ]
    },
    {
      "cell_type": "code",
      "source": [
        "df[\"TotalCharges\"]=np.where(df[\"TotalCharges\"] ==' ', np.nan, df[\"TotalCharges\"])\n",
        "\n",
        "# np.where(df[\"TotalCharges\"].isna())\n",
        "\n",
        "\n",
        "df[\"TotalCharges\"] = df[\"TotalCharges\"].astype('float32')\n",
        "df[\"TotalCharges\"] = df[\"TotalCharges\"].fillna(0)\n",
        "\n",
        "\n",
        "print(f'Mean для поля TotalCharges: {pd.to_numeric(df[\"TotalCharges\"], errors=\"coerce\").mean()}')\n",
        "print(f'Median для поля TotalCharges: {pd.to_numeric(df[\"TotalCharges\"], errors=\"coerce\").median()}')\n",
        "print(f'Std для поля TotalCharges: {pd.to_numeric(df[\"TotalCharges\"], errors=\"coerce\").std()}')\n",
        "np.where(df[\"TotalCharges\"] == 0)\n"
      ],
      "metadata": {
        "colab": {
          "base_uri": "https://localhost:8080/"
        },
        "id": "sja0QyYc-zLz",
        "outputId": "c2b0c546-b67b-4e3a-8357-c12c108501ec"
      },
      "execution_count": 23,
      "outputs": [
        {
          "output_type": "stream",
          "name": "stdout",
          "text": [
            "Mean для поля TotalCharges: 2279.732177734375\n",
            "Median для поля TotalCharges: 1394.550048828125\n",
            "Std для поля TotalCharges: 2266.79443359375\n"
          ]
        },
        {
          "output_type": "execute_result",
          "data": {
            "text/plain": [
              "(array([ 488,  753,  936, 1082, 1340, 3331, 3826, 4380, 5218, 6670, 6754]),)"
            ]
          },
          "metadata": {},
          "execution_count": 23
        }
      ]
    },
    {
      "cell_type": "markdown",
      "source": [
        "![image.png](data:image/png;base64,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)"
      ],
      "metadata": {
        "id": "2XdikAc_pTzf"
      }
    },
    {
      "cell_type": "markdown",
      "metadata": {
        "id": "rXFGZ9rgZVDr"
      },
      "source": [
        "##### 6. Сделайте замену значений поля Churn на числовые (Yes -> 1, No - 0)"
      ]
    },
    {
      "cell_type": "code",
      "execution_count": 24,
      "metadata": {
        "id": "-SE3uL-kZVDw",
        "colab": {
          "base_uri": "https://localhost:8080/",
          "height": 288
        },
        "outputId": "cd30acdd-dbac-4e75-c0e4-dcea0ed40d6a"
      },
      "outputs": [
        {
          "output_type": "execute_result",
          "data": {
            "text/plain": [
              "   customerID  gender  SeniorCitizen Partner Dependents  tenure  PhoneService  \\\n",
              "0  7590-VHVEG  Female              0     Yes         No       1             0   \n",
              "1  5575-GNVDE    Male              0      No         No      34             1   \n",
              "2  3668-QPYBK    Male              0      No         No       2             1   \n",
              "\n",
              "      MultipleLines InternetService OnlineSecurity  ... DeviceProtection  \\\n",
              "0  No phone service             DSL             No  ...               No   \n",
              "1                No             DSL            Yes  ...              Yes   \n",
              "2                No             DSL            Yes  ...               No   \n",
              "\n",
              "  TechSupport StreamingTV StreamingMovies        Contract PaperlessBilling  \\\n",
              "0          No          No              No  Month-to-month              Yes   \n",
              "1          No          No              No        One year               No   \n",
              "2          No          No              No  Month-to-month              Yes   \n",
              "\n",
              "      PaymentMethod MonthlyCharges  TotalCharges  Churn  \n",
              "0  Electronic check          29.85     29.850000      0  \n",
              "1      Mailed check          56.95   1889.500000      0  \n",
              "2      Mailed check          53.85    108.150002      1  \n",
              "\n",
              "[3 rows x 21 columns]"
            ],
            "text/html": [
              "\n",
              "  <div id=\"df-3ba4086d-62e1-49d5-a379-4f184da3f848\">\n",
              "    <div class=\"colab-df-container\">\n",
              "      <div>\n",
              "<style scoped>\n",
              "    .dataframe tbody tr th:only-of-type {\n",
              "        vertical-align: middle;\n",
              "    }\n",
              "\n",
              "    .dataframe tbody tr th {\n",
              "        vertical-align: top;\n",
              "    }\n",
              "\n",
              "    .dataframe thead th {\n",
              "        text-align: right;\n",
              "    }\n",
              "</style>\n",
              "<table border=\"1\" class=\"dataframe\">\n",
              "  <thead>\n",
              "    <tr style=\"text-align: right;\">\n",
              "      <th></th>\n",
              "      <th>customerID</th>\n",
              "      <th>gender</th>\n",
              "      <th>SeniorCitizen</th>\n",
              "      <th>Partner</th>\n",
              "      <th>Dependents</th>\n",
              "      <th>tenure</th>\n",
              "      <th>PhoneService</th>\n",
              "      <th>MultipleLines</th>\n",
              "      <th>InternetService</th>\n",
              "      <th>OnlineSecurity</th>\n",
              "      <th>...</th>\n",
              "      <th>DeviceProtection</th>\n",
              "      <th>TechSupport</th>\n",
              "      <th>StreamingTV</th>\n",
              "      <th>StreamingMovies</th>\n",
              "      <th>Contract</th>\n",
              "      <th>PaperlessBilling</th>\n",
              "      <th>PaymentMethod</th>\n",
              "      <th>MonthlyCharges</th>\n",
              "      <th>TotalCharges</th>\n",
              "      <th>Churn</th>\n",
              "    </tr>\n",
              "  </thead>\n",
              "  <tbody>\n",
              "    <tr>\n",
              "      <th>0</th>\n",
              "      <td>7590-VHVEG</td>\n",
              "      <td>Female</td>\n",
              "      <td>0</td>\n",
              "      <td>Yes</td>\n",
              "      <td>No</td>\n",
              "      <td>1</td>\n",
              "      <td>0</td>\n",
              "      <td>No phone service</td>\n",
              "      <td>DSL</td>\n",
              "      <td>No</td>\n",
              "      <td>...</td>\n",
              "      <td>No</td>\n",
              "      <td>No</td>\n",
              "      <td>No</td>\n",
              "      <td>No</td>\n",
              "      <td>Month-to-month</td>\n",
              "      <td>Yes</td>\n",
              "      <td>Electronic check</td>\n",
              "      <td>29.85</td>\n",
              "      <td>29.850000</td>\n",
              "      <td>0</td>\n",
              "    </tr>\n",
              "    <tr>\n",
              "      <th>1</th>\n",
              "      <td>5575-GNVDE</td>\n",
              "      <td>Male</td>\n",
              "      <td>0</td>\n",
              "      <td>No</td>\n",
              "      <td>No</td>\n",
              "      <td>34</td>\n",
              "      <td>1</td>\n",
              "      <td>No</td>\n",
              "      <td>DSL</td>\n",
              "      <td>Yes</td>\n",
              "      <td>...</td>\n",
              "      <td>Yes</td>\n",
              "      <td>No</td>\n",
              "      <td>No</td>\n",
              "      <td>No</td>\n",
              "      <td>One year</td>\n",
              "      <td>No</td>\n",
              "      <td>Mailed check</td>\n",
              "      <td>56.95</td>\n",
              "      <td>1889.500000</td>\n",
              "      <td>0</td>\n",
              "    </tr>\n",
              "    <tr>\n",
              "      <th>2</th>\n",
              "      <td>3668-QPYBK</td>\n",
              "      <td>Male</td>\n",
              "      <td>0</td>\n",
              "      <td>No</td>\n",
              "      <td>No</td>\n",
              "      <td>2</td>\n",
              "      <td>1</td>\n",
              "      <td>No</td>\n",
              "      <td>DSL</td>\n",
              "      <td>Yes</td>\n",
              "      <td>...</td>\n",
              "      <td>No</td>\n",
              "      <td>No</td>\n",
              "      <td>No</td>\n",
              "      <td>No</td>\n",
              "      <td>Month-to-month</td>\n",
              "      <td>Yes</td>\n",
              "      <td>Mailed check</td>\n",
              "      <td>53.85</td>\n",
              "      <td>108.150002</td>\n",
              "      <td>1</td>\n",
              "    </tr>\n",
              "  </tbody>\n",
              "</table>\n",
              "<p>3 rows × 21 columns</p>\n",
              "</div>\n",
              "      <button class=\"colab-df-convert\" onclick=\"convertToInteractive('df-3ba4086d-62e1-49d5-a379-4f184da3f848')\"\n",
              "              title=\"Convert this dataframe to an interactive table.\"\n",
              "              style=\"display:none;\">\n",
              "        \n",
              "  <svg xmlns=\"http://www.w3.org/2000/svg\" height=\"24px\"viewBox=\"0 0 24 24\"\n",
              "       width=\"24px\">\n",
              "    <path d=\"M0 0h24v24H0V0z\" fill=\"none\"/>\n",
              "    <path d=\"M18.56 5.44l.94 2.06.94-2.06 2.06-.94-2.06-.94-.94-2.06-.94 2.06-2.06.94zm-11 1L8.5 8.5l.94-2.06 2.06-.94-2.06-.94L8.5 2.5l-.94 2.06-2.06.94zm10 10l.94 2.06.94-2.06 2.06-.94-2.06-.94-.94-2.06-.94 2.06-2.06.94z\"/><path d=\"M17.41 7.96l-1.37-1.37c-.4-.4-.92-.59-1.43-.59-.52 0-1.04.2-1.43.59L10.3 9.45l-7.72 7.72c-.78.78-.78 2.05 0 2.83L4 21.41c.39.39.9.59 1.41.59.51 0 1.02-.2 1.41-.59l7.78-7.78 2.81-2.81c.8-.78.8-2.07 0-2.86zM5.41 20L4 18.59l7.72-7.72 1.47 1.35L5.41 20z\"/>\n",
              "  </svg>\n",
              "      </button>\n",
              "      \n",
              "  <style>\n",
              "    .colab-df-container {\n",
              "      display:flex;\n",
              "      flex-wrap:wrap;\n",
              "      gap: 12px;\n",
              "    }\n",
              "\n",
              "    .colab-df-convert {\n",
              "      background-color: #E8F0FE;\n",
              "      border: none;\n",
              "      border-radius: 50%;\n",
              "      cursor: pointer;\n",
              "      display: none;\n",
              "      fill: #1967D2;\n",
              "      height: 32px;\n",
              "      padding: 0 0 0 0;\n",
              "      width: 32px;\n",
              "    }\n",
              "\n",
              "    .colab-df-convert:hover {\n",
              "      background-color: #E2EBFA;\n",
              "      box-shadow: 0px 1px 2px rgba(60, 64, 67, 0.3), 0px 1px 3px 1px rgba(60, 64, 67, 0.15);\n",
              "      fill: #174EA6;\n",
              "    }\n",
              "\n",
              "    [theme=dark] .colab-df-convert {\n",
              "      background-color: #3B4455;\n",
              "      fill: #D2E3FC;\n",
              "    }\n",
              "\n",
              "    [theme=dark] .colab-df-convert:hover {\n",
              "      background-color: #434B5C;\n",
              "      box-shadow: 0px 1px 3px 1px rgba(0, 0, 0, 0.15);\n",
              "      filter: drop-shadow(0px 1px 2px rgba(0, 0, 0, 0.3));\n",
              "      fill: #FFFFFF;\n",
              "    }\n",
              "  </style>\n",
              "\n",
              "      <script>\n",
              "        const buttonEl =\n",
              "          document.querySelector('#df-3ba4086d-62e1-49d5-a379-4f184da3f848 button.colab-df-convert');\n",
              "        buttonEl.style.display =\n",
              "          google.colab.kernel.accessAllowed ? 'block' : 'none';\n",
              "\n",
              "        async function convertToInteractive(key) {\n",
              "          const element = document.querySelector('#df-3ba4086d-62e1-49d5-a379-4f184da3f848');\n",
              "          const dataTable =\n",
              "            await google.colab.kernel.invokeFunction('convertToInteractive',\n",
              "                                                     [key], {});\n",
              "          if (!dataTable) return;\n",
              "\n",
              "          const docLinkHtml = 'Like what you see? Visit the ' +\n",
              "            '<a target=\"_blank\" href=https://colab.research.google.com/notebooks/data_table.ipynb>data table notebook</a>'\n",
              "            + ' to learn more about interactive tables.';\n",
              "          element.innerHTML = '';\n",
              "          dataTable['output_type'] = 'display_data';\n",
              "          await google.colab.output.renderOutput(dataTable, element);\n",
              "          const docLink = document.createElement('div');\n",
              "          docLink.innerHTML = docLinkHtml;\n",
              "          element.appendChild(docLink);\n",
              "        }\n",
              "      </script>\n",
              "    </div>\n",
              "  </div>\n",
              "  "
            ]
          },
          "metadata": {},
          "execution_count": 24
        }
      ],
      "source": [
        "from sklearn.preprocessing import LabelEncoder\n",
        "labelencoder = LabelEncoder()\n",
        "df[\"Churn\"] = labelencoder.fit_transform(df[\"Churn\"])\n",
        "df.head(3)"
      ]
    },
    {
      "cell_type": "markdown",
      "metadata": {
        "id": "tQxxX1zUZVDx"
      },
      "source": [
        "##### 7. Сделайте замену значений полей StreamingMovies, StreamingTV, TechSupport  на числовые (Yes -> 1, No -> 0, No internet service->0)"
      ]
    },
    {
      "cell_type": "code",
      "execution_count": 25,
      "metadata": {
        "id": "ai8Fh09UZVDz",
        "colab": {
          "base_uri": "https://localhost:8080/",
          "height": 288
        },
        "outputId": "25b54e76-e430-417e-91e0-0ea4a0a07884"
      },
      "outputs": [
        {
          "output_type": "execute_result",
          "data": {
            "text/plain": [
              "   customerID  gender  SeniorCitizen Partner Dependents  tenure  PhoneService  \\\n",
              "0  7590-VHVEG  Female              0     Yes         No       1             0   \n",
              "1  5575-GNVDE    Male              0      No         No      34             1   \n",
              "2  3668-QPYBK    Male              0      No         No       2             1   \n",
              "\n",
              "      MultipleLines InternetService OnlineSecurity  ... DeviceProtection  \\\n",
              "0  No phone service             DSL             No  ...               No   \n",
              "1                No             DSL            Yes  ...              Yes   \n",
              "2                No             DSL            Yes  ...               No   \n",
              "\n",
              "  TechSupport  StreamingTV  StreamingMovies        Contract PaperlessBilling  \\\n",
              "0           0            0                0  Month-to-month              Yes   \n",
              "1           0            0                0        One year               No   \n",
              "2           0            0                0  Month-to-month              Yes   \n",
              "\n",
              "      PaymentMethod MonthlyCharges  TotalCharges  Churn  \n",
              "0  Electronic check          29.85     29.850000      0  \n",
              "1      Mailed check          56.95   1889.500000      0  \n",
              "2      Mailed check          53.85    108.150002      1  \n",
              "\n",
              "[3 rows x 21 columns]"
            ],
            "text/html": [
              "\n",
              "  <div id=\"df-29e8c90f-97e6-4d81-ac79-6ec9d7db1de7\">\n",
              "    <div class=\"colab-df-container\">\n",
              "      <div>\n",
              "<style scoped>\n",
              "    .dataframe tbody tr th:only-of-type {\n",
              "        vertical-align: middle;\n",
              "    }\n",
              "\n",
              "    .dataframe tbody tr th {\n",
              "        vertical-align: top;\n",
              "    }\n",
              "\n",
              "    .dataframe thead th {\n",
              "        text-align: right;\n",
              "    }\n",
              "</style>\n",
              "<table border=\"1\" class=\"dataframe\">\n",
              "  <thead>\n",
              "    <tr style=\"text-align: right;\">\n",
              "      <th></th>\n",
              "      <th>customerID</th>\n",
              "      <th>gender</th>\n",
              "      <th>SeniorCitizen</th>\n",
              "      <th>Partner</th>\n",
              "      <th>Dependents</th>\n",
              "      <th>tenure</th>\n",
              "      <th>PhoneService</th>\n",
              "      <th>MultipleLines</th>\n",
              "      <th>InternetService</th>\n",
              "      <th>OnlineSecurity</th>\n",
              "      <th>...</th>\n",
              "      <th>DeviceProtection</th>\n",
              "      <th>TechSupport</th>\n",
              "      <th>StreamingTV</th>\n",
              "      <th>StreamingMovies</th>\n",
              "      <th>Contract</th>\n",
              "      <th>PaperlessBilling</th>\n",
              "      <th>PaymentMethod</th>\n",
              "      <th>MonthlyCharges</th>\n",
              "      <th>TotalCharges</th>\n",
              "      <th>Churn</th>\n",
              "    </tr>\n",
              "  </thead>\n",
              "  <tbody>\n",
              "    <tr>\n",
              "      <th>0</th>\n",
              "      <td>7590-VHVEG</td>\n",
              "      <td>Female</td>\n",
              "      <td>0</td>\n",
              "      <td>Yes</td>\n",
              "      <td>No</td>\n",
              "      <td>1</td>\n",
              "      <td>0</td>\n",
              "      <td>No phone service</td>\n",
              "      <td>DSL</td>\n",
              "      <td>No</td>\n",
              "      <td>...</td>\n",
              "      <td>No</td>\n",
              "      <td>0</td>\n",
              "      <td>0</td>\n",
              "      <td>0</td>\n",
              "      <td>Month-to-month</td>\n",
              "      <td>Yes</td>\n",
              "      <td>Electronic check</td>\n",
              "      <td>29.85</td>\n",
              "      <td>29.850000</td>\n",
              "      <td>0</td>\n",
              "    </tr>\n",
              "    <tr>\n",
              "      <th>1</th>\n",
              "      <td>5575-GNVDE</td>\n",
              "      <td>Male</td>\n",
              "      <td>0</td>\n",
              "      <td>No</td>\n",
              "      <td>No</td>\n",
              "      <td>34</td>\n",
              "      <td>1</td>\n",
              "      <td>No</td>\n",
              "      <td>DSL</td>\n",
              "      <td>Yes</td>\n",
              "      <td>...</td>\n",
              "      <td>Yes</td>\n",
              "      <td>0</td>\n",
              "      <td>0</td>\n",
              "      <td>0</td>\n",
              "      <td>One year</td>\n",
              "      <td>No</td>\n",
              "      <td>Mailed check</td>\n",
              "      <td>56.95</td>\n",
              "      <td>1889.500000</td>\n",
              "      <td>0</td>\n",
              "    </tr>\n",
              "    <tr>\n",
              "      <th>2</th>\n",
              "      <td>3668-QPYBK</td>\n",
              "      <td>Male</td>\n",
              "      <td>0</td>\n",
              "      <td>No</td>\n",
              "      <td>No</td>\n",
              "      <td>2</td>\n",
              "      <td>1</td>\n",
              "      <td>No</td>\n",
              "      <td>DSL</td>\n",
              "      <td>Yes</td>\n",
              "      <td>...</td>\n",
              "      <td>No</td>\n",
              "      <td>0</td>\n",
              "      <td>0</td>\n",
              "      <td>0</td>\n",
              "      <td>Month-to-month</td>\n",
              "      <td>Yes</td>\n",
              "      <td>Mailed check</td>\n",
              "      <td>53.85</td>\n",
              "      <td>108.150002</td>\n",
              "      <td>1</td>\n",
              "    </tr>\n",
              "  </tbody>\n",
              "</table>\n",
              "<p>3 rows × 21 columns</p>\n",
              "</div>\n",
              "      <button class=\"colab-df-convert\" onclick=\"convertToInteractive('df-29e8c90f-97e6-4d81-ac79-6ec9d7db1de7')\"\n",
              "              title=\"Convert this dataframe to an interactive table.\"\n",
              "              style=\"display:none;\">\n",
              "        \n",
              "  <svg xmlns=\"http://www.w3.org/2000/svg\" height=\"24px\"viewBox=\"0 0 24 24\"\n",
              "       width=\"24px\">\n",
              "    <path d=\"M0 0h24v24H0V0z\" fill=\"none\"/>\n",
              "    <path d=\"M18.56 5.44l.94 2.06.94-2.06 2.06-.94-2.06-.94-.94-2.06-.94 2.06-2.06.94zm-11 1L8.5 8.5l.94-2.06 2.06-.94-2.06-.94L8.5 2.5l-.94 2.06-2.06.94zm10 10l.94 2.06.94-2.06 2.06-.94-2.06-.94-.94-2.06-.94 2.06-2.06.94z\"/><path d=\"M17.41 7.96l-1.37-1.37c-.4-.4-.92-.59-1.43-.59-.52 0-1.04.2-1.43.59L10.3 9.45l-7.72 7.72c-.78.78-.78 2.05 0 2.83L4 21.41c.39.39.9.59 1.41.59.51 0 1.02-.2 1.41-.59l7.78-7.78 2.81-2.81c.8-.78.8-2.07 0-2.86zM5.41 20L4 18.59l7.72-7.72 1.47 1.35L5.41 20z\"/>\n",
              "  </svg>\n",
              "      </button>\n",
              "      \n",
              "  <style>\n",
              "    .colab-df-container {\n",
              "      display:flex;\n",
              "      flex-wrap:wrap;\n",
              "      gap: 12px;\n",
              "    }\n",
              "\n",
              "    .colab-df-convert {\n",
              "      background-color: #E8F0FE;\n",
              "      border: none;\n",
              "      border-radius: 50%;\n",
              "      cursor: pointer;\n",
              "      display: none;\n",
              "      fill: #1967D2;\n",
              "      height: 32px;\n",
              "      padding: 0 0 0 0;\n",
              "      width: 32px;\n",
              "    }\n",
              "\n",
              "    .colab-df-convert:hover {\n",
              "      background-color: #E2EBFA;\n",
              "      box-shadow: 0px 1px 2px rgba(60, 64, 67, 0.3), 0px 1px 3px 1px rgba(60, 64, 67, 0.15);\n",
              "      fill: #174EA6;\n",
              "    }\n",
              "\n",
              "    [theme=dark] .colab-df-convert {\n",
              "      background-color: #3B4455;\n",
              "      fill: #D2E3FC;\n",
              "    }\n",
              "\n",
              "    [theme=dark] .colab-df-convert:hover {\n",
              "      background-color: #434B5C;\n",
              "      box-shadow: 0px 1px 3px 1px rgba(0, 0, 0, 0.15);\n",
              "      filter: drop-shadow(0px 1px 2px rgba(0, 0, 0, 0.3));\n",
              "      fill: #FFFFFF;\n",
              "    }\n",
              "  </style>\n",
              "\n",
              "      <script>\n",
              "        const buttonEl =\n",
              "          document.querySelector('#df-29e8c90f-97e6-4d81-ac79-6ec9d7db1de7 button.colab-df-convert');\n",
              "        buttonEl.style.display =\n",
              "          google.colab.kernel.accessAllowed ? 'block' : 'none';\n",
              "\n",
              "        async function convertToInteractive(key) {\n",
              "          const element = document.querySelector('#df-29e8c90f-97e6-4d81-ac79-6ec9d7db1de7');\n",
              "          const dataTable =\n",
              "            await google.colab.kernel.invokeFunction('convertToInteractive',\n",
              "                                                     [key], {});\n",
              "          if (!dataTable) return;\n",
              "\n",
              "          const docLinkHtml = 'Like what you see? Visit the ' +\n",
              "            '<a target=\"_blank\" href=https://colab.research.google.com/notebooks/data_table.ipynb>data table notebook</a>'\n",
              "            + ' to learn more about interactive tables.';\n",
              "          element.innerHTML = '';\n",
              "          dataTable['output_type'] = 'display_data';\n",
              "          await google.colab.output.renderOutput(dataTable, element);\n",
              "          const docLink = document.createElement('div');\n",
              "          docLink.innerHTML = docLinkHtml;\n",
              "          element.appendChild(docLink);\n",
              "        }\n",
              "      </script>\n",
              "    </div>\n",
              "  </div>\n",
              "  "
            ]
          },
          "metadata": {},
          "execution_count": 25
        }
      ],
      "source": [
        "from sklearn.preprocessing import LabelEncoder\n",
        "labelencoder = LabelEncoder()\n",
        "df[\"StreamingMovies\"] = labelencoder.fit_transform(df[\"StreamingMovies\"])\n",
        "df[\"StreamingTV\"] = labelencoder.fit_transform(df[\"StreamingTV\"])\n",
        "df[\"TechSupport\"] = labelencoder.fit_transform(df[\"TechSupport\"])\n",
        "df.head(3)"
      ]
    },
    {
      "cell_type": "markdown",
      "metadata": {
        "id": "aIqWmj4RZVD1"
      },
      "source": [
        "##### 8. Заполните пропуски в поле PhoneService значением 0"
      ]
    },
    {
      "cell_type": "code",
      "execution_count": 26,
      "metadata": {
        "id": "8N8zvLsHZVD3"
      },
      "outputs": [],
      "source": [
        "df[\"PhoneService\"] = df[\"PhoneService\"].fillna(0)"
      ]
    },
    {
      "cell_type": "markdown",
      "metadata": {
        "id": "LatJ0ju1ZVD7"
      },
      "source": [
        "##### 8. Для нашего датасета оставьте только указанный ниже список полей, удалив все другие и выведите верхние 3 строки"
      ]
    },
    {
      "cell_type": "code",
      "execution_count": 27,
      "metadata": {
        "id": "WnvPU0o3ZVD-",
        "colab": {
          "base_uri": "https://localhost:8080/",
          "height": 143
        },
        "outputId": "df0a3b9b-fd99-4686-81d7-5f552f1ba74a"
      },
      "outputs": [
        {
          "output_type": "execute_result",
          "data": {
            "text/plain": [
              "   gender  tenure  PhoneService  TotalCharges  StreamingMovies  StreamingTV  \\\n",
              "0  Female       1             0     29.850000                0            0   \n",
              "1    Male      34             1   1889.500000                0            0   \n",
              "2    Male       2             1    108.150002                0            0   \n",
              "\n",
              "   TechSupport  Churn  \n",
              "0            0      0  \n",
              "1            0      0  \n",
              "2            0      1  "
            ],
            "text/html": [
              "\n",
              "  <div id=\"df-95e5e9cb-0a73-4408-aa2a-3da44a2abc55\">\n",
              "    <div class=\"colab-df-container\">\n",
              "      <div>\n",
              "<style scoped>\n",
              "    .dataframe tbody tr th:only-of-type {\n",
              "        vertical-align: middle;\n",
              "    }\n",
              "\n",
              "    .dataframe tbody tr th {\n",
              "        vertical-align: top;\n",
              "    }\n",
              "\n",
              "    .dataframe thead th {\n",
              "        text-align: right;\n",
              "    }\n",
              "</style>\n",
              "<table border=\"1\" class=\"dataframe\">\n",
              "  <thead>\n",
              "    <tr style=\"text-align: right;\">\n",
              "      <th></th>\n",
              "      <th>gender</th>\n",
              "      <th>tenure</th>\n",
              "      <th>PhoneService</th>\n",
              "      <th>TotalCharges</th>\n",
              "      <th>StreamingMovies</th>\n",
              "      <th>StreamingTV</th>\n",
              "      <th>TechSupport</th>\n",
              "      <th>Churn</th>\n",
              "    </tr>\n",
              "  </thead>\n",
              "  <tbody>\n",
              "    <tr>\n",
              "      <th>0</th>\n",
              "      <td>Female</td>\n",
              "      <td>1</td>\n",
              "      <td>0</td>\n",
              "      <td>29.850000</td>\n",
              "      <td>0</td>\n",
              "      <td>0</td>\n",
              "      <td>0</td>\n",
              "      <td>0</td>\n",
              "    </tr>\n",
              "    <tr>\n",
              "      <th>1</th>\n",
              "      <td>Male</td>\n",
              "      <td>34</td>\n",
              "      <td>1</td>\n",
              "      <td>1889.500000</td>\n",
              "      <td>0</td>\n",
              "      <td>0</td>\n",
              "      <td>0</td>\n",
              "      <td>0</td>\n",
              "    </tr>\n",
              "    <tr>\n",
              "      <th>2</th>\n",
              "      <td>Male</td>\n",
              "      <td>2</td>\n",
              "      <td>1</td>\n",
              "      <td>108.150002</td>\n",
              "      <td>0</td>\n",
              "      <td>0</td>\n",
              "      <td>0</td>\n",
              "      <td>1</td>\n",
              "    </tr>\n",
              "  </tbody>\n",
              "</table>\n",
              "</div>\n",
              "      <button class=\"colab-df-convert\" onclick=\"convertToInteractive('df-95e5e9cb-0a73-4408-aa2a-3da44a2abc55')\"\n",
              "              title=\"Convert this dataframe to an interactive table.\"\n",
              "              style=\"display:none;\">\n",
              "        \n",
              "  <svg xmlns=\"http://www.w3.org/2000/svg\" height=\"24px\"viewBox=\"0 0 24 24\"\n",
              "       width=\"24px\">\n",
              "    <path d=\"M0 0h24v24H0V0z\" fill=\"none\"/>\n",
              "    <path d=\"M18.56 5.44l.94 2.06.94-2.06 2.06-.94-2.06-.94-.94-2.06-.94 2.06-2.06.94zm-11 1L8.5 8.5l.94-2.06 2.06-.94-2.06-.94L8.5 2.5l-.94 2.06-2.06.94zm10 10l.94 2.06.94-2.06 2.06-.94-2.06-.94-.94-2.06-.94 2.06-2.06.94z\"/><path d=\"M17.41 7.96l-1.37-1.37c-.4-.4-.92-.59-1.43-.59-.52 0-1.04.2-1.43.59L10.3 9.45l-7.72 7.72c-.78.78-.78 2.05 0 2.83L4 21.41c.39.39.9.59 1.41.59.51 0 1.02-.2 1.41-.59l7.78-7.78 2.81-2.81c.8-.78.8-2.07 0-2.86zM5.41 20L4 18.59l7.72-7.72 1.47 1.35L5.41 20z\"/>\n",
              "  </svg>\n",
              "      </button>\n",
              "      \n",
              "  <style>\n",
              "    .colab-df-container {\n",
              "      display:flex;\n",
              "      flex-wrap:wrap;\n",
              "      gap: 12px;\n",
              "    }\n",
              "\n",
              "    .colab-df-convert {\n",
              "      background-color: #E8F0FE;\n",
              "      border: none;\n",
              "      border-radius: 50%;\n",
              "      cursor: pointer;\n",
              "      display: none;\n",
              "      fill: #1967D2;\n",
              "      height: 32px;\n",
              "      padding: 0 0 0 0;\n",
              "      width: 32px;\n",
              "    }\n",
              "\n",
              "    .colab-df-convert:hover {\n",
              "      background-color: #E2EBFA;\n",
              "      box-shadow: 0px 1px 2px rgba(60, 64, 67, 0.3), 0px 1px 3px 1px rgba(60, 64, 67, 0.15);\n",
              "      fill: #174EA6;\n",
              "    }\n",
              "\n",
              "    [theme=dark] .colab-df-convert {\n",
              "      background-color: #3B4455;\n",
              "      fill: #D2E3FC;\n",
              "    }\n",
              "\n",
              "    [theme=dark] .colab-df-convert:hover {\n",
              "      background-color: #434B5C;\n",
              "      box-shadow: 0px 1px 3px 1px rgba(0, 0, 0, 0.15);\n",
              "      filter: drop-shadow(0px 1px 2px rgba(0, 0, 0, 0.3));\n",
              "      fill: #FFFFFF;\n",
              "    }\n",
              "  </style>\n",
              "\n",
              "      <script>\n",
              "        const buttonEl =\n",
              "          document.querySelector('#df-95e5e9cb-0a73-4408-aa2a-3da44a2abc55 button.colab-df-convert');\n",
              "        buttonEl.style.display =\n",
              "          google.colab.kernel.accessAllowed ? 'block' : 'none';\n",
              "\n",
              "        async function convertToInteractive(key) {\n",
              "          const element = document.querySelector('#df-95e5e9cb-0a73-4408-aa2a-3da44a2abc55');\n",
              "          const dataTable =\n",
              "            await google.colab.kernel.invokeFunction('convertToInteractive',\n",
              "                                                     [key], {});\n",
              "          if (!dataTable) return;\n",
              "\n",
              "          const docLinkHtml = 'Like what you see? Visit the ' +\n",
              "            '<a target=\"_blank\" href=https://colab.research.google.com/notebooks/data_table.ipynb>data table notebook</a>'\n",
              "            + ' to learn more about interactive tables.';\n",
              "          element.innerHTML = '';\n",
              "          dataTable['output_type'] = 'display_data';\n",
              "          await google.colab.output.renderOutput(dataTable, element);\n",
              "          const docLink = document.createElement('div');\n",
              "          docLink.innerHTML = docLinkHtml;\n",
              "          element.appendChild(docLink);\n",
              "        }\n",
              "      </script>\n",
              "    </div>\n",
              "  </div>\n",
              "  "
            ]
          },
          "metadata": {},
          "execution_count": 27
        }
      ],
      "source": [
        "columns = ['gender', 'tenure', 'PhoneService', 'TotalCharges', \n",
        "           'StreamingMovies', 'StreamingTV', 'TechSupport', 'Churn']\n",
        "\n",
        "df_final = df[columns].copy()\n",
        "\n",
        "df_final.head(3)\n"
      ]
    },
    {
      "cell_type": "markdown",
      "metadata": {
        "id": "QllKYU_eZVEB"
      },
      "source": [
        "##### 9. Разделите датасет на тренировочную и тестовую выборку."
      ]
    },
    {
      "cell_type": "code",
      "execution_count": 28,
      "metadata": {
        "id": "O2BBQJR_ZVEE",
        "colab": {
          "base_uri": "https://localhost:8080/",
          "height": 206
        },
        "outputId": "0a301efd-431a-4035-cdd0-2b1059cedcc8"
      },
      "outputs": [
        {
          "output_type": "execute_result",
          "data": {
            "text/plain": [
              "      gender  tenure  PhoneService  TotalCharges  StreamingMovies  \\\n",
              "3296  Female      24             1   1233.250000                0   \n",
              "6397    Male      54             1   3529.949951                2   \n",
              "6043    Male       3             0    130.750000                0   \n",
              "5309  Female      61             1   1278.800049                1   \n",
              "3000    Male      12             1   1059.550049                0   \n",
              "\n",
              "      StreamingTV  TechSupport  Churn  \n",
              "3296            0            0      0  \n",
              "6397            0            2      0  \n",
              "6043            2            0      1  \n",
              "5309            1            1      0  \n",
              "3000            2            0      1  "
            ],
            "text/html": [
              "\n",
              "  <div id=\"df-e274f5bf-f218-4142-959c-a8a733b2c803\">\n",
              "    <div class=\"colab-df-container\">\n",
              "      <div>\n",
              "<style scoped>\n",
              "    .dataframe tbody tr th:only-of-type {\n",
              "        vertical-align: middle;\n",
              "    }\n",
              "\n",
              "    .dataframe tbody tr th {\n",
              "        vertical-align: top;\n",
              "    }\n",
              "\n",
              "    .dataframe thead th {\n",
              "        text-align: right;\n",
              "    }\n",
              "</style>\n",
              "<table border=\"1\" class=\"dataframe\">\n",
              "  <thead>\n",
              "    <tr style=\"text-align: right;\">\n",
              "      <th></th>\n",
              "      <th>gender</th>\n",
              "      <th>tenure</th>\n",
              "      <th>PhoneService</th>\n",
              "      <th>TotalCharges</th>\n",
              "      <th>StreamingMovies</th>\n",
              "      <th>StreamingTV</th>\n",
              "      <th>TechSupport</th>\n",
              "      <th>Churn</th>\n",
              "    </tr>\n",
              "  </thead>\n",
              "  <tbody>\n",
              "    <tr>\n",
              "      <th>3296</th>\n",
              "      <td>Female</td>\n",
              "      <td>24</td>\n",
              "      <td>1</td>\n",
              "      <td>1233.250000</td>\n",
              "      <td>0</td>\n",
              "      <td>0</td>\n",
              "      <td>0</td>\n",
              "      <td>0</td>\n",
              "    </tr>\n",
              "    <tr>\n",
              "      <th>6397</th>\n",
              "      <td>Male</td>\n",
              "      <td>54</td>\n",
              "      <td>1</td>\n",
              "      <td>3529.949951</td>\n",
              "      <td>2</td>\n",
              "      <td>0</td>\n",
              "      <td>2</td>\n",
              "      <td>0</td>\n",
              "    </tr>\n",
              "    <tr>\n",
              "      <th>6043</th>\n",
              "      <td>Male</td>\n",
              "      <td>3</td>\n",
              "      <td>0</td>\n",
              "      <td>130.750000</td>\n",
              "      <td>0</td>\n",
              "      <td>2</td>\n",
              "      <td>0</td>\n",
              "      <td>1</td>\n",
              "    </tr>\n",
              "    <tr>\n",
              "      <th>5309</th>\n",
              "      <td>Female</td>\n",
              "      <td>61</td>\n",
              "      <td>1</td>\n",
              "      <td>1278.800049</td>\n",
              "      <td>1</td>\n",
              "      <td>1</td>\n",
              "      <td>1</td>\n",
              "      <td>0</td>\n",
              "    </tr>\n",
              "    <tr>\n",
              "      <th>3000</th>\n",
              "      <td>Male</td>\n",
              "      <td>12</td>\n",
              "      <td>1</td>\n",
              "      <td>1059.550049</td>\n",
              "      <td>0</td>\n",
              "      <td>2</td>\n",
              "      <td>0</td>\n",
              "      <td>1</td>\n",
              "    </tr>\n",
              "  </tbody>\n",
              "</table>\n",
              "</div>\n",
              "      <button class=\"colab-df-convert\" onclick=\"convertToInteractive('df-e274f5bf-f218-4142-959c-a8a733b2c803')\"\n",
              "              title=\"Convert this dataframe to an interactive table.\"\n",
              "              style=\"display:none;\">\n",
              "        \n",
              "  <svg xmlns=\"http://www.w3.org/2000/svg\" height=\"24px\"viewBox=\"0 0 24 24\"\n",
              "       width=\"24px\">\n",
              "    <path d=\"M0 0h24v24H0V0z\" fill=\"none\"/>\n",
              "    <path d=\"M18.56 5.44l.94 2.06.94-2.06 2.06-.94-2.06-.94-.94-2.06-.94 2.06-2.06.94zm-11 1L8.5 8.5l.94-2.06 2.06-.94-2.06-.94L8.5 2.5l-.94 2.06-2.06.94zm10 10l.94 2.06.94-2.06 2.06-.94-2.06-.94-.94-2.06-.94 2.06-2.06.94z\"/><path d=\"M17.41 7.96l-1.37-1.37c-.4-.4-.92-.59-1.43-.59-.52 0-1.04.2-1.43.59L10.3 9.45l-7.72 7.72c-.78.78-.78 2.05 0 2.83L4 21.41c.39.39.9.59 1.41.59.51 0 1.02-.2 1.41-.59l7.78-7.78 2.81-2.81c.8-.78.8-2.07 0-2.86zM5.41 20L4 18.59l7.72-7.72 1.47 1.35L5.41 20z\"/>\n",
              "  </svg>\n",
              "      </button>\n",
              "      \n",
              "  <style>\n",
              "    .colab-df-container {\n",
              "      display:flex;\n",
              "      flex-wrap:wrap;\n",
              "      gap: 12px;\n",
              "    }\n",
              "\n",
              "    .colab-df-convert {\n",
              "      background-color: #E8F0FE;\n",
              "      border: none;\n",
              "      border-radius: 50%;\n",
              "      cursor: pointer;\n",
              "      display: none;\n",
              "      fill: #1967D2;\n",
              "      height: 32px;\n",
              "      padding: 0 0 0 0;\n",
              "      width: 32px;\n",
              "    }\n",
              "\n",
              "    .colab-df-convert:hover {\n",
              "      background-color: #E2EBFA;\n",
              "      box-shadow: 0px 1px 2px rgba(60, 64, 67, 0.3), 0px 1px 3px 1px rgba(60, 64, 67, 0.15);\n",
              "      fill: #174EA6;\n",
              "    }\n",
              "\n",
              "    [theme=dark] .colab-df-convert {\n",
              "      background-color: #3B4455;\n",
              "      fill: #D2E3FC;\n",
              "    }\n",
              "\n",
              "    [theme=dark] .colab-df-convert:hover {\n",
              "      background-color: #434B5C;\n",
              "      box-shadow: 0px 1px 3px 1px rgba(0, 0, 0, 0.15);\n",
              "      filter: drop-shadow(0px 1px 2px rgba(0, 0, 0, 0.3));\n",
              "      fill: #FFFFFF;\n",
              "    }\n",
              "  </style>\n",
              "\n",
              "      <script>\n",
              "        const buttonEl =\n",
              "          document.querySelector('#df-e274f5bf-f218-4142-959c-a8a733b2c803 button.colab-df-convert');\n",
              "        buttonEl.style.display =\n",
              "          google.colab.kernel.accessAllowed ? 'block' : 'none';\n",
              "\n",
              "        async function convertToInteractive(key) {\n",
              "          const element = document.querySelector('#df-e274f5bf-f218-4142-959c-a8a733b2c803');\n",
              "          const dataTable =\n",
              "            await google.colab.kernel.invokeFunction('convertToInteractive',\n",
              "                                                     [key], {});\n",
              "          if (!dataTable) return;\n",
              "\n",
              "          const docLinkHtml = 'Like what you see? Visit the ' +\n",
              "            '<a target=\"_blank\" href=https://colab.research.google.com/notebooks/data_table.ipynb>data table notebook</a>'\n",
              "            + ' to learn more about interactive tables.';\n",
              "          element.innerHTML = '';\n",
              "          dataTable['output_type'] = 'display_data';\n",
              "          await google.colab.output.renderOutput(dataTable, element);\n",
              "          const docLink = document.createElement('div');\n",
              "          docLink.innerHTML = docLinkHtml;\n",
              "          element.appendChild(docLink);\n",
              "        }\n",
              "      </script>\n",
              "    </div>\n",
              "  </div>\n",
              "  "
            ]
          },
          "metadata": {},
          "execution_count": 28
        }
      ],
      "source": [
        "features = ['gender', 'tenure', 'PhoneService', 'TotalCharges', 'StreamingMovies', 'StreamingTV', 'TechSupport']\n",
        "target = 'Churn'\n",
        "#Ваш код здесь\n",
        "\n",
        "X_train, X_test, y_train, y_test = train_test_split(df_final, df_final[target], random_state=0)\n",
        "X_train.head()\n"
      ]
    },
    {
      "cell_type": "markdown",
      "metadata": {
        "id": "XSUwcrdOZVEG"
      },
      "source": [
        "##### 10. соберите pipeline для поля gender (нужно разобраться и изучить https://scikit-learn.org/stable/modules/generated/sklearn.pipeline.Pipeline.html ) из классов ColumnSelector и OHEEncoder, которые уже написаны ниже заранее"
      ]
    },
    {
      "cell_type": "code",
      "execution_count": 29,
      "metadata": {
        "id": "tdZ9OCmuZVEH"
      },
      "outputs": [],
      "source": [
        "from sklearn.base import BaseEstimator, TransformerMixin\n",
        "from sklearn.pipeline import Pipeline\n",
        "\n",
        "class ColumnSelector(BaseEstimator, TransformerMixin):\n",
        "    \"\"\"\n",
        "    Transformer to select a single column from the data frame to perform additional transformations on\n",
        "    \"\"\"\n",
        "    def __init__(self, key):\n",
        "        self.key = key\n",
        "\n",
        "    def fit(self, X, y=None):\n",
        "        return self\n",
        "\n",
        "    def transform(self, X):\n",
        "        return X[self.key]\n",
        "    \n",
        "class NumberSelector(BaseEstimator, TransformerMixin):\n",
        "    \"\"\"\n",
        "    Transformer to select a single column from the data frame to perform additional transformations on\n",
        "    Use on numeric columns in the data\n",
        "    \"\"\"\n",
        "    def __init__(self, key):\n",
        "        self.key = key\n",
        "\n",
        "    def fit(self, X, y=None):\n",
        "        return self\n",
        "\n",
        "    def transform(self, X):\n",
        "        return X[[self.key]]\n",
        "    \n",
        "class OHEEncoder(BaseEstimator, TransformerMixin):\n",
        "    def __init__(self, key):\n",
        "        self.key = key\n",
        "        self.columns = []\n",
        "\n",
        "    def fit(self, X, y=None):\n",
        "        self.columns = [col for col in pd.get_dummies(X, prefix=self.key).columns]\n",
        "        return self\n",
        "\n",
        "    def transform(self, X):\n",
        "        X = pd.get_dummies(X, prefix=self.key)\n",
        "        test_columns = [col for col in X.columns]\n",
        "        for col_ in test_columns:\n",
        "            if col_ not in self.columns:\n",
        "                X[col_] = 0\n",
        "        return X[self.columns]\n",
        "\n",
        "gender = Pipeline([\n",
        "     ('selector', ColumnSelector(key=['gender'])),\n",
        "     ('gender_encoder', OHEEncoder(key='gender'))\n",
        "],\n",
        "verbose=True)"
      ]
    },
    {
      "cell_type": "markdown",
      "metadata": {
        "id": "NzbutVLuZVEN"
      },
      "source": [
        "##### 11. Вызовите метод fit_transform у пайплайна gender и передайте туда нашу тренировочную выборку (пример по ссылке из документации https://scikit-learn.org/stable/modules/generated/sklearn.pipeline.Pipeline.html#sklearn.pipeline.Pipeline.fit)"
      ]
    },
    {
      "cell_type": "code",
      "execution_count": 30,
      "metadata": {
        "id": "dh5YHRjVZVEP",
        "colab": {
          "base_uri": "https://localhost:8080/",
          "height": 460
        },
        "outputId": "5e642330-c259-4b70-f5eb-86155af5370b"
      },
      "outputs": [
        {
          "output_type": "stream",
          "name": "stdout",
          "text": [
            "[Pipeline] .......... (step 1 of 2) Processing selector, total=   0.0s\n",
            "[Pipeline] .... (step 2 of 2) Processing gender_encoder, total=   0.0s\n"
          ]
        },
        {
          "output_type": "execute_result",
          "data": {
            "text/plain": [
              "      gender_Female  gender_Male\n",
              "3296              1            0\n",
              "6397              0            1\n",
              "6043              0            1\n",
              "5309              1            0\n",
              "3000              0            1\n",
              "...             ...          ...\n",
              "4931              0            1\n",
              "3264              1            0\n",
              "1653              0            1\n",
              "2607              0            1\n",
              "2732              1            0\n",
              "\n",
              "[5282 rows x 2 columns]"
            ],
            "text/html": [
              "\n",
              "  <div id=\"df-0453e2c1-3b58-4a7d-a254-b54d490e777c\">\n",
              "    <div class=\"colab-df-container\">\n",
              "      <div>\n",
              "<style scoped>\n",
              "    .dataframe tbody tr th:only-of-type {\n",
              "        vertical-align: middle;\n",
              "    }\n",
              "\n",
              "    .dataframe tbody tr th {\n",
              "        vertical-align: top;\n",
              "    }\n",
              "\n",
              "    .dataframe thead th {\n",
              "        text-align: right;\n",
              "    }\n",
              "</style>\n",
              "<table border=\"1\" class=\"dataframe\">\n",
              "  <thead>\n",
              "    <tr style=\"text-align: right;\">\n",
              "      <th></th>\n",
              "      <th>gender_Female</th>\n",
              "      <th>gender_Male</th>\n",
              "    </tr>\n",
              "  </thead>\n",
              "  <tbody>\n",
              "    <tr>\n",
              "      <th>3296</th>\n",
              "      <td>1</td>\n",
              "      <td>0</td>\n",
              "    </tr>\n",
              "    <tr>\n",
              "      <th>6397</th>\n",
              "      <td>0</td>\n",
              "      <td>1</td>\n",
              "    </tr>\n",
              "    <tr>\n",
              "      <th>6043</th>\n",
              "      <td>0</td>\n",
              "      <td>1</td>\n",
              "    </tr>\n",
              "    <tr>\n",
              "      <th>5309</th>\n",
              "      <td>1</td>\n",
              "      <td>0</td>\n",
              "    </tr>\n",
              "    <tr>\n",
              "      <th>3000</th>\n",
              "      <td>0</td>\n",
              "      <td>1</td>\n",
              "    </tr>\n",
              "    <tr>\n",
              "      <th>...</th>\n",
              "      <td>...</td>\n",
              "      <td>...</td>\n",
              "    </tr>\n",
              "    <tr>\n",
              "      <th>4931</th>\n",
              "      <td>0</td>\n",
              "      <td>1</td>\n",
              "    </tr>\n",
              "    <tr>\n",
              "      <th>3264</th>\n",
              "      <td>1</td>\n",
              "      <td>0</td>\n",
              "    </tr>\n",
              "    <tr>\n",
              "      <th>1653</th>\n",
              "      <td>0</td>\n",
              "      <td>1</td>\n",
              "    </tr>\n",
              "    <tr>\n",
              "      <th>2607</th>\n",
              "      <td>0</td>\n",
              "      <td>1</td>\n",
              "    </tr>\n",
              "    <tr>\n",
              "      <th>2732</th>\n",
              "      <td>1</td>\n",
              "      <td>0</td>\n",
              "    </tr>\n",
              "  </tbody>\n",
              "</table>\n",
              "<p>5282 rows × 2 columns</p>\n",
              "</div>\n",
              "      <button class=\"colab-df-convert\" onclick=\"convertToInteractive('df-0453e2c1-3b58-4a7d-a254-b54d490e777c')\"\n",
              "              title=\"Convert this dataframe to an interactive table.\"\n",
              "              style=\"display:none;\">\n",
              "        \n",
              "  <svg xmlns=\"http://www.w3.org/2000/svg\" height=\"24px\"viewBox=\"0 0 24 24\"\n",
              "       width=\"24px\">\n",
              "    <path d=\"M0 0h24v24H0V0z\" fill=\"none\"/>\n",
              "    <path d=\"M18.56 5.44l.94 2.06.94-2.06 2.06-.94-2.06-.94-.94-2.06-.94 2.06-2.06.94zm-11 1L8.5 8.5l.94-2.06 2.06-.94-2.06-.94L8.5 2.5l-.94 2.06-2.06.94zm10 10l.94 2.06.94-2.06 2.06-.94-2.06-.94-.94-2.06-.94 2.06-2.06.94z\"/><path d=\"M17.41 7.96l-1.37-1.37c-.4-.4-.92-.59-1.43-.59-.52 0-1.04.2-1.43.59L10.3 9.45l-7.72 7.72c-.78.78-.78 2.05 0 2.83L4 21.41c.39.39.9.59 1.41.59.51 0 1.02-.2 1.41-.59l7.78-7.78 2.81-2.81c.8-.78.8-2.07 0-2.86zM5.41 20L4 18.59l7.72-7.72 1.47 1.35L5.41 20z\"/>\n",
              "  </svg>\n",
              "      </button>\n",
              "      \n",
              "  <style>\n",
              "    .colab-df-container {\n",
              "      display:flex;\n",
              "      flex-wrap:wrap;\n",
              "      gap: 12px;\n",
              "    }\n",
              "\n",
              "    .colab-df-convert {\n",
              "      background-color: #E8F0FE;\n",
              "      border: none;\n",
              "      border-radius: 50%;\n",
              "      cursor: pointer;\n",
              "      display: none;\n",
              "      fill: #1967D2;\n",
              "      height: 32px;\n",
              "      padding: 0 0 0 0;\n",
              "      width: 32px;\n",
              "    }\n",
              "\n",
              "    .colab-df-convert:hover {\n",
              "      background-color: #E2EBFA;\n",
              "      box-shadow: 0px 1px 2px rgba(60, 64, 67, 0.3), 0px 1px 3px 1px rgba(60, 64, 67, 0.15);\n",
              "      fill: #174EA6;\n",
              "    }\n",
              "\n",
              "    [theme=dark] .colab-df-convert {\n",
              "      background-color: #3B4455;\n",
              "      fill: #D2E3FC;\n",
              "    }\n",
              "\n",
              "    [theme=dark] .colab-df-convert:hover {\n",
              "      background-color: #434B5C;\n",
              "      box-shadow: 0px 1px 3px 1px rgba(0, 0, 0, 0.15);\n",
              "      filter: drop-shadow(0px 1px 2px rgba(0, 0, 0, 0.3));\n",
              "      fill: #FFFFFF;\n",
              "    }\n",
              "  </style>\n",
              "\n",
              "      <script>\n",
              "        const buttonEl =\n",
              "          document.querySelector('#df-0453e2c1-3b58-4a7d-a254-b54d490e777c button.colab-df-convert');\n",
              "        buttonEl.style.display =\n",
              "          google.colab.kernel.accessAllowed ? 'block' : 'none';\n",
              "\n",
              "        async function convertToInteractive(key) {\n",
              "          const element = document.querySelector('#df-0453e2c1-3b58-4a7d-a254-b54d490e777c');\n",
              "          const dataTable =\n",
              "            await google.colab.kernel.invokeFunction('convertToInteractive',\n",
              "                                                     [key], {});\n",
              "          if (!dataTable) return;\n",
              "\n",
              "          const docLinkHtml = 'Like what you see? Visit the ' +\n",
              "            '<a target=\"_blank\" href=https://colab.research.google.com/notebooks/data_table.ipynb>data table notebook</a>'\n",
              "            + ' to learn more about interactive tables.';\n",
              "          element.innerHTML = '';\n",
              "          dataTable['output_type'] = 'display_data';\n",
              "          await google.colab.output.renderOutput(dataTable, element);\n",
              "          const docLink = document.createElement('div');\n",
              "          docLink.innerHTML = docLinkHtml;\n",
              "          element.appendChild(docLink);\n",
              "        }\n",
              "      </script>\n",
              "    </div>\n",
              "  </div>\n",
              "  "
            ]
          },
          "metadata": {},
          "execution_count": 30
        }
      ],
      "source": [
        "#Ваш код здесь\n",
        "z = gender.fit_transform(X_train)\n",
        "\n",
        "z"
      ]
    },
    {
      "cell_type": "markdown",
      "metadata": {
        "id": "er5mJbp-ZVES"
      },
      "source": [
        "##### 12. Здесь код писать уже не нужно (все сделано за вас). К полю tenure применяем StandardScaler (нормируем и центрируем). Ссылка - https://scikit-learn.org/stable/modules/generated/sklearn.preprocessing.StandardScaler.html\n",
        "Вопрос - в каких случаях это может быть полезно?"
      ]
    },
    {
      "cell_type": "code",
      "execution_count": 31,
      "metadata": {
        "id": "-X2wXi9oZVET"
      },
      "outputs": [],
      "source": [
        "from sklearn.preprocessing import StandardScaler\n",
        "\n",
        "tenure =  Pipeline([\n",
        "                ('selector', NumberSelector(key='tenure')),\n",
        "                ('standard', StandardScaler())\n",
        "            ])"
      ]
    },
    {
      "cell_type": "markdown",
      "metadata": {
        "id": "bM_p4uzyZVEV"
      },
      "source": [
        "##### 13. Напишите аналогичный (как для tenure) преобразователь поля TotalCharges"
      ]
    },
    {
      "cell_type": "code",
      "execution_count": 32,
      "metadata": {
        "id": "lPIlQb4IZVEW"
      },
      "outputs": [],
      "source": [
        "#Ваш код здесь\n",
        "TotalCharges =  Pipeline([\n",
        "                ('selector', NumberSelector(key='TotalCharges')),\n",
        "                ('standard', StandardScaler())\n",
        "            ])"
      ]
    },
    {
      "cell_type": "markdown",
      "metadata": {
        "id": "YD7ls6nVZVEY"
      },
      "source": [
        "Объединение всех \"кубиков\" очень легко сделать таким образом"
      ]
    },
    {
      "cell_type": "code",
      "execution_count": 33,
      "metadata": {
        "id": "gdYgsOseZVEZ"
      },
      "outputs": [],
      "source": [
        "from sklearn.pipeline import FeatureUnion\n",
        "\n",
        "number_features = Pipeline([\n",
        "                ('selector', ColumnSelector(key=['PhoneService',\n",
        "                                                 'StreamingMovies', 'StreamingTV', \n",
        "                                                 'TechSupport']))\n",
        "            ])"
      ]
    },
    {
      "cell_type": "code",
      "execution_count": 34,
      "metadata": {
        "id": "amC-8MxdZVEb"
      },
      "outputs": [],
      "source": [
        "feats = FeatureUnion([('tenure', tenure),\n",
        "                      ('TotalCharges', TotalCharges),\n",
        "                      ('continuos_features', number_features),\n",
        "                      ('gender', gender)])\n",
        "feature_processing = Pipeline([('feats', feats)])"
      ]
    },
    {
      "cell_type": "markdown",
      "metadata": {
        "id": "1md10e-rZVEd"
      },
      "source": [
        "На этом этапе что мы сделали:\n",
        "1. написали преобразователь поля gender, который делает OHE кодирование\n",
        "2. написали преобразователь для поля tenure, который нормирует и центрирует его \n",
        "3. повторили п. 2 для поля TotalCharges\n",
        "3. для всех остальных просто взяли признаки как они есть, без изменений"
      ]
    },
    {
      "cell_type": "markdown",
      "metadata": {
        "id": "mU5VQR6hZVEe"
      },
      "source": [
        "У нас уже готов наш пайплайн, который преобразовывает признаки. Давайте обучим модель поверх него. В качестве модели возьмем RandomForestClassifier"
      ]
    },
    {
      "cell_type": "code",
      "source": [
        "from sklearn.ensemble import RandomForestClassifier\n",
        "\n",
        "pipeline = Pipeline([\n",
        "    ('features', feats),\n",
        "    ('classifier', RandomForestClassifier(random_state=42)),\n",
        "],\n",
        "verbose=True)\n",
        "\n",
        "pipeline.fit(X_train, y_train)"
      ],
      "metadata": {
        "id": "6gFUxbMJ-0og",
        "colab": {
          "base_uri": "https://localhost:8080/"
        },
        "outputId": "c446276b-d313-4c10-9720-8faaab90f16d"
      },
      "execution_count": 35,
      "outputs": [
        {
          "output_type": "stream",
          "name": "stdout",
          "text": [
            "[Pipeline] .......... (step 1 of 2) Processing selector, total=   0.0s\n",
            "[Pipeline] .... (step 2 of 2) Processing gender_encoder, total=   0.0s\n",
            "[Pipeline] .......... (step 1 of 2) Processing features, total=   0.0s\n",
            "[Pipeline] ........ (step 2 of 2) Processing classifier, total=   0.6s\n"
          ]
        },
        {
          "output_type": "execute_result",
          "data": {
            "text/plain": [
              "Pipeline(steps=[('features',\n",
              "                 FeatureUnion(transformer_list=[('tenure',\n",
              "                                                 Pipeline(steps=[('selector',\n",
              "                                                                  NumberSelector(key='tenure')),\n",
              "                                                                 ('standard',\n",
              "                                                                  StandardScaler())])),\n",
              "                                                ('TotalCharges',\n",
              "                                                 Pipeline(steps=[('selector',\n",
              "                                                                  NumberSelector(key='TotalCharges')),\n",
              "                                                                 ('standard',\n",
              "                                                                  StandardScaler())])),\n",
              "                                                ('continuos_features',\n",
              "                                                 Pipeline(steps=[('selector',\n",
              "                                                                  ColumnSelector(key=['PhoneService',\n",
              "                                                                                      'StreamingMovies',\n",
              "                                                                                      'StreamingTV',\n",
              "                                                                                      'TechSupport']))])),\n",
              "                                                ('gender',\n",
              "                                                 Pipeline(steps=[('selector',\n",
              "                                                                  ColumnSelector(key=['gender'])),\n",
              "                                                                 ('gender_encoder',\n",
              "                                                                  OHEEncoder(key='gender'))],\n",
              "                                                          verbose=True))])),\n",
              "                ('classifier', RandomForestClassifier(random_state=42))],\n",
              "         verbose=True)"
            ]
          },
          "metadata": {},
          "execution_count": 35
        }
      ]
    },
    {
      "cell_type": "markdown",
      "metadata": {
        "id": "CQR5Ql5HZVEh"
      },
      "source": [
        "##### 14. Сделайте прогноз вероятности оттока для X_test с помощью нашего предобученного на предыдущем шаге пайплайна и убедитесь что вам возвращаются вероятности для 2 классов"
      ]
    },
    {
      "cell_type": "code",
      "execution_count": 36,
      "metadata": {
        "id": "WcI9aG5SZVEj",
        "colab": {
          "base_uri": "https://localhost:8080/"
        },
        "outputId": "32c5ac64-b41b-4afc-c199-5d643b6f15b6"
      },
      "outputs": [
        {
          "output_type": "execute_result",
          "data": {
            "text/plain": [
              "array([[0.83, 0.17],\n",
              "       [0.89, 0.11],\n",
              "       [0.8 , 0.2 ],\n",
              "       ...,\n",
              "       [1.  , 0.  ],\n",
              "       [1.  , 0.  ],\n",
              "       [1.  , 0.  ]])"
            ]
          },
          "metadata": {},
          "execution_count": 36
        }
      ],
      "source": [
        "#Ваш код здесь\n",
        "# наши прогнозы для тестовой выборки\n",
        "preds = pipeline.predict_proba(X_test)\n",
        "preds"
      ]
    },
    {
      "cell_type": "markdown",
      "metadata": {
        "id": "qrB3aG9cZVEj"
      },
      "source": [
        "##### 15. Посчитайте метрики качества получившейся модели (roc_auc)"
      ]
    },
    {
      "cell_type": "code",
      "execution_count": 37,
      "metadata": {
        "id": "vDX9EcbyZVEl",
        "colab": {
          "base_uri": "https://localhost:8080/"
        },
        "outputId": "768de4ab-13df-481d-9a81-d5359ff734fc"
      },
      "outputs": [
        {
          "output_type": "execute_result",
          "data": {
            "text/plain": [
              "array([0.        , 0.01      , 0.01333333, 0.02      , 0.02416667,\n",
              "       0.03      , 0.039     , 0.04      , 0.04083333, 0.04266667,\n",
              "       0.05      , 0.05      , 0.06      , 0.07      , 0.07666667,\n",
              "       0.08      , 0.09      , 0.09321429, 0.1       , 0.10340476,\n",
              "       0.11      , 0.11275   , 0.12      , 0.13      , 0.14      ,\n",
              "       0.15      , 0.16      , 0.16399603, 0.17      , 0.18      ,\n",
              "       0.19      , 0.2       , 0.21      , 0.22      , 0.23      ,\n",
              "       0.24      , 0.25      , 0.2553254 , 0.26      , 0.26929365,\n",
              "       0.27      , 0.27368651, 0.28      , 0.29      , 0.3       ,\n",
              "       0.31      , 0.3180119 , 0.31826807, 0.32      , 0.32185714,\n",
              "       0.33      , 0.34      , 0.35      , 0.36      , 0.36033333,\n",
              "       0.37      , 0.38      , 0.39      , 0.39461328, 0.4       ,\n",
              "       0.4086377 , 0.41      , 0.41719048, 0.42      , 0.42754762,\n",
              "       0.43      , 0.44      , 0.4475    , 0.45      , 0.46      ,\n",
              "       0.46483333, 0.47      , 0.48      , 0.49      , 0.5       ,\n",
              "       0.50933333, 0.51      , 0.51983333, 0.52      , 0.53      ,\n",
              "       0.54      , 0.54866667, 0.5492381 , 0.55      , 0.56      ,\n",
              "       0.57      , 0.58      , 0.59      , 0.6       , 0.61      ,\n",
              "       0.62      , 0.63      , 0.64      , 0.65      , 0.66      ,\n",
              "       0.67      , 0.67516667, 0.68      , 0.68994048, 0.69      ,\n",
              "       0.69394048, 0.7       , 0.71      , 0.71878968, 0.72      ,\n",
              "       0.73      , 0.74      , 0.75      , 0.7565    , 0.76      ,\n",
              "       0.77      , 0.78      , 0.78033333, 0.79      , 0.8       ,\n",
              "       0.81      , 0.81133333, 0.81583333, 0.81953571, 0.82      ,\n",
              "       0.83      , 0.84      , 0.85      , 0.86      , 0.87      ,\n",
              "       0.88      , 0.89      , 0.9       , 0.90733333, 0.91      ,\n",
              "       0.92      , 0.92695238, 0.9275    , 0.93      , 0.94      ,\n",
              "       0.95      , 0.95483333, 0.96      , 0.97      , 0.97166667,\n",
              "       0.97333333, 0.97333333, 0.98      , 0.99      , 1.        ])"
            ]
          },
          "metadata": {},
          "execution_count": 37
        }
      ],
      "source": [
        "from sklearn.metrics import (f1_score, roc_auc_score, precision_score, classification_report,\n",
        "                             precision_recall_curve, confusion_matrix)\n",
        "\n",
        "#Ваш код здесь\n",
        "precision, recall, thresholds = precision_recall_curve(y_test, preds[:, 1])\n",
        "thresholds"
      ]
    },
    {
      "cell_type": "code",
      "source": [
        "precision, recall"
      ],
      "metadata": {
        "colab": {
          "base_uri": "https://localhost:8080/"
        },
        "id": "s608C3pbVh4b",
        "outputId": "854aefcd-16f4-4c6f-f740-3d3cc9c30429"
      },
      "execution_count": 38,
      "outputs": [
        {
          "output_type": "execute_result",
          "data": {
            "text/plain": [
              "(array([0.2629188 , 0.32823872, 0.34528449, 0.34477379, 0.36101974,\n",
              "        0.36049383, 0.36851211, 0.36883117, 0.38553114, 0.38588451,\n",
              "        0.38623853, 0.3865932 , 0.39336493, 0.3972468 , 0.40121581,\n",
              "        0.40162272, 0.406639  , 0.40783898, 0.40721103, 0.41042345,\n",
              "        0.41086957, 0.41387025, 0.41433371, 0.42087156, 0.42638398,\n",
              "        0.43080626, 0.43382353, 0.4395466 , 0.44010088, 0.44716495,\n",
              "        0.44692005, 0.45      , 0.45643154, 0.46002805, 0.46438746,\n",
              "        0.46811594, 0.4719764 , 0.47540984, 0.4761194 , 0.47878788,\n",
              "        0.47945205, 0.48598131, 0.48673947, 0.49122807, 0.4910859 ,\n",
              "        0.49586777, 0.49491525, 0.49405772, 0.49489796, 0.49486301,\n",
              "        0.49571184, 0.49560633, 0.49818841, 0.50092081, 0.5065666 ,\n",
              "        0.5056391 , 0.50289017, 0.50392157, 0.5       , 0.49900596,\n",
              "        0.4969574 , 0.49693252, 0.5       , 0.50104384, 0.5       ,\n",
              "        0.49892934, 0.50323974, 0.50331126, 0.50221239, 0.51025057,\n",
              "        0.51162791, 0.50934579, 0.51674641, 0.52463054, 0.52369077,\n",
              "        0.52272727, 0.52151899, 0.52319588, 0.5245478 , 0.52631579,\n",
              "        0.53133515, 0.53611111, 0.53481894, 0.53351955, 0.5325779 ,\n",
              "        0.52873563, 0.53823529, 0.54029851, 0.5412844 , 0.54179567,\n",
              "        0.54632588, 0.55592105, 0.55405405, 0.56293706, 0.56382979,\n",
              "        0.56410256, 0.5703125 , 0.56862745, 0.57959184, 0.57786885,\n",
              "        0.57383966, 0.57627119, 0.58441558, 0.59009009, 0.59276018,\n",
              "        0.5915493 , 0.60487805, 0.61111111, 0.62051282, 0.6185567 ,\n",
              "        0.625     , 0.62234043, 0.625     , 0.62295082, 0.63583815,\n",
              "        0.64880952, 0.64596273, 0.65      , 0.65408805, 0.65822785,\n",
              "        0.66013072, 0.67114094, 0.66666667, 0.67586207, 0.6884058 ,\n",
              "        0.68461538, 0.69105691, 0.71052632, 0.73394495, 0.74074074,\n",
              "        0.73737374, 0.72727273, 0.73563218, 0.73255814, 0.725     ,\n",
              "        0.72368421, 0.73239437, 0.74285714, 0.75      , 0.77966102,\n",
              "        0.77586207, 0.78947368, 0.78571429, 0.8       , 0.82352941,\n",
              "        1.        ]),\n",
              " array([1.        , 0.97408207, 0.95680346, 0.95464363, 0.94816415,\n",
              "        0.94600432, 0.92008639, 0.92008639, 0.90928726, 0.90928726,\n",
              "        0.90928726, 0.90928726, 0.89632829, 0.87257019, 0.85529158,\n",
              "        0.85529158, 0.84665227, 0.83153348, 0.82937365, 0.81641469,\n",
              "        0.81641469, 0.79913607, 0.79913607, 0.79265659, 0.78185745,\n",
              "        0.77321814, 0.76457883, 0.7537797 , 0.7537797 , 0.74946004,\n",
              "        0.73650108, 0.71922246, 0.71274298, 0.70842333, 0.70410367,\n",
              "        0.69762419, 0.69114471, 0.68898488, 0.68898488, 0.6825054 ,\n",
              "        0.68034557, 0.67386609, 0.67386609, 0.66522678, 0.65442765,\n",
              "        0.64794816, 0.63066955, 0.62850972, 0.62850972, 0.62419006,\n",
              "        0.62419006, 0.60907127, 0.59395248, 0.587473  , 0.58315335,\n",
              "        0.58099352, 0.5637149 , 0.55507559, 0.54427646, 0.54211663,\n",
              "        0.52915767, 0.52483801, 0.51835853, 0.51835853, 0.50539957,\n",
              "        0.50323974, 0.50323974, 0.4924406 , 0.49028078, 0.4838013 ,\n",
              "        0.47516199, 0.47084233, 0.46652268, 0.4600432 , 0.45356371,\n",
              "        0.44708423, 0.44492441, 0.43844492, 0.43844492, 0.43196544,\n",
              "        0.42116631, 0.41684665, 0.41468683, 0.412527  , 0.40604752,\n",
              "        0.39740821, 0.39524838, 0.39092873, 0.38228942, 0.37796976,\n",
              "        0.36933045, 0.3650108 , 0.35421166, 0.34773218, 0.34341253,\n",
              "        0.33261339, 0.31533477, 0.31317495, 0.30669546, 0.30453564,\n",
              "        0.2937365 , 0.2937365 , 0.29157667, 0.28293737, 0.28293737,\n",
              "        0.27213823, 0.26781857, 0.26133909, 0.26133909, 0.25917927,\n",
              "        0.25917927, 0.25269978, 0.24838013, 0.2462203 , 0.23758099,\n",
              "        0.23542117, 0.22462203, 0.22462203, 0.22462203, 0.22462203,\n",
              "        0.21814255, 0.21598272, 0.21166307, 0.21166307, 0.20518359,\n",
              "        0.19222462, 0.18358531, 0.174946  , 0.17278618, 0.17278618,\n",
              "        0.15766739, 0.13822894, 0.13822894, 0.13606911, 0.12526998,\n",
              "        0.1187905 , 0.11231102, 0.11231102, 0.10367171, 0.09935205,\n",
              "        0.09719222, 0.09719222, 0.0950324 , 0.08639309, 0.06047516,\n",
              "        0.        ]))"
            ]
          },
          "metadata": {},
          "execution_count": 38
        }
      ]
    },
    {
      "cell_type": "code",
      "source": [
        "fscore = (2 * precision * recall) / (precision + recall)\n",
        "# locate the index of the largest f score\n",
        "ix = np.argmax(fscore)\n",
        "print(f'Best Threshold={thresholds[ix]:.2f}, F-Score={fscore[ix]:.3f}',\n",
        "      f'Precision={precision[ix]:.3f}, Recall={recall[ix]:.3f}')"
      ],
      "metadata": {
        "colab": {
          "base_uri": "https://localhost:8080/"
        },
        "id": "ez-HzOypVjYy",
        "outputId": "b5cf47f6-2231-4501-e729-5fbebe26fb1b"
      },
      "execution_count": 39,
      "outputs": [
        {
          "output_type": "stream",
          "name": "stdout",
          "text": [
            "Best Threshold=0.28, F-Score=0.565 Precision=0.487, Recall=0.674\n"
          ]
        }
      ]
    },
    {
      "cell_type": "code",
      "source": [
        "plt.plot(recall, precision, '-r')\n",
        "plt.grid(True)\n",
        "plt.xlabel('recall')\n",
        "plt.ylabel('precision')\n",
        "plt.show()"
      ],
      "metadata": {
        "colab": {
          "base_uri": "https://localhost:8080/",
          "height": 284
        },
        "id": "9uHNDgtNVnIR",
        "outputId": "ef4f4da0-d3fa-4613-99ea-1dad474a4812"
      },
      "execution_count": 40,
      "outputs": [
        {
          "output_type": "display_data",
          "data": {
            "text/plain": [
              "<Figure size 432x288 with 1 Axes>"
            ],
            "image/png": "[encoded data removed]"
          },
          "metadata": {}
        }
      ]
    },
    {
      "cell_type": "code",
      "source": [
        "tresholds = 0.5\n",
        "print(classification_report(y_test, preds[:, 1] >= tresholds))\n",
        "\n",
        "\n",
        "plt.figure(figsize=(16, 4))\n",
        "plt.grid(True)\n",
        "plt.xlabel('samples number')\n",
        "plt.ylabel('y_pred, y_true')\n",
        "\n",
        "plt.plot(preds[:, 1], label='y_pred')\n",
        "plt.plot(y_test.values, label='y_true')\n",
        "plt.plot([0,40], [tresholds, tresholds], label='tresholds')\n",
        "\n",
        "plt.legend()\n",
        "plt.show()"
      ],
      "metadata": {
        "colab": {
          "base_uri": "https://localhost:8080/",
          "height": 451
        },
        "id": "pCwBATtiVpt3",
        "outputId": "fb708588-1e98-46d3-9fd9-fb5f00ffd822"
      },
      "execution_count": 41,
      "outputs": [
        {
          "output_type": "stream",
          "name": "stdout",
          "text": [
            "              precision    recall  f1-score   support\n",
            "\n",
            "           0       0.81      0.85      0.83      1298\n",
            "           1       0.52      0.45      0.49       463\n",
            "\n",
            "    accuracy                           0.75      1761\n",
            "   macro avg       0.67      0.65      0.66      1761\n",
            "weighted avg       0.74      0.75      0.74      1761\n",
            "\n"
          ]
        },
        {
          "output_type": "display_data",
          "data": {
            "text/plain": [
              "<Figure size 1152x288 with 1 Axes>"
            ],
            "image/png": "[encoded data removed]"
          },
          "metadata": {}
        }
      ]
    },
    {
      "cell_type": "markdown",
      "source": [
        "Отрисуем матрицу ошибок для нашего примера"
      ],
      "metadata": {
        "id": "-MTscbDcVuqf"
      }
    },
    {
      "cell_type": "code",
      "source": [
        "def plot_confusion_matrix(cm, classes,\n",
        "                          normalize=False,\n",
        "                          title='Confusion matrix',\n",
        "                          cmap=plt.cm.Blues):\n",
        "    \"\"\"\n",
        "    This function prints and plots the confusion matrix.\n",
        "    Normalization can be applied by setting `normalize=True`.\n",
        "    \"\"\"\n",
        "    plt.imshow(cm, interpolation='nearest', cmap=cmap)\n",
        "    plt.title(title)\n",
        "    plt.colorbar()\n",
        "    tick_marks = np.arange(len(classes))\n",
        "    plt.xticks(tick_marks, classes, rotation=45)\n",
        "    plt.yticks(tick_marks, classes)\n",
        "\n",
        "    if normalize:\n",
        "        cm = cm.astype('float') / cm.sum(axis=1)[:, np.newaxis]\n",
        "        print(\"Normalized confusion matrix\")\n",
        "    else:\n",
        "        print('Confusion matrix, without normalization')\n",
        "\n",
        "    print(cm)\n",
        "\n",
        "    thresh = cm.max() / 2.\n",
        "    for i, j in itertools.product(range(cm.shape[0]), range(cm.shape[1])):\n",
        "        plt.text(j, i, cm[i, j],\n",
        "                 horizontalalignment=\"center\",\n",
        "                 color=\"white\" if cm[i, j] > thresh else \"black\")\n",
        "\n",
        "    plt.tight_layout()\n",
        "    plt.ylabel('True label')\n",
        "    plt.xlabel('Predicted label')"
      ],
      "metadata": {
        "id": "cp0bKPlgVw4q"
      },
      "execution_count": 42,
      "outputs": []
    },
    {
      "cell_type": "code",
      "source": [
        "thresholds[ix]"
      ],
      "metadata": {
        "colab": {
          "base_uri": "https://localhost:8080/"
        },
        "id": "3Fy-J2frVz0k",
        "outputId": "86c7da8a-07d4-4fc4-8b00-88fe8b89e4ae"
      },
      "execution_count": 43,
      "outputs": [
        {
          "output_type": "execute_result",
          "data": {
            "text/plain": [
              "0.28"
            ]
          },
          "metadata": {},
          "execution_count": 43
        }
      ]
    },
    {
      "cell_type": "code",
      "source": [
        "#мы уже нашли ранее \"оптимальный\" порог, когда максимизировали f_score\n",
        "font = {'size' : 15}\n",
        "\n",
        "plt.rc('font', **font)\n",
        "\n",
        "cnf_matrix = confusion_matrix(y_test, preds[:, 1] >= thresholds[ix])\n",
        "plt.figure(figsize=(10, 8))\n",
        "plot_confusion_matrix(cnf_matrix, classes=['Non-network', 'Network'], title='Confusion matrix')\n",
        "plt.savefig(\"conf_matrix.png\")\n",
        "plt.show()"
      ],
      "metadata": {
        "colab": {
          "base_uri": "https://localhost:8080/",
          "height": 647
        },
        "id": "byhd_174V3C2",
        "outputId": "62fc8794-9f7b-4529-c2b1-a0a754f661bf"
      },
      "execution_count": 44,
      "outputs": [
        {
          "output_type": "stream",
          "name": "stdout",
          "text": [
            "Confusion matrix, without normalization\n",
            "[[969 329]\n",
            " [151 312]]\n"
          ]
        },
        {
          "output_type": "display_data",
          "data": {
            "text/plain": [
              "<Figure size 720x576 with 2 Axes>"
            ],
            "image/png": "[encoded data removed]"
          },
          "metadata": {}
        }
      ]
    },
    {
      "cell_type": "code",
      "source": [
        "print(classification_report(y_test, preds[:, 1] >= thresholds[ix]))\n",
        "\n",
        "\n",
        "plt.figure(figsize=(16, 4))\n",
        "plt.grid(True)\n",
        "plt.xlabel('samples number')\n",
        "plt.ylabel('y_pred, y_true')\n",
        "\n",
        "plt.plot(preds[:, 1], label='y_pred')\n",
        "plt.plot(y_test.values, label='y_true')\n",
        "plt.plot([0,40], [thresholds[ix], thresholds[ix]], label='tresholds')\n",
        "\n",
        "plt.legend()\n",
        "plt.show()"
      ],
      "metadata": {
        "colab": {
          "base_uri": "https://localhost:8080/",
          "height": 451
        },
        "id": "JsJ9x3QfV6el",
        "outputId": "e87f6ec8-37d3-44a3-f51c-0177b1fb40ea"
      },
      "execution_count": 45,
      "outputs": [
        {
          "output_type": "stream",
          "name": "stdout",
          "text": [
            "              precision    recall  f1-score   support\n",
            "\n",
            "           0       0.87      0.75      0.80      1298\n",
            "           1       0.49      0.67      0.57       463\n",
            "\n",
            "    accuracy                           0.73      1761\n",
            "   macro avg       0.68      0.71      0.68      1761\n",
            "weighted avg       0.77      0.73      0.74      1761\n",
            "\n"
          ]
        },
        {
          "output_type": "display_data",
          "data": {
            "text/plain": [
              "<Figure size 1152x288 with 1 Axes>"
            ],
            "image/png": "[encoded data removed]"
          },
          "metadata": {}
        }
      ]
    },
    {
      "cell_type": "code",
      "source": [
        "# TODO\n",
        "#roc_auc_score(y_test, preds)\n",
        "from sklearn.metrics import roc_auc_score\n",
        "from sklearn.metrics import roc_curve\n",
        "logit_roc_auc = roc_auc_score(y_test, pipeline.predict(X_test))\n",
        "fpr, tpr, thresholds = roc_curve(y_test, pipeline.predict(X_test))\n",
        "plt.figure()\n",
        "plt.plot(fpr, tpr, label='RandomForestClassifier (area = %0.2f)' % logit_roc_auc)\n",
        "plt.plot([0, 1], [0, 1],'r--')\n",
        "plt.xlim([0.0, 1.0])\n",
        "plt.ylim([0.0, 1.05])\n",
        "plt.xlabel('False Positive Rate')\n",
        "plt.ylabel('True Positive Rate')\n",
        "plt.title('Receiver operating characteristic')\n",
        "plt.legend(loc=\"lower right\")\n",
        "plt.savefig('Log_ROC')\n",
        "plt.show()"
      ],
      "metadata": {
        "colab": {
          "base_uri": "https://localhost:8080/",
          "height": 301
        },
        "id": "P_LUiu0LWOTZ",
        "outputId": "4adfce58-40b1-4500-9c59-225dace60655"
      },
      "execution_count": 53,
      "outputs": [
        {
          "output_type": "display_data",
          "data": {
            "text/plain": [
              "<Figure size 432x288 with 1 Axes>"
            ],
            "image/png": "[encoded data removed]"
          },
          "metadata": {}
        }
      ]
    },
    {
      "cell_type": "markdown",
      "metadata": {
        "id": "m7weSS1nZVEm"
      },
      "source": [
        "### Сохраним наш пайплайн"
      ]
    },
    {
      "cell_type": "code",
      "execution_count": 54,
      "metadata": {
        "id": "3689h2aTZVEm"
      },
      "outputs": [],
      "source": [
        "import dill\n",
        "with open(\"model_RF.dill\", \"wb\") as f:\n",
        "    dill.dump(pipeline, f)"
      ]
    }
  ],
  "metadata": {
    "kernelspec": {
      "display_name": "Python 3",
      "language": "python",
      "name": "python3"
    },
    "language_info": {
      "codemirror_mode": {
        "name": "ipython",
        "version": 3
      },
      "file_extension": ".py",
      "mimetype": "text/x-python",
      "name": "python",
      "nbconvert_exporter": "python",
      "pygments_lexer": "ipython3",
      "version": "3.7.3"
    },
    "colab": {
      "name": "HW1.ipynb",
      "provenance": [],
      "collapsed_sections": [],
      "toc_visible": true,
      "include_colab_link": true
    }
  },
  "nbformat": 4,
  "nbformat_minor": 0
}