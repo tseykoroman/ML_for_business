{
  "cells": [
    {
      "cell_type": "markdown",
      "metadata": {
        "id": "view-in-github",
        "colab_type": "text"
      },
      "source": [
        "<a href=\"https://colab.research.google.com/github/tseykoroman/ML_for_business/blob/main/Tseyko_Lesson_4.ipynb\" target=\"_parent\"><img src=\"https://colab.research.google.com/assets/colab-badge.svg\" alt=\"Open In Colab\"/></a>"
      ]
    },
    {
      "cell_type": "markdown",
      "id": "b28e77f0",
      "metadata": {
        "id": "b28e77f0"
      },
      "source": [
        "1) скачать набор данных маркетинговых кампаний отсюда https://www.kaggle.com/davinwijaya/customer-retention\n",
        "\n",
        "2) поле conversion - это целевая переменная, а offer - коммуникация. Переименовать поля (conversion -> target, offer -> treatment) и привести поле treatment к бинарному виду (1 или 0, т.е было какое-то предложение или нет) - значение No Offer означает отсутствие коммуникации, а все остальные - наличие.\n",
        "\n",
        "3) сделать разбиение набора данных не тренировочную и тестовую выборки\n",
        "\n",
        "4) сделать feature engineering на ваше усмотрение (допускается свобода выбора методов)\n",
        "\n",
        "5) провести uplift-моделирование 3 способами:\n",
        "\n",
        "одна модель с признаком коммуникации (S-learner)\n",
        "\n",
        "модель с трансформацией таргета\n",
        "\n",
        "вариант с двумя независимыми моделями\n",
        "\n",
        "6) в конце вывести единую таблицу сравнения метрик uplift@10%, uplift@20% 3 моделей\n",
        "\n",
        "7) *для модели S-learner построить зависимость таргета (конверсии - поле conversion) от значения uplift:\n",
        "\n",
        "сделать прогноз и получить uplift для тестовой выборки\n",
        "\n",
        "отсортировать тестовую выборку по uplift по убыванию\n",
        "\n",
        "разбить на децили (pandas qcut вам в помощь)\n",
        "\n",
        "для каждого дециля посчитать среднюю conversion"
      ]
    },
    {
      "cell_type": "code",
      "execution_count": 136,
      "id": "fcce4e88",
      "metadata": {
        "id": "fcce4e88"
      },
      "outputs": [],
      "source": [
        "import numpy as np\n",
        "import pandas as pd"
      ]
    },
    {
      "cell_type": "markdown",
      "id": "3cd83033",
      "metadata": {
        "id": "3cd83033"
      },
      "source": [
        "скачать набор данных маркетинговых кампаний отсюда https://www.kaggle.com/davinwijaya/customer-retention"
      ]
    },
    {
      "cell_type": "code",
      "execution_count": 137,
      "id": "ecfad32e",
      "metadata": {
        "colab": {
          "base_uri": "https://localhost:8080/",
          "height": 206
        },
        "id": "ecfad32e",
        "outputId": "79d3cb0e-59cb-4d77-af35-0242815d3a27"
      },
      "outputs": [
        {
          "output_type": "execute_result",
          "data": {
            "text/plain": [
              "   recency  history  used_discount  used_bogo   zip_code  is_referral channel  \\\n",
              "0       10   142.44              1          0  Surburban            0   Phone   \n",
              "1        6   329.08              1          1      Rural            1     Web   \n",
              "2        7   180.65              0          1  Surburban            1     Web   \n",
              "3        9   675.83              1          0      Rural            1     Web   \n",
              "4        2    45.34              1          0      Urban            0     Web   \n",
              "\n",
              "             offer  conversion  \n",
              "0  Buy One Get One           0  \n",
              "1         No Offer           0  \n",
              "2  Buy One Get One           0  \n",
              "3         Discount           0  \n",
              "4  Buy One Get One           0  "
            ],
            "text/html": [
              "<div>\n",
              "<style scoped>\n",
              "    .dataframe tbody tr th:only-of-type {\n",
              "        vertical-align: middle;\n",
              "    }\n",
              "\n",
              "    .dataframe tbody tr th {\n",
              "        vertical-align: top;\n",
              "    }\n",
              "\n",
              "    .dataframe thead th {\n",
              "        text-align: right;\n",
              "    }\n",
              "</style>\n",
              "<table border=\"1\" class=\"dataframe\">\n",
              "  <thead>\n",
              "    <tr style=\"text-align: right;\">\n",
              "      <th></th>\n",
              "      <th>recency</th>\n",
              "      <th>history</th>\n",
              "      <th>used_discount</th>\n",
              "      <th>used_bogo</th>\n",
              "      <th>zip_code</th>\n",
              "      <th>is_referral</th>\n",
              "      <th>channel</th>\n",
              "      <th>offer</th>\n",
              "      <th>conversion</th>\n",
              "    </tr>\n",
              "  </thead>\n",
              "  <tbody>\n",
              "    <tr>\n",
              "      <th>0</th>\n",
              "      <td>10</td>\n",
              "      <td>142.44</td>\n",
              "      <td>1</td>\n",
              "      <td>0</td>\n",
              "      <td>Surburban</td>\n",
              "      <td>0</td>\n",
              "      <td>Phone</td>\n",
              "      <td>Buy One Get One</td>\n",
              "      <td>0</td>\n",
              "    </tr>\n",
              "    <tr>\n",
              "      <th>1</th>\n",
              "      <td>6</td>\n",
              "      <td>329.08</td>\n",
              "      <td>1</td>\n",
              "      <td>1</td>\n",
              "      <td>Rural</td>\n",
              "      <td>1</td>\n",
              "      <td>Web</td>\n",
              "      <td>No Offer</td>\n",
              "      <td>0</td>\n",
              "    </tr>\n",
              "    <tr>\n",
              "      <th>2</th>\n",
              "      <td>7</td>\n",
              "      <td>180.65</td>\n",
              "      <td>0</td>\n",
              "      <td>1</td>\n",
              "      <td>Surburban</td>\n",
              "      <td>1</td>\n",
              "      <td>Web</td>\n",
              "      <td>Buy One Get One</td>\n",
              "      <td>0</td>\n",
              "    </tr>\n",
              "    <tr>\n",
              "      <th>3</th>\n",
              "      <td>9</td>\n",
              "      <td>675.83</td>\n",
              "      <td>1</td>\n",
              "      <td>0</td>\n",
              "      <td>Rural</td>\n",
              "      <td>1</td>\n",
              "      <td>Web</td>\n",
              "      <td>Discount</td>\n",
              "      <td>0</td>\n",
              "    </tr>\n",
              "    <tr>\n",
              "      <th>4</th>\n",
              "      <td>2</td>\n",
              "      <td>45.34</td>\n",
              "      <td>1</td>\n",
              "      <td>0</td>\n",
              "      <td>Urban</td>\n",
              "      <td>0</td>\n",
              "      <td>Web</td>\n",
              "      <td>Buy One Get One</td>\n",
              "      <td>0</td>\n",
              "    </tr>\n",
              "  </tbody>\n",
              "</table>\n",
              "</div>"
            ]
          },
          "metadata": {},
          "execution_count": 137
        }
      ],
      "source": [
        "df = pd.read_csv('C:/data.csv')\n",
        "df.head(5)"
      ]
    },
    {
      "cell_type": "markdown",
      "id": "4446fc25",
      "metadata": {
        "id": "4446fc25"
      },
      "source": [
        "поле conversion - это целевая переменная, а offer - коммуникация. Переименовать поля (conversion -> target, offer -> treatment) и привести поле treatment к бинарному виду (1 или 0, т.е было какое-то предложение или нет) - значение No Offer означает отсутствие коммуникации, а все остальные - наличие."
      ]
    },
    {
      "cell_type": "code",
      "execution_count": 138,
      "id": "44bfb836",
      "metadata": {
        "id": "44bfb836"
      },
      "outputs": [],
      "source": [
        "df.rename(columns={'conversion':'target'}, inplace = True)"
      ]
    },
    {
      "cell_type": "code",
      "execution_count": 139,
      "id": "ddf83db6",
      "metadata": {
        "id": "ddf83db6"
      },
      "outputs": [],
      "source": [
        "df.rename(columns={'offer':'treatment'}, inplace = True)"
      ]
    },
    {
      "cell_type": "code",
      "execution_count": 140,
      "id": "ed747435",
      "metadata": {
        "colab": {
          "base_uri": "https://localhost:8080/",
          "height": 206
        },
        "id": "ed747435",
        "outputId": "584b1395-96ed-41df-ef1c-5b5446edf7b9"
      },
      "outputs": [
        {
          "output_type": "execute_result",
          "data": {
            "text/plain": [
              "   recency  history  used_discount  used_bogo   zip_code  is_referral channel  \\\n",
              "0       10   142.44              1          0  Surburban            0   Phone   \n",
              "1        6   329.08              1          1      Rural            1     Web   \n",
              "2        7   180.65              0          1  Surburban            1     Web   \n",
              "3        9   675.83              1          0      Rural            1     Web   \n",
              "4        2    45.34              1          0      Urban            0     Web   \n",
              "\n",
              "         treatment  target  \n",
              "0  Buy One Get One       0  \n",
              "1         No Offer       0  \n",
              "2  Buy One Get One       0  \n",
              "3         Discount       0  \n",
              "4  Buy One Get One       0  "
            ],
            "text/html": [
              "<div>\n",
              "<style scoped>\n",
              "    .dataframe tbody tr th:only-of-type {\n",
              "        vertical-align: middle;\n",
              "    }\n",
              "\n",
              "    .dataframe tbody tr th {\n",
              "        vertical-align: top;\n",
              "    }\n",
              "\n",
              "    .dataframe thead th {\n",
              "        text-align: right;\n",
              "    }\n",
              "</style>\n",
              "<table border=\"1\" class=\"dataframe\">\n",
              "  <thead>\n",
              "    <tr style=\"text-align: right;\">\n",
              "      <th></th>\n",
              "      <th>recency</th>\n",
              "      <th>history</th>\n",
              "      <th>used_discount</th>\n",
              "      <th>used_bogo</th>\n",
              "      <th>zip_code</th>\n",
              "      <th>is_referral</th>\n",
              "      <th>channel</th>\n",
              "      <th>treatment</th>\n",
              "      <th>target</th>\n",
              "    </tr>\n",
              "  </thead>\n",
              "  <tbody>\n",
              "    <tr>\n",
              "      <th>0</th>\n",
              "      <td>10</td>\n",
              "      <td>142.44</td>\n",
              "      <td>1</td>\n",
              "      <td>0</td>\n",
              "      <td>Surburban</td>\n",
              "      <td>0</td>\n",
              "      <td>Phone</td>\n",
              "      <td>Buy One Get One</td>\n",
              "      <td>0</td>\n",
              "    </tr>\n",
              "    <tr>\n",
              "      <th>1</th>\n",
              "      <td>6</td>\n",
              "      <td>329.08</td>\n",
              "      <td>1</td>\n",
              "      <td>1</td>\n",
              "      <td>Rural</td>\n",
              "      <td>1</td>\n",
              "      <td>Web</td>\n",
              "      <td>No Offer</td>\n",
              "      <td>0</td>\n",
              "    </tr>\n",
              "    <tr>\n",
              "      <th>2</th>\n",
              "      <td>7</td>\n",
              "      <td>180.65</td>\n",
              "      <td>0</td>\n",
              "      <td>1</td>\n",
              "      <td>Surburban</td>\n",
              "      <td>1</td>\n",
              "      <td>Web</td>\n",
              "      <td>Buy One Get One</td>\n",
              "      <td>0</td>\n",
              "    </tr>\n",
              "    <tr>\n",
              "      <th>3</th>\n",
              "      <td>9</td>\n",
              "      <td>675.83</td>\n",
              "      <td>1</td>\n",
              "      <td>0</td>\n",
              "      <td>Rural</td>\n",
              "      <td>1</td>\n",
              "      <td>Web</td>\n",
              "      <td>Discount</td>\n",
              "      <td>0</td>\n",
              "    </tr>\n",
              "    <tr>\n",
              "      <th>4</th>\n",
              "      <td>2</td>\n",
              "      <td>45.34</td>\n",
              "      <td>1</td>\n",
              "      <td>0</td>\n",
              "      <td>Urban</td>\n",
              "      <td>0</td>\n",
              "      <td>Web</td>\n",
              "      <td>Buy One Get One</td>\n",
              "      <td>0</td>\n",
              "    </tr>\n",
              "  </tbody>\n",
              "</table>\n",
              "</div>"
            ]
          },
          "metadata": {},
          "execution_count": 140
        }
      ],
      "source": [
        "df.head(5)"
      ]
    },
    {
      "cell_type": "code",
      "execution_count": 141,
      "id": "272efebc",
      "metadata": {
        "colab": {
          "base_uri": "https://localhost:8080/"
        },
        "id": "272efebc",
        "outputId": "1fe56816-73e8-429c-abd3-8bbc6d7b003f"
      },
      "outputs": [
        {
          "output_type": "execute_result",
          "data": {
            "text/plain": [
              "array(['Buy One Get One', 'No Offer', 'Discount'], dtype=object)"
            ]
          },
          "metadata": {},
          "execution_count": 141
        }
      ],
      "source": [
        "df['treatment'].unique()"
      ]
    },
    {
      "cell_type": "code",
      "execution_count": 142,
      "id": "bae4b62e",
      "metadata": {
        "id": "bae4b62e"
      },
      "outputs": [],
      "source": [
        "mapping = {'Buy One Get One' : 1, \n",
        "           'No Offer' : 0, \n",
        "           'Discount' : 1}"
      ]
    },
    {
      "cell_type": "code",
      "execution_count": 143,
      "id": "bee885ca",
      "metadata": {
        "id": "bee885ca"
      },
      "outputs": [],
      "source": [
        "df['treatment'] = df['treatment'].map(mapping)"
      ]
    },
    {
      "cell_type": "code",
      "execution_count": 144,
      "id": "3ee0cde4",
      "metadata": {
        "colab": {
          "base_uri": "https://localhost:8080/"
        },
        "id": "3ee0cde4",
        "outputId": "9e086b6f-fa75-473c-f0a7-470b4a1159de"
      },
      "outputs": [
        {
          "output_type": "execute_result",
          "data": {
            "text/plain": [
              "array([1, 0], dtype=int64)"
            ]
          },
          "metadata": {},
          "execution_count": 144
        }
      ],
      "source": [
        "df['treatment'].unique()"
      ]
    },
    {
      "cell_type": "code",
      "source": [
        "df.groupby(\"treatment\")['target'].describe()"
      ],
      "metadata": {
        "colab": {
          "base_uri": "https://localhost:8080/",
          "height": 143
        },
        "id": "NLbYENNs-JCk",
        "outputId": "7715cba2-69fb-4c50-b89c-2cc865c80625"
      },
      "id": "NLbYENNs-JCk",
      "execution_count": 145,
      "outputs": [
        {
          "output_type": "execute_result",
          "data": {
            "text/plain": [
              "             count      mean       std  min  25%  50%  75%  max\n",
              "treatment                                                      \n",
              "0          21306.0  0.106167  0.308059  0.0  0.0  0.0  0.0  1.0\n",
              "1          42694.0  0.167049  0.373024  0.0  0.0  0.0  0.0  1.0"
            ],
            "text/html": [
              "<div>\n",
              "<style scoped>\n",
              "    .dataframe tbody tr th:only-of-type {\n",
              "        vertical-align: middle;\n",
              "    }\n",
              "\n",
              "    .dataframe tbody tr th {\n",
              "        vertical-align: top;\n",
              "    }\n",
              "\n",
              "    .dataframe thead th {\n",
              "        text-align: right;\n",
              "    }\n",
              "</style>\n",
              "<table border=\"1\" class=\"dataframe\">\n",
              "  <thead>\n",
              "    <tr style=\"text-align: right;\">\n",
              "      <th></th>\n",
              "      <th>count</th>\n",
              "      <th>mean</th>\n",
              "      <th>std</th>\n",
              "      <th>min</th>\n",
              "      <th>25%</th>\n",
              "      <th>50%</th>\n",
              "      <th>75%</th>\n",
              "      <th>max</th>\n",
              "    </tr>\n",
              "    <tr>\n",
              "      <th>treatment</th>\n",
              "      <th></th>\n",
              "      <th></th>\n",
              "      <th></th>\n",
              "      <th></th>\n",
              "      <th></th>\n",
              "      <th></th>\n",
              "      <th></th>\n",
              "      <th></th>\n",
              "    </tr>\n",
              "  </thead>\n",
              "  <tbody>\n",
              "    <tr>\n",
              "      <th>0</th>\n",
              "      <td>21306.0</td>\n",
              "      <td>0.106167</td>\n",
              "      <td>0.308059</td>\n",
              "      <td>0.0</td>\n",
              "      <td>0.0</td>\n",
              "      <td>0.0</td>\n",
              "      <td>0.0</td>\n",
              "      <td>1.0</td>\n",
              "    </tr>\n",
              "    <tr>\n",
              "      <th>1</th>\n",
              "      <td>42694.0</td>\n",
              "      <td>0.167049</td>\n",
              "      <td>0.373024</td>\n",
              "      <td>0.0</td>\n",
              "      <td>0.0</td>\n",
              "      <td>0.0</td>\n",
              "      <td>0.0</td>\n",
              "      <td>1.0</td>\n",
              "    </tr>\n",
              "  </tbody>\n",
              "</table>\n",
              "</div>"
            ]
          },
          "metadata": {},
          "execution_count": 145
        }
      ]
    },
    {
      "cell_type": "markdown",
      "id": "d02bf75d",
      "metadata": {
        "id": "d02bf75d"
      },
      "source": [
        "сделать разбиение набора данных не тренировочную и тестовую выборки"
      ]
    },
    {
      "cell_type": "code",
      "execution_count": 146,
      "id": "a41f49ec",
      "metadata": {
        "id": "a41f49ec"
      },
      "outputs": [],
      "source": [
        "from sklearn.model_selection import train_test_split\n",
        "X_train, X_test, y_train, y_test = train_test_split(df.drop('target', axis=1), \n",
        "                                                    df['target'], random_state=0)"
      ]
    },
    {
      "cell_type": "code",
      "execution_count": 147,
      "id": "9675df1e",
      "metadata": {
        "colab": {
          "base_uri": "https://localhost:8080/",
          "height": 206
        },
        "id": "9675df1e",
        "outputId": "a56d0ba4-3a46-40fe-e550-562aef51860a"
      },
      "outputs": [
        {
          "output_type": "execute_result",
          "data": {
            "text/plain": [
              "       recency  history  used_discount  used_bogo   zip_code  is_referral  \\\n",
              "1098         8    63.58              1          0  Surburban            1   \n",
              "13764        3   395.35              1          0  Surburban            1   \n",
              "45116        4  1307.99              1          1      Rural            1   \n",
              "15363       10   159.01              0          1  Surburban            1   \n",
              "44498        1   276.00              1          0      Urban            0   \n",
              "\n",
              "      channel  treatment  \n",
              "1098    Phone          1  \n",
              "13764     Web          1  \n",
              "45116   Phone          1  \n",
              "15363     Web          0  \n",
              "44498   Phone          0  "
            ],
            "text/html": [
              "<div>\n",
              "<style scoped>\n",
              "    .dataframe tbody tr th:only-of-type {\n",
              "        vertical-align: middle;\n",
              "    }\n",
              "\n",
              "    .dataframe tbody tr th {\n",
              "        vertical-align: top;\n",
              "    }\n",
              "\n",
              "    .dataframe thead th {\n",
              "        text-align: right;\n",
              "    }\n",
              "</style>\n",
              "<table border=\"1\" class=\"dataframe\">\n",
              "  <thead>\n",
              "    <tr style=\"text-align: right;\">\n",
              "      <th></th>\n",
              "      <th>recency</th>\n",
              "      <th>history</th>\n",
              "      <th>used_discount</th>\n",
              "      <th>used_bogo</th>\n",
              "      <th>zip_code</th>\n",
              "      <th>is_referral</th>\n",
              "      <th>channel</th>\n",
              "      <th>treatment</th>\n",
              "    </tr>\n",
              "  </thead>\n",
              "  <tbody>\n",
              "    <tr>\n",
              "      <th>1098</th>\n",
              "      <td>8</td>\n",
              "      <td>63.58</td>\n",
              "      <td>1</td>\n",
              "      <td>0</td>\n",
              "      <td>Surburban</td>\n",
              "      <td>1</td>\n",
              "      <td>Phone</td>\n",
              "      <td>1</td>\n",
              "    </tr>\n",
              "    <tr>\n",
              "      <th>13764</th>\n",
              "      <td>3</td>\n",
              "      <td>395.35</td>\n",
              "      <td>1</td>\n",
              "      <td>0</td>\n",
              "      <td>Surburban</td>\n",
              "      <td>1</td>\n",
              "      <td>Web</td>\n",
              "      <td>1</td>\n",
              "    </tr>\n",
              "    <tr>\n",
              "      <th>45116</th>\n",
              "      <td>4</td>\n",
              "      <td>1307.99</td>\n",
              "      <td>1</td>\n",
              "      <td>1</td>\n",
              "      <td>Rural</td>\n",
              "      <td>1</td>\n",
              "      <td>Phone</td>\n",
              "      <td>1</td>\n",
              "    </tr>\n",
              "    <tr>\n",
              "      <th>15363</th>\n",
              "      <td>10</td>\n",
              "      <td>159.01</td>\n",
              "      <td>0</td>\n",
              "      <td>1</td>\n",
              "      <td>Surburban</td>\n",
              "      <td>1</td>\n",
              "      <td>Web</td>\n",
              "      <td>0</td>\n",
              "    </tr>\n",
              "    <tr>\n",
              "      <th>44498</th>\n",
              "      <td>1</td>\n",
              "      <td>276.00</td>\n",
              "      <td>1</td>\n",
              "      <td>0</td>\n",
              "      <td>Urban</td>\n",
              "      <td>0</td>\n",
              "      <td>Phone</td>\n",
              "      <td>0</td>\n",
              "    </tr>\n",
              "  </tbody>\n",
              "</table>\n",
              "</div>"
            ]
          },
          "metadata": {},
          "execution_count": 147
        }
      ],
      "source": [
        "X_train.head(5)"
      ]
    },
    {
      "cell_type": "markdown",
      "id": "1630119b",
      "metadata": {
        "id": "1630119b"
      },
      "source": [
        "сделать feature engineering на ваше усмотрение (допускается свобода выбора методов)"
      ]
    },
    {
      "cell_type": "code",
      "execution_count": 149,
      "id": "efab7e29",
      "metadata": {
        "id": "efab7e29"
      },
      "outputs": [],
      "source": [
        "# X_train = pd.get_dummies(X_train)\n",
        "# X_test = pd.get_dummies(X_test)\n",
        "X_train.fillna(0, inplace=True)\n",
        "X_test.fillna(0, inplace=True)"
      ]
    },
    {
      "cell_type": "code",
      "source": [
        "X_train.head(5)"
      ],
      "metadata": {
        "colab": {
          "base_uri": "https://localhost:8080/",
          "height": 206
        },
        "id": "IAoX_USx6tgv",
        "outputId": "9e2b480b-40dd-4e8a-dabd-424999d15458"
      },
      "id": "IAoX_USx6tgv",
      "execution_count": 150,
      "outputs": [
        {
          "output_type": "execute_result",
          "data": {
            "text/plain": [
              "       recency  history  used_discount  used_bogo   zip_code  is_referral  \\\n",
              "1098         8    63.58              1          0  Surburban            1   \n",
              "13764        3   395.35              1          0  Surburban            1   \n",
              "45116        4  1307.99              1          1      Rural            1   \n",
              "15363       10   159.01              0          1  Surburban            1   \n",
              "44498        1   276.00              1          0      Urban            0   \n",
              "\n",
              "      channel  treatment  \n",
              "1098    Phone          1  \n",
              "13764     Web          1  \n",
              "45116   Phone          1  \n",
              "15363     Web          0  \n",
              "44498   Phone          0  "
            ],
            "text/html": [
              "<div>\n",
              "<style scoped>\n",
              "    .dataframe tbody tr th:only-of-type {\n",
              "        vertical-align: middle;\n",
              "    }\n",
              "\n",
              "    .dataframe tbody tr th {\n",
              "        vertical-align: top;\n",
              "    }\n",
              "\n",
              "    .dataframe thead th {\n",
              "        text-align: right;\n",
              "    }\n",
              "</style>\n",
              "<table border=\"1\" class=\"dataframe\">\n",
              "  <thead>\n",
              "    <tr style=\"text-align: right;\">\n",
              "      <th></th>\n",
              "      <th>recency</th>\n",
              "      <th>history</th>\n",
              "      <th>used_discount</th>\n",
              "      <th>used_bogo</th>\n",
              "      <th>zip_code</th>\n",
              "      <th>is_referral</th>\n",
              "      <th>channel</th>\n",
              "      <th>treatment</th>\n",
              "    </tr>\n",
              "  </thead>\n",
              "  <tbody>\n",
              "    <tr>\n",
              "      <th>1098</th>\n",
              "      <td>8</td>\n",
              "      <td>63.58</td>\n",
              "      <td>1</td>\n",
              "      <td>0</td>\n",
              "      <td>Surburban</td>\n",
              "      <td>1</td>\n",
              "      <td>Phone</td>\n",
              "      <td>1</td>\n",
              "    </tr>\n",
              "    <tr>\n",
              "      <th>13764</th>\n",
              "      <td>3</td>\n",
              "      <td>395.35</td>\n",
              "      <td>1</td>\n",
              "      <td>0</td>\n",
              "      <td>Surburban</td>\n",
              "      <td>1</td>\n",
              "      <td>Web</td>\n",
              "      <td>1</td>\n",
              "    </tr>\n",
              "    <tr>\n",
              "      <th>45116</th>\n",
              "      <td>4</td>\n",
              "      <td>1307.99</td>\n",
              "      <td>1</td>\n",
              "      <td>1</td>\n",
              "      <td>Rural</td>\n",
              "      <td>1</td>\n",
              "      <td>Phone</td>\n",
              "      <td>1</td>\n",
              "    </tr>\n",
              "    <tr>\n",
              "      <th>15363</th>\n",
              "      <td>10</td>\n",
              "      <td>159.01</td>\n",
              "      <td>0</td>\n",
              "      <td>1</td>\n",
              "      <td>Surburban</td>\n",
              "      <td>1</td>\n",
              "      <td>Web</td>\n",
              "      <td>0</td>\n",
              "    </tr>\n",
              "    <tr>\n",
              "      <th>44498</th>\n",
              "      <td>1</td>\n",
              "      <td>276.00</td>\n",
              "      <td>1</td>\n",
              "      <td>0</td>\n",
              "      <td>Urban</td>\n",
              "      <td>0</td>\n",
              "      <td>Phone</td>\n",
              "      <td>0</td>\n",
              "    </tr>\n",
              "  </tbody>\n",
              "</table>\n",
              "</div>"
            ]
          },
          "metadata": {},
          "execution_count": 150
        }
      ]
    },
    {
      "cell_type": "markdown",
      "id": "f9380714",
      "metadata": {
        "id": "f9380714"
      },
      "source": [
        "провести uplift-моделирование 3 способами:\n",
        "\n",
        "# **одна модель с признаком коммуникации (S-learner)**\n"
      ]
    },
    {
      "cell_type": "code",
      "source": [
        "!pip install scikit-uplift catboost"
      ],
      "metadata": {
        "colab": {
          "base_uri": "https://localhost:8080/"
        },
        "id": "HPJPwYbo68rL",
        "outputId": "b12d8ff5-5f7d-46c0-fe43-aabcb4cf5dc2"
      },
      "id": "HPJPwYbo68rL",
      "execution_count": 152,
      "outputs": [
        {
          "output_type": "stream",
          "name": "stdout",
          "text": [
            "Requirement already satisfied: scikit-uplift in c:\\programdata\\anaconda3\\lib\\site-packages (0.4.0)\n",
            "Requirement already satisfied: catboost in c:\\programdata\\anaconda3\\lib\\site-packages (0.25)\n",
            "Requirement already satisfied: matplotlib in c:\\programdata\\anaconda3\\lib\\site-packages (from scikit-uplift) (3.3.2)\n",
            "Requirement already satisfied: pandas in c:\\programdata\\anaconda3\\lib\\site-packages (from scikit-uplift) (1.1.3)\n",
            "Requirement already satisfied: scikit-learn>=0.21.0 in c:\\programdata\\anaconda3\\lib\\site-packages (from scikit-uplift) (0.23.2)\n",
            "Requirement already satisfied: numpy>=1.16 in c:\\programdata\\anaconda3\\lib\\site-packages (from scikit-uplift) (1.22.3)\n",
            "Requirement already satisfied: requests in c:\\programdata\\anaconda3\\lib\\site-packages (from scikit-uplift) (2.24.0)\n",
            "Requirement already satisfied: tqdm in c:\\programdata\\anaconda3\\lib\\site-packages (from scikit-uplift) (4.50.2)\n",
            "Requirement already satisfied: plotly in c:\\programdata\\anaconda3\\lib\\site-packages (from catboost) (4.14.3)\n",
            "Requirement already satisfied: scipy in c:\\programdata\\anaconda3\\lib\\site-packages (from catboost) (1.5.2)\n",
            "Requirement already satisfied: graphviz in c:\\programdata\\anaconda3\\lib\\site-packages (from catboost) (0.16)\n",
            "Requirement already satisfied: six in c:\\programdata\\anaconda3\\lib\\site-packages (from catboost) (1.15.0)\n",
            "Requirement already satisfied: python-dateutil>=2.1 in c:\\programdata\\anaconda3\\lib\\site-packages (from matplotlib->scikit-uplift) (2.8.1)\n",
            "Requirement already satisfied: pillow>=6.2.0 in c:\\programdata\\anaconda3\\lib\\site-packages (from matplotlib->scikit-uplift) (8.0.1)\n",
            "Requirement already satisfied: certifi>=2020.06.20 in c:\\programdata\\anaconda3\\lib\\site-packages (from matplotlib->scikit-uplift) (2020.6.20)\n",
            "Requirement already satisfied: pyparsing!=2.0.4,!=2.1.2,!=2.1.6,>=2.0.3 in c:\\programdata\\anaconda3\\lib\\site-packages (from matplotlib->scikit-uplift) (2.4.7)\n",
            "Requirement already satisfied: cycler>=0.10 in c:\\programdata\\anaconda3\\lib\\site-packages (from matplotlib->scikit-uplift) (0.10.0)\n",
            "Requirement already satisfied: kiwisolver>=1.0.1 in c:\\programdata\\anaconda3\\lib\\site-packages (from matplotlib->scikit-uplift) (1.3.0)\n",
            "Requirement already satisfied: pytz>=2017.2 in c:\\programdata\\anaconda3\\lib\\site-packages (from pandas->scikit-uplift) (2020.1)\n",
            "Requirement already satisfied: joblib>=0.11 in c:\\programdata\\anaconda3\\lib\\site-packages (from scikit-learn>=0.21.0->scikit-uplift) (0.17.0)\n",
            "Requirement already satisfied: threadpoolctl>=2.0.0 in c:\\programdata\\anaconda3\\lib\\site-packages (from scikit-learn>=0.21.0->scikit-uplift) (2.1.0)\n",
            "Requirement already satisfied: idna<3,>=2.5 in c:\\programdata\\anaconda3\\lib\\site-packages (from requests->scikit-uplift) (2.10)\n",
            "Requirement already satisfied: chardet<4,>=3.0.2 in c:\\programdata\\anaconda3\\lib\\site-packages (from requests->scikit-uplift) (3.0.4)\n",
            "Requirement already satisfied: urllib3!=1.25.0,!=1.25.1,<1.26,>=1.21.1 in c:\\programdata\\anaconda3\\lib\\site-packages (from requests->scikit-uplift) (1.25.11)\n",
            "Requirement already satisfied: retrying>=1.3.3 in c:\\programdata\\anaconda3\\lib\\site-packages (from plotly->catboost) (1.3.3)\n"
          ]
        }
      ]
    },
    {
      "cell_type": "code",
      "execution_count": 153,
      "id": "39b3b74f",
      "metadata": {
        "id": "39b3b74f"
      },
      "outputs": [],
      "source": [
        "from sklift.models import SoloModel, TwoModels, ClassTransformation\n",
        "from sklift.metrics import uplift_at_k\n",
        "\n",
        "from sklearn.ensemble import GradientBoostingClassifier"
      ]
    },
    {
      "cell_type": "code",
      "execution_count": 154,
      "id": "b7f29275",
      "metadata": {
        "id": "b7f29275"
      },
      "outputs": [],
      "source": [
        "treat_train = X_train['treatment']\n",
        "treat_test = X_test['treatment']\n",
        "\n",
        "cat_features = ['zip_code', 'channel']\n",
        "models_results = {\n",
        "    'approach': [],\n",
        "    'uplift@10%': [],\n",
        "    'uplift@20%': []\n",
        "}"
      ]
    },
    {
      "cell_type": "code",
      "source": [
        "X_train = X_train.drop('treatment', axis=1)\n",
        "X_train"
      ],
      "metadata": {
        "colab": {
          "base_uri": "https://localhost:8080/",
          "height": 423
        },
        "id": "l381qj0x8jZI",
        "outputId": "c5e19636-dd5e-4046-cf74-e7e341cc5996"
      },
      "id": "l381qj0x8jZI",
      "execution_count": 155,
      "outputs": [
        {
          "output_type": "execute_result",
          "data": {
            "text/plain": [
              "       recency  history  used_discount  used_bogo   zip_code  is_referral  \\\n",
              "1098         8    63.58              1          0  Surburban            1   \n",
              "13764        3   395.35              1          0  Surburban            1   \n",
              "45116        4  1307.99              1          1      Rural            1   \n",
              "15363       10   159.01              0          1  Surburban            1   \n",
              "44498        1   276.00              1          0      Urban            0   \n",
              "...        ...      ...            ...        ...        ...          ...   \n",
              "45891        9    34.26              1          0      Urban            0   \n",
              "52416        5   264.71              1          1      Urban            0   \n",
              "42613       12   419.44              0          1      Urban            1   \n",
              "43567        1   331.56              0          1      Urban            0   \n",
              "2732         2   221.16              1          0      Rural            0   \n",
              "\n",
              "            channel  \n",
              "1098          Phone  \n",
              "13764           Web  \n",
              "45116         Phone  \n",
              "15363           Web  \n",
              "44498         Phone  \n",
              "...             ...  \n",
              "45891         Phone  \n",
              "52416  Multichannel  \n",
              "42613  Multichannel  \n",
              "43567  Multichannel  \n",
              "2732          Phone  \n",
              "\n",
              "[48000 rows x 7 columns]"
            ],
            "text/html": [
              "<div>\n",
              "<style scoped>\n",
              "    .dataframe tbody tr th:only-of-type {\n",
              "        vertical-align: middle;\n",
              "    }\n",
              "\n",
              "    .dataframe tbody tr th {\n",
              "        vertical-align: top;\n",
              "    }\n",
              "\n",
              "    .dataframe thead th {\n",
              "        text-align: right;\n",
              "    }\n",
              "</style>\n",
              "<table border=\"1\" class=\"dataframe\">\n",
              "  <thead>\n",
              "    <tr style=\"text-align: right;\">\n",
              "      <th></th>\n",
              "      <th>recency</th>\n",
              "      <th>history</th>\n",
              "      <th>used_discount</th>\n",
              "      <th>used_bogo</th>\n",
              "      <th>zip_code</th>\n",
              "      <th>is_referral</th>\n",
              "      <th>channel</th>\n",
              "    </tr>\n",
              "  </thead>\n",
              "  <tbody>\n",
              "    <tr>\n",
              "      <th>1098</th>\n",
              "      <td>8</td>\n",
              "      <td>63.58</td>\n",
              "      <td>1</td>\n",
              "      <td>0</td>\n",
              "      <td>Surburban</td>\n",
              "      <td>1</td>\n",
              "      <td>Phone</td>\n",
              "    </tr>\n",
              "    <tr>\n",
              "      <th>13764</th>\n",
              "      <td>3</td>\n",
              "      <td>395.35</td>\n",
              "      <td>1</td>\n",
              "      <td>0</td>\n",
              "      <td>Surburban</td>\n",
              "      <td>1</td>\n",
              "      <td>Web</td>\n",
              "    </tr>\n",
              "    <tr>\n",
              "      <th>45116</th>\n",
              "      <td>4</td>\n",
              "      <td>1307.99</td>\n",
              "      <td>1</td>\n",
              "      <td>1</td>\n",
              "      <td>Rural</td>\n",
              "      <td>1</td>\n",
              "      <td>Phone</td>\n",
              "    </tr>\n",
              "    <tr>\n",
              "      <th>15363</th>\n",
              "      <td>10</td>\n",
              "      <td>159.01</td>\n",
              "      <td>0</td>\n",
              "      <td>1</td>\n",
              "      <td>Surburban</td>\n",
              "      <td>1</td>\n",
              "      <td>Web</td>\n",
              "    </tr>\n",
              "    <tr>\n",
              "      <th>44498</th>\n",
              "      <td>1</td>\n",
              "      <td>276.00</td>\n",
              "      <td>1</td>\n",
              "      <td>0</td>\n",
              "      <td>Urban</td>\n",
              "      <td>0</td>\n",
              "      <td>Phone</td>\n",
              "    </tr>\n",
              "    <tr>\n",
              "      <th>...</th>\n",
              "      <td>...</td>\n",
              "      <td>...</td>\n",
              "      <td>...</td>\n",
              "      <td>...</td>\n",
              "      <td>...</td>\n",
              "      <td>...</td>\n",
              "      <td>...</td>\n",
              "    </tr>\n",
              "    <tr>\n",
              "      <th>45891</th>\n",
              "      <td>9</td>\n",
              "      <td>34.26</td>\n",
              "      <td>1</td>\n",
              "      <td>0</td>\n",
              "      <td>Urban</td>\n",
              "      <td>0</td>\n",
              "      <td>Phone</td>\n",
              "    </tr>\n",
              "    <tr>\n",
              "      <th>52416</th>\n",
              "      <td>5</td>\n",
              "      <td>264.71</td>\n",
              "      <td>1</td>\n",
              "      <td>1</td>\n",
              "      <td>Urban</td>\n",
              "      <td>0</td>\n",
              "      <td>Multichannel</td>\n",
              "    </tr>\n",
              "    <tr>\n",
              "      <th>42613</th>\n",
              "      <td>12</td>\n",
              "      <td>419.44</td>\n",
              "      <td>0</td>\n",
              "      <td>1</td>\n",
              "      <td>Urban</td>\n",
              "      <td>1</td>\n",
              "      <td>Multichannel</td>\n",
              "    </tr>\n",
              "    <tr>\n",
              "      <th>43567</th>\n",
              "      <td>1</td>\n",
              "      <td>331.56</td>\n",
              "      <td>0</td>\n",
              "      <td>1</td>\n",
              "      <td>Urban</td>\n",
              "      <td>0</td>\n",
              "      <td>Multichannel</td>\n",
              "    </tr>\n",
              "    <tr>\n",
              "      <th>2732</th>\n",
              "      <td>2</td>\n",
              "      <td>221.16</td>\n",
              "      <td>1</td>\n",
              "      <td>0</td>\n",
              "      <td>Rural</td>\n",
              "      <td>0</td>\n",
              "      <td>Phone</td>\n",
              "    </tr>\n",
              "  </tbody>\n",
              "</table>\n",
              "<p>48000 rows × 7 columns</p>\n",
              "</div>"
            ]
          },
          "metadata": {},
          "execution_count": 155
        }
      ]
    },
    {
      "cell_type": "code",
      "source": [
        "X_test = X_test.drop('treatment', axis=1)\n",
        "X_test"
      ],
      "metadata": {
        "colab": {
          "base_uri": "https://localhost:8080/",
          "height": 423
        },
        "id": "hHjGtq52_-S9",
        "outputId": "d747e310-f410-4a14-c98d-f928d1cac779"
      },
      "id": "hHjGtq52_-S9",
      "execution_count": 156,
      "outputs": [
        {
          "output_type": "execute_result",
          "data": {
            "text/plain": [
              "       recency  history  used_discount  used_bogo   zip_code  is_referral  \\\n",
              "11277        3   466.66              0          1      Urban            1   \n",
              "55819        8    44.25              0          1      Urban            0   \n",
              "43223       10   370.84              0          1      Urban            0   \n",
              "1351         3   114.27              1          0      Urban            1   \n",
              "9247         5   230.93              1          1  Surburban            0   \n",
              "...        ...      ...            ...        ...        ...          ...   \n",
              "9888         8   114.25              0          1  Surburban            1   \n",
              "8672         4   147.40              1          0  Surburban            1   \n",
              "3849         8   394.16              0          1  Surburban            0   \n",
              "11163        7   275.45              1          0      Rural            0   \n",
              "26707        3   815.43              1          1      Rural            1   \n",
              "\n",
              "      channel  \n",
              "11277   Phone  \n",
              "55819   Phone  \n",
              "43223   Phone  \n",
              "1351      Web  \n",
              "9247    Phone  \n",
              "...       ...  \n",
              "9888      Web  \n",
              "8672    Phone  \n",
              "3849      Web  \n",
              "11163   Phone  \n",
              "26707     Web  \n",
              "\n",
              "[16000 rows x 7 columns]"
            ],
            "text/html": [
              "<div>\n",
              "<style scoped>\n",
              "    .dataframe tbody tr th:only-of-type {\n",
              "        vertical-align: middle;\n",
              "    }\n",
              "\n",
              "    .dataframe tbody tr th {\n",
              "        vertical-align: top;\n",
              "    }\n",
              "\n",
              "    .dataframe thead th {\n",
              "        text-align: right;\n",
              "    }\n",
              "</style>\n",
              "<table border=\"1\" class=\"dataframe\">\n",
              "  <thead>\n",
              "    <tr style=\"text-align: right;\">\n",
              "      <th></th>\n",
              "      <th>recency</th>\n",
              "      <th>history</th>\n",
              "      <th>used_discount</th>\n",
              "      <th>used_bogo</th>\n",
              "      <th>zip_code</th>\n",
              "      <th>is_referral</th>\n",
              "      <th>channel</th>\n",
              "    </tr>\n",
              "  </thead>\n",
              "  <tbody>\n",
              "    <tr>\n",
              "      <th>11277</th>\n",
              "      <td>3</td>\n",
              "      <td>466.66</td>\n",
              "      <td>0</td>\n",
              "      <td>1</td>\n",
              "      <td>Urban</td>\n",
              "      <td>1</td>\n",
              "      <td>Phone</td>\n",
              "    </tr>\n",
              "    <tr>\n",
              "      <th>55819</th>\n",
              "      <td>8</td>\n",
              "      <td>44.25</td>\n",
              "      <td>0</td>\n",
              "      <td>1</td>\n",
              "      <td>Urban</td>\n",
              "      <td>0</td>\n",
              "      <td>Phone</td>\n",
              "    </tr>\n",
              "    <tr>\n",
              "      <th>43223</th>\n",
              "      <td>10</td>\n",
              "      <td>370.84</td>\n",
              "      <td>0</td>\n",
              "      <td>1</td>\n",
              "      <td>Urban</td>\n",
              "      <td>0</td>\n",
              "      <td>Phone</td>\n",
              "    </tr>\n",
              "    <tr>\n",
              "      <th>1351</th>\n",
              "      <td>3</td>\n",
              "      <td>114.27</td>\n",
              "      <td>1</td>\n",
              "      <td>0</td>\n",
              "      <td>Urban</td>\n",
              "      <td>1</td>\n",
              "      <td>Web</td>\n",
              "    </tr>\n",
              "    <tr>\n",
              "      <th>9247</th>\n",
              "      <td>5</td>\n",
              "      <td>230.93</td>\n",
              "      <td>1</td>\n",
              "      <td>1</td>\n",
              "      <td>Surburban</td>\n",
              "      <td>0</td>\n",
              "      <td>Phone</td>\n",
              "    </tr>\n",
              "    <tr>\n",
              "      <th>...</th>\n",
              "      <td>...</td>\n",
              "      <td>...</td>\n",
              "      <td>...</td>\n",
              "      <td>...</td>\n",
              "      <td>...</td>\n",
              "      <td>...</td>\n",
              "      <td>...</td>\n",
              "    </tr>\n",
              "    <tr>\n",
              "      <th>9888</th>\n",
              "      <td>8</td>\n",
              "      <td>114.25</td>\n",
              "      <td>0</td>\n",
              "      <td>1</td>\n",
              "      <td>Surburban</td>\n",
              "      <td>1</td>\n",
              "      <td>Web</td>\n",
              "    </tr>\n",
              "    <tr>\n",
              "      <th>8672</th>\n",
              "      <td>4</td>\n",
              "      <td>147.40</td>\n",
              "      <td>1</td>\n",
              "      <td>0</td>\n",
              "      <td>Surburban</td>\n",
              "      <td>1</td>\n",
              "      <td>Phone</td>\n",
              "    </tr>\n",
              "    <tr>\n",
              "      <th>3849</th>\n",
              "      <td>8</td>\n",
              "      <td>394.16</td>\n",
              "      <td>0</td>\n",
              "      <td>1</td>\n",
              "      <td>Surburban</td>\n",
              "      <td>0</td>\n",
              "      <td>Web</td>\n",
              "    </tr>\n",
              "    <tr>\n",
              "      <th>11163</th>\n",
              "      <td>7</td>\n",
              "      <td>275.45</td>\n",
              "      <td>1</td>\n",
              "      <td>0</td>\n",
              "      <td>Rural</td>\n",
              "      <td>0</td>\n",
              "      <td>Phone</td>\n",
              "    </tr>\n",
              "    <tr>\n",
              "      <th>26707</th>\n",
              "      <td>3</td>\n",
              "      <td>815.43</td>\n",
              "      <td>1</td>\n",
              "      <td>1</td>\n",
              "      <td>Rural</td>\n",
              "      <td>1</td>\n",
              "      <td>Web</td>\n",
              "    </tr>\n",
              "  </tbody>\n",
              "</table>\n",
              "<p>16000 rows × 7 columns</p>\n",
              "</div>"
            ]
          },
          "metadata": {},
          "execution_count": 156
        }
      ]
    },
    {
      "cell_type": "code",
      "execution_count": 157,
      "id": "0e857ba3",
      "metadata": {
        "colab": {
          "base_uri": "https://localhost:8080/",
          "height": 444
        },
        "id": "0e857ba3",
        "outputId": "1dfb0be0-1f3f-4867-f0ca-a7cfe157aae0"
      },
      "outputs": [
        {
          "output_type": "display_data",
          "data": {
            "text/plain": [
              "<Figure size 1440x504 with 3 Axes>"
            ],
            "image/png": "[encoded data removed]"
          },
          "metadata": {
            "needs_background": "light"
          }
        }
      ],
      "source": [
        "from sklift.metrics import uplift_at_k\n",
        "from sklift.viz import plot_uplift_preds\n",
        "from sklift.models import SoloModel\n",
        "\n",
        "# sklift поддерживает любые модели, \n",
        "# которые удовлетворяют соглашениями scikit-learn\n",
        "# Для примера воспользуемся catboost\n",
        "from catboost import CatBoostClassifier\n",
        "\n",
        "\n",
        "sm = SoloModel(\n",
        "    CatBoostClassifier(iterations=50, random_state=42, silent=True, cat_features=cat_features)\n",
        ")\n",
        "\n",
        "sm = sm.fit(X_train, y_train, treat_train)\n",
        "\n",
        "uplift_sm = sm.predict(X_test)\n",
        "\n",
        "sm_score_1 = uplift_at_k(y_true=y_test, uplift=uplift_sm, treatment=treat_test, strategy='by_group', k=0.1)\n",
        "sm_score_2 = uplift_at_k(y_true=y_test, uplift=uplift_sm, treatment=treat_test, strategy='by_group', k=0.2)\n",
        "\n",
        "models_results['approach'].append('SoloModel')\n",
        "models_results['uplift@10%'].append(sm_score_1)\n",
        "models_results['uplift@20%'].append(sm_score_2)\n",
        "\n",
        "# Получим условные вероятности выполнения целевого действия при взаимодействии для каждого объекта\n",
        "sm_trmnt_preds = sm.trmnt_preds_\n",
        "# И условные вероятности выполнения целевого действия без взаимодействия для каждого объекта\n",
        "sm_ctrl_preds = sm.ctrl_preds_\n",
        "\n",
        "# Отрисуем распределения вероятностей и их разность (uplift)\n",
        "plot_uplift_preds(trmnt_preds=sm_trmnt_preds, ctrl_preds=sm_ctrl_preds);"
      ]
    },
    {
      "cell_type": "code",
      "execution_count": 158,
      "id": "9de3705f",
      "metadata": {
        "colab": {
          "base_uri": "https://localhost:8080/",
          "height": 300
        },
        "id": "9de3705f",
        "outputId": "827529a3-4f02-43b0-ead9-b1385aea040c"
      },
      "outputs": [
        {
          "output_type": "execute_result",
          "data": {
            "text/plain": [
              "    feature_name  feature_score\n",
              "0      treatment      17.575450\n",
              "1    is_referral      15.076992\n",
              "2        history      14.955890\n",
              "3        recency      12.296294\n",
              "4       zip_code      11.768712\n",
              "5      used_bogo      11.631202\n",
              "6  used_discount       8.851046\n",
              "7        channel       7.844414"
            ],
            "text/html": [
              "<div>\n",
              "<style scoped>\n",
              "    .dataframe tbody tr th:only-of-type {\n",
              "        vertical-align: middle;\n",
              "    }\n",
              "\n",
              "    .dataframe tbody tr th {\n",
              "        vertical-align: top;\n",
              "    }\n",
              "\n",
              "    .dataframe thead th {\n",
              "        text-align: right;\n",
              "    }\n",
              "</style>\n",
              "<table border=\"1\" class=\"dataframe\">\n",
              "  <thead>\n",
              "    <tr style=\"text-align: right;\">\n",
              "      <th></th>\n",
              "      <th>feature_name</th>\n",
              "      <th>feature_score</th>\n",
              "    </tr>\n",
              "  </thead>\n",
              "  <tbody>\n",
              "    <tr>\n",
              "      <th>0</th>\n",
              "      <td>treatment</td>\n",
              "      <td>17.575450</td>\n",
              "    </tr>\n",
              "    <tr>\n",
              "      <th>1</th>\n",
              "      <td>is_referral</td>\n",
              "      <td>15.076992</td>\n",
              "    </tr>\n",
              "    <tr>\n",
              "      <th>2</th>\n",
              "      <td>history</td>\n",
              "      <td>14.955890</td>\n",
              "    </tr>\n",
              "    <tr>\n",
              "      <th>3</th>\n",
              "      <td>recency</td>\n",
              "      <td>12.296294</td>\n",
              "    </tr>\n",
              "    <tr>\n",
              "      <th>4</th>\n",
              "      <td>zip_code</td>\n",
              "      <td>11.768712</td>\n",
              "    </tr>\n",
              "    <tr>\n",
              "      <th>5</th>\n",
              "      <td>used_bogo</td>\n",
              "      <td>11.631202</td>\n",
              "    </tr>\n",
              "    <tr>\n",
              "      <th>6</th>\n",
              "      <td>used_discount</td>\n",
              "      <td>8.851046</td>\n",
              "    </tr>\n",
              "    <tr>\n",
              "      <th>7</th>\n",
              "      <td>channel</td>\n",
              "      <td>7.844414</td>\n",
              "    </tr>\n",
              "  </tbody>\n",
              "</table>\n",
              "</div>"
            ]
          },
          "metadata": {},
          "execution_count": 158
        }
      ],
      "source": [
        "# С той же легкостью можно обратиться к обученной модели.\n",
        "# Например, чтобы построить важность признаков:\n",
        "sm_fi = pd.DataFrame({\n",
        "    'feature_name': sm.estimator.feature_names_,\n",
        "    'feature_score': sm.estimator.feature_importances_\n",
        "}).sort_values('feature_score', ascending=False).reset_index(drop=True)\n",
        "\n",
        "sm_fi"
      ]
    },
    {
      "cell_type": "markdown",
      "id": "d95b48bf",
      "metadata": {
        "id": "d95b48bf"
      },
      "source": [
        "# **модель с трансформацией таргета**"
      ]
    },
    {
      "cell_type": "code",
      "execution_count": 159,
      "id": "2700dc5a",
      "metadata": {
        "id": "2700dc5a"
      },
      "outputs": [],
      "source": [
        "from sklift.models import ClassTransformation\n",
        "\n",
        "\n",
        "ct = ClassTransformation(CatBoostClassifier(iterations=50, random_state=42, silent=True, cat_features=cat_features))\n",
        "ct = ct.fit(X_train, y_train, treat_train)\n",
        "\n",
        "uplift_ct = ct.predict(X_test)\n",
        "\n",
        "ct_score_1 = uplift_at_k(y_true=y_test, uplift=uplift_ct, treatment=treat_test, strategy='by_group', k=0.1)\n",
        "ct_score_2 = uplift_at_k(y_true=y_test, uplift=uplift_ct, treatment=treat_test, strategy='by_group', k=0.2)\n",
        "\n",
        "models_results['approach'].append('ClassTransformation')\n",
        "models_results['uplift@10%'].append(ct_score_1)\n",
        "models_results['uplift@20%'].append(ct_score_2)"
      ]
    },
    {
      "cell_type": "code",
      "execution_count": 160,
      "id": "d966deca",
      "metadata": {
        "colab": {
          "base_uri": "https://localhost:8080/"
        },
        "id": "d966deca",
        "outputId": "75380ec3-fee1-49b2-ffb0-18c16f7cab90"
      },
      "outputs": [
        {
          "output_type": "execute_result",
          "data": {
            "text/plain": [
              "0.06297215856039387"
            ]
          },
          "metadata": {},
          "execution_count": 160
        }
      ],
      "source": [
        "ct_score_1"
      ]
    },
    {
      "cell_type": "code",
      "source": [
        "ct_score_2"
      ],
      "metadata": {
        "colab": {
          "base_uri": "https://localhost:8080/"
        },
        "id": "95AAws9M9nTo",
        "outputId": "2c702680-3e55-4376-db93-e22376d04068"
      },
      "id": "95AAws9M9nTo",
      "execution_count": 161,
      "outputs": [
        {
          "output_type": "execute_result",
          "data": {
            "text/plain": [
              "0.05130693307314865"
            ]
          },
          "metadata": {},
          "execution_count": 161
        }
      ]
    },
    {
      "cell_type": "markdown",
      "id": "89cbaad4",
      "metadata": {
        "id": "89cbaad4"
      },
      "source": [
        "\n",
        "# **вариант с двумя независимыми моделями**"
      ]
    },
    {
      "cell_type": "code",
      "execution_count": 162,
      "id": "09aaee3e",
      "metadata": {
        "colab": {
          "base_uri": "https://localhost:8080/",
          "height": 444
        },
        "id": "09aaee3e",
        "outputId": "2ceb6038-fe44-4797-8717-15d6fcc6b50a"
      },
      "outputs": [
        {
          "output_type": "display_data",
          "data": {
            "text/plain": [
              "<Figure size 1440x504 with 3 Axes>"
            ],
            "image/png": "[encoded data removed]"
          },
          "metadata": {
            "needs_background": "light"
          }
        }
      ],
      "source": [
        "from sklift.models import TwoModels\n",
        "\n",
        "\n",
        "tm = TwoModels(\n",
        "        CatBoostClassifier(iterations=50, random_state=42, silent=True, cat_features=cat_features),\n",
        "        CatBoostClassifier(iterations=50, random_state=42, silent=True, cat_features=cat_features),\n",
        "    method='vanilla'  # независимые модели\n",
        ")\n",
        "tm = tm.fit(\n",
        "    X_train, y_train, treat_train\n",
        ")\n",
        "\n",
        "uplift_tm = tm.predict(X_test)\n",
        "\n",
        "tm_score_1 = uplift_at_k(y_true=y_test, uplift=uplift_tm, treatment=treat_test, strategy='by_group', k=0.1)\n",
        "tm_score_2 = uplift_at_k(y_true=y_test, uplift=uplift_tm, treatment=treat_test, strategy='by_group', k=0.2)\n",
        "\n",
        "models_results['approach'].append('TwoModels')\n",
        "models_results['uplift@10%'].append(tm_score_1)\n",
        "models_results['uplift@20%'].append(tm_score_2)\n",
        "plot_uplift_preds(trmnt_preds=tm.trmnt_preds_, ctrl_preds=tm.ctrl_preds_);"
      ]
    },
    {
      "cell_type": "markdown",
      "id": "058ad022",
      "metadata": {
        "id": "058ad022"
      },
      "source": [
        "в конце вывести единую таблицу сравнения метрик uplift@10%, uplift@20% 3 моделей"
      ]
    },
    {
      "cell_type": "code",
      "execution_count": 163,
      "id": "182686b3",
      "metadata": {
        "colab": {
          "base_uri": "https://localhost:8080/",
          "height": 174
        },
        "id": "182686b3",
        "outputId": "d338df64-ca0e-4482-861f-ad93a328813e"
      },
      "outputs": [
        {
          "output_type": "execute_result",
          "data": {
            "text/plain": [
              "                     uplift@10%  uplift@20%\n",
              "approach                                   \n",
              "TwoModels              0.065078    0.061970\n",
              "SoloModel              0.050940    0.054449\n",
              "ClassTransformation    0.062972    0.051307"
            ],
            "text/html": [
              "<div>\n",
              "<style scoped>\n",
              "    .dataframe tbody tr th:only-of-type {\n",
              "        vertical-align: middle;\n",
              "    }\n",
              "\n",
              "    .dataframe tbody tr th {\n",
              "        vertical-align: top;\n",
              "    }\n",
              "\n",
              "    .dataframe thead th {\n",
              "        text-align: right;\n",
              "    }\n",
              "</style>\n",
              "<table border=\"1\" class=\"dataframe\">\n",
              "  <thead>\n",
              "    <tr style=\"text-align: right;\">\n",
              "      <th></th>\n",
              "      <th>uplift@10%</th>\n",
              "      <th>uplift@20%</th>\n",
              "    </tr>\n",
              "    <tr>\n",
              "      <th>approach</th>\n",
              "      <th></th>\n",
              "      <th></th>\n",
              "    </tr>\n",
              "  </thead>\n",
              "  <tbody>\n",
              "    <tr>\n",
              "      <th>TwoModels</th>\n",
              "      <td>0.065078</td>\n",
              "      <td>0.061970</td>\n",
              "    </tr>\n",
              "    <tr>\n",
              "      <th>SoloModel</th>\n",
              "      <td>0.050940</td>\n",
              "      <td>0.054449</td>\n",
              "    </tr>\n",
              "    <tr>\n",
              "      <th>ClassTransformation</th>\n",
              "      <td>0.062972</td>\n",
              "      <td>0.051307</td>\n",
              "    </tr>\n",
              "  </tbody>\n",
              "</table>\n",
              "</div>"
            ]
          },
          "metadata": {},
          "execution_count": 163
        }
      ],
      "source": [
        "pd.DataFrame(data=models_results).sort_values('uplift@20%', ascending=False).set_index('approach')\n"
      ]
    },
    {
      "cell_type": "markdown",
      "source": [
        "для модели S learner (модель с дополнительным признаком коммуникации) построить зависимость таргета (конверсии - поле conversion) от значения uplift:  \n",
        "1) сделать прогноз и получить uplift для тестовой выборки  \n",
        "2) отсортировать тестовую выборку по uplift по убыванию  \n",
        "3) разбить на децили (pandas qcut вам в помощь)  \n",
        "4) для каждого дециля посчитать среднюю conversion  "
      ],
      "metadata": {
        "id": "U5UZ1EytF4kS"
      },
      "id": "U5UZ1EytF4kS"
    },
    {
      "cell_type": "code",
      "source": [
        "sm = SoloModel(\n",
        "    CatBoostClassifier(iterations=50, random_state=42, silent=True, cat_features=cat_features)\n",
        ")\n",
        "\n",
        "sm = sm.fit(X_train, y_train, treat_train)\n",
        "\n",
        "uplift_sm = sm.predict(X_test)"
      ],
      "metadata": {
        "id": "Okx0h5CwF7Cj"
      },
      "id": "Okx0h5CwF7Cj",
      "execution_count": 164,
      "outputs": []
    },
    {
      "cell_type": "code",
      "source": [
        "analys_sm = pd.DataFrame()\n",
        "# analys_sm['uplift'] = sm_trmnt_preds - sm_ctrl_preds\n",
        "analys_sm['uplift'] = uplift_sm\n",
        "# analys_sm['target'] = y_train\n",
        "analys_sm.sort_values('uplift',ascending=False,inplace=True)"
      ],
      "metadata": {
        "id": "0m0ZkHsIF-o8"
      },
      "id": "0m0ZkHsIF-o8",
      "execution_count": 177,
      "outputs": []
    },
    {
      "cell_type": "code",
      "source": [
        "analys_sm['decil'] = pd.qcut(analys_sm['uplift'],10,labels=[1,2,3,4,5,6,7,8,9,10])"
      ],
      "metadata": {
        "id": "16ROyy9PGDz0"
      },
      "id": "16ROyy9PGDz0",
      "execution_count": 178,
      "outputs": []
    },
    {
      "cell_type": "code",
      "source": [
        "analys_sm.groupby('decil').mean()"
      ],
      "metadata": {
        "colab": {
          "base_uri": "https://localhost:8080/",
          "height": 394
        },
        "id": "5SeGhTY7GFSW",
        "outputId": "28e7a12a-6d87-4626-886a-249bcf1ca8e9"
      },
      "id": "5SeGhTY7GFSW",
      "execution_count": 179,
      "outputs": [
        {
          "output_type": "execute_result",
          "data": {
            "text/plain": [
              "         uplift    target\n",
              "decil                    \n",
              "1      0.015531  0.142036\n",
              "2      0.035471  0.137223\n",
              "3      0.041168  0.142017\n",
              "4      0.046500  0.142510\n",
              "5      0.053542  0.150628\n",
              "6      0.062131  0.156616\n",
              "7      0.071319  0.137562\n",
              "8      0.081506  0.151232\n",
              "9      0.093485  0.170124\n",
              "10     0.124366  0.133943"
            ],
            "text/html": [
              "<div>\n",
              "<style scoped>\n",
              "    .dataframe tbody tr th:only-of-type {\n",
              "        vertical-align: middle;\n",
              "    }\n",
              "\n",
              "    .dataframe tbody tr th {\n",
              "        vertical-align: top;\n",
              "    }\n",
              "\n",
              "    .dataframe thead th {\n",
              "        text-align: right;\n",
              "    }\n",
              "</style>\n",
              "<table border=\"1\" class=\"dataframe\">\n",
              "  <thead>\n",
              "    <tr style=\"text-align: right;\">\n",
              "      <th></th>\n",
              "      <th>uplift</th>\n",
              "      <th>target</th>\n",
              "    </tr>\n",
              "    <tr>\n",
              "      <th>decil</th>\n",
              "      <th></th>\n",
              "      <th></th>\n",
              "    </tr>\n",
              "  </thead>\n",
              "  <tbody>\n",
              "    <tr>\n",
              "      <th>1</th>\n",
              "      <td>0.015531</td>\n",
              "      <td>0.142036</td>\n",
              "    </tr>\n",
              "    <tr>\n",
              "      <th>2</th>\n",
              "      <td>0.035471</td>\n",
              "      <td>0.137223</td>\n",
              "    </tr>\n",
              "    <tr>\n",
              "      <th>3</th>\n",
              "      <td>0.041168</td>\n",
              "      <td>0.142017</td>\n",
              "    </tr>\n",
              "    <tr>\n",
              "      <th>4</th>\n",
              "      <td>0.046500</td>\n",
              "      <td>0.142510</td>\n",
              "    </tr>\n",
              "    <tr>\n",
              "      <th>5</th>\n",
              "      <td>0.053542</td>\n",
              "      <td>0.150628</td>\n",
              "    </tr>\n",
              "    <tr>\n",
              "      <th>6</th>\n",
              "      <td>0.062131</td>\n",
              "      <td>0.156616</td>\n",
              "    </tr>\n",
              "    <tr>\n",
              "      <th>7</th>\n",
              "      <td>0.071319</td>\n",
              "      <td>0.137562</td>\n",
              "    </tr>\n",
              "    <tr>\n",
              "      <th>8</th>\n",
              "      <td>0.081506</td>\n",
              "      <td>0.151232</td>\n",
              "    </tr>\n",
              "    <tr>\n",
              "      <th>9</th>\n",
              "      <td>0.093485</td>\n",
              "      <td>0.170124</td>\n",
              "    </tr>\n",
              "    <tr>\n",
              "      <th>10</th>\n",
              "      <td>0.124366</td>\n",
              "      <td>0.133943</td>\n",
              "    </tr>\n",
              "  </tbody>\n",
              "</table>\n",
              "</div>"
            ]
          },
          "metadata": {},
          "execution_count": 179
        }
      ]
    }
  ],
  "metadata": {
    "kernelspec": {
      "display_name": "Python 3",
      "language": "python",
      "name": "python3"
    },
    "language_info": {
      "codemirror_mode": {
        "name": "ipython",
        "version": 3
      },
      "file_extension": ".py",
      "mimetype": "text/x-python",
      "name": "python",
      "nbconvert_exporter": "python",
      "pygments_lexer": "ipython3",
      "version": "3.8.8"
    },
    "colab": {
      "name": "Lesson_4.ipynb",
      "provenance": [],
      "collapsed_sections": [],
      "include_colab_link": true
    }
  },
  "nbformat": 4,
  "nbformat_minor": 5
}