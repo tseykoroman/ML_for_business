{
  "cells": [
    {
      "cell_type": "markdown",
      "metadata": {
        "id": "view-in-github",
        "colab_type": "text"
      },
      "source": [
        "<a href=\"https://colab.research.google.com/github/tseykoroman/ML_for_business/blob/main/Tseyko_Lesson_2.ipynb\" target=\"_parent\"><img src=\"https://colab.research.google.com/assets/colab-badge.svg\" alt=\"Open In Colab\"/></a>"
      ]
    },
    {
      "cell_type": "markdown",
      "metadata": {
        "id": "XADT6MVBrOy5"
      },
      "source": [
        "# Урок 2. Профилирование пользователей. Сегментация аудитории: unsupervised learning (clustering, LDA/ARTM), supervised (multi/binary classification)#"
      ]
    },
    {
      "cell_type": "markdown",
      "metadata": {
        "id": "_twkt6cTrO0K"
      },
      "source": [
        "### Переходим к практике\n",
        "\n",
        "\n",
        "Вспомним, какие задачи перед нами стоят:\n",
        "Основная - представление характеристик пользователя по списку статей, которые он читал.\n",
        "1. Взять статьи и превратить их в темы.\n",
        "2. Взять темы и превратить их в вектор, описывающий пользователя.\n"
      ]
    },
    {
      "cell_type": "code",
      "execution_count": 40,
      "metadata": {
        "id": "ajg1uezArO0K"
      },
      "outputs": [],
      "source": [
        "import pandas as pd"
      ]
    },
    {
      "cell_type": "markdown",
      "metadata": {
        "id": "Bqobr0EsrO0L"
      },
      "source": [
        "Наши новости"
      ]
    },
    {
      "cell_type": "code",
      "execution_count": 36,
      "metadata": {
        "colab": {
          "base_uri": "https://localhost:8080/"
        },
        "id": "f_CGsD2geSGb",
        "outputId": "1acd0d8b-3d52-482b-e4c8-ed5da8751d25"
      },
      "outputs": [
        {
          "output_type": "stream",
          "name": "stderr",
          "text": [
            "'wget' is not recognized as an internal or external command,\n",
            "operable program or batch file.\n"
          ]
        }
      ],
      "source": [
        "!wget --load-cookies /tmp/cookies.txt \"https://docs.google.com/uc?export=download&confirm=$(wget --quiet --save-cookies /tmp/cookies.txt --keep-session-cookies --no-check-certificate 'https://docs.google.com/uc?export=download&id=1zrdSHN2tq_Hj3YdbwlM3jk87Oct42XpR' -O- | sed -rn 's/.*confirm=([0-9A-Za-z_]+).*/\\1\\n/p')&id=1zrdSHN2tq_Hj3YdbwlM3jk87Oct42XpR\" -O articles.csv && rm -rf /tmp/cookies.txt "
      ]
    },
    {
      "cell_type": "code",
      "execution_count": 41,
      "metadata": {
        "colab": {
          "base_uri": "https://localhost:8080/",
          "height": 162
        },
        "id": "LNFHyPQHrO0M",
        "outputId": "17771067-0f57-4080-eee8-e4ddc86c3e31"
      },
      "outputs": [
        {
          "output_type": "stream",
          "name": "stdout",
          "text": [
            "(27000, 2)\n"
          ]
        },
        {
          "output_type": "execute_result",
          "data": {
            "text/plain": [
              "   doc_id                                              title\n",
              "0       6  Заместитель председателяnправительства РФnСерг...\n",
              "1    4896  Матч 1/16 финала Кубка России по футболу был п...\n",
              "2    4897  Форвард «Авангарда» Томаш Заборский прокоммент..."
            ],
            "text/html": [
              "<div>\n",
              "<style scoped>\n",
              "    .dataframe tbody tr th:only-of-type {\n",
              "        vertical-align: middle;\n",
              "    }\n",
              "\n",
              "    .dataframe tbody tr th {\n",
              "        vertical-align: top;\n",
              "    }\n",
              "\n",
              "    .dataframe thead th {\n",
              "        text-align: right;\n",
              "    }\n",
              "</style>\n",
              "<table border=\"1\" class=\"dataframe\">\n",
              "  <thead>\n",
              "    <tr style=\"text-align: right;\">\n",
              "      <th></th>\n",
              "      <th>doc_id</th>\n",
              "      <th>title</th>\n",
              "    </tr>\n",
              "  </thead>\n",
              "  <tbody>\n",
              "    <tr>\n",
              "      <th>0</th>\n",
              "      <td>6</td>\n",
              "      <td>Заместитель председателяnправительства РФnСерг...</td>\n",
              "    </tr>\n",
              "    <tr>\n",
              "      <th>1</th>\n",
              "      <td>4896</td>\n",
              "      <td>Матч 1/16 финала Кубка России по футболу был п...</td>\n",
              "    </tr>\n",
              "    <tr>\n",
              "      <th>2</th>\n",
              "      <td>4897</td>\n",
              "      <td>Форвард «Авангарда» Томаш Заборский прокоммент...</td>\n",
              "    </tr>\n",
              "  </tbody>\n",
              "</table>\n",
              "</div>"
            ]
          },
          "metadata": {},
          "execution_count": 41
        }
      ],
      "source": [
        "news = pd.read_csv(\"C:/articles.csv\")\n",
        "print(news.shape)\n",
        "news.head(3)"
      ]
    },
    {
      "cell_type": "code",
      "execution_count": 42,
      "metadata": {
        "colab": {
          "base_uri": "https://localhost:8080/"
        },
        "id": "-fHdrCgi8BGd",
        "outputId": "10ce9415-9c52-4328-ee00-7ba7103f3c9c"
      },
      "outputs": [
        {
          "output_type": "execute_result",
          "data": {
            "text/plain": [
              "'Заместитель председателяnправительства РФnСергейnИвановnизбран председателем советаnПБК ЦСКАn. Как сообщаетnпресс-службаnармейцев, такое решение было единогласно принято на первом заседании совета клуба. Основной функцией этого органа будет обсуждение текущего состояния, планирование и утверждение стратегии развития клуба на ближайшую перспективу.nnВ состав совета вошли:nГеоргий Полтавченкоn(полномочный представитель президента в Центральном федеральном округе),nАлексей Седовn(генерал-полковник, начальник службы по защите конституционного строя и борьбе с терроризмомnФСБ РФn),nАлександр Новакn(заместитель министра финансов РФ),nВячеслав Полтавцевn(заместитель генерального директора, руководитель блока по взаимодействию с органами власти, социальной и корпоративной политикиnГМК «Норильский никель»n),nЛеонид Исаковичn(генеральный директор ООО «УК «Спортивные проекты»),nОльга Плешаковаn(генеральный директорn«Трансаэро»n),nАлександр Провоторовn, (генеральный директорnОАО «Ростелеком»n), Андрей Лопатов (экс-игрок ЦСКА, чемпион мира, трехкратный чемпион Европы по баскетболу, председатель правленияnбанка «Клиентский»n),nАндрей Ватутинn(президент ПБК ЦСКА).'"
            ]
          },
          "metadata": {},
          "execution_count": 42
        }
      ],
      "source": [
        "news.iloc[0]['title']"
      ]
    },
    {
      "cell_type": "code",
      "execution_count": null,
      "metadata": {
        "colab": {
          "base_uri": "https://localhost:8080/"
        },
        "id": "8sRdA47KrO0Q",
        "outputId": "107c54d2-e4b3-48f1-af2f-ac035c160503"
      },
      "outputs": [
        {
          "name": "stdout",
          "output_type": "stream",
          "text": [
            "--2022-03-26 19:40:02--  https://drive.google.com/uc?export=download&id=1Q97K9eGrvpbS4ut5CphZa--gJDRqQp2a\n",
            "Resolving drive.google.com (drive.google.com)... 142.251.8.100, 142.251.8.113, 142.251.8.139, ...\n",
            "Connecting to drive.google.com (drive.google.com)|142.251.8.100|:443... connected.\n",
            "HTTP request sent, awaiting response... 303 See Other\n",
            "Location: https://doc-04-c0-docs.googleusercontent.com/docs/securesc/ha0ro937gcuc7l7deffksulhg5h7mbp1/hhp1nf4fdqbp2qvoai87ijrvouf0fplk/1648323600000/14904333240138417226/*/1Q97K9eGrvpbS4ut5CphZa--gJDRqQp2a?e=download [following]\n",
            "Warning: wildcards not supported in HTTP.\n",
            "--2022-03-26 19:40:03--  https://doc-04-c0-docs.googleusercontent.com/docs/securesc/ha0ro937gcuc7l7deffksulhg5h7mbp1/hhp1nf4fdqbp2qvoai87ijrvouf0fplk/1648323600000/14904333240138417226/*/1Q97K9eGrvpbS4ut5CphZa--gJDRqQp2a?e=download\n",
            "Resolving doc-04-c0-docs.googleusercontent.com (doc-04-c0-docs.googleusercontent.com)... 64.233.189.132, 2404:6800:4008:c07::84\n",
            "Connecting to doc-04-c0-docs.googleusercontent.com (doc-04-c0-docs.googleusercontent.com)|64.233.189.132|:443... connected.\n",
            "HTTP request sent, awaiting response... 200 OK\n",
            "Length: 434166 (424K) [text/csv]\n",
            "Saving to: ‘users_articles.csv’\n",
            "\n",
            "users_articles.csv  100%[===================>] 423.99K  --.-KB/s    in 0.005s  \n",
            "\n",
            "2022-03-26 19:40:03 (91.2 MB/s) - ‘users_articles.csv’ saved [434166/434166]\n",
            "\n"
          ]
        }
      ],
      "source": [
        "!wget 'https://drive.google.com/uc?export=download&id=1Q97K9eGrvpbS4ut5CphZa--gJDRqQp2a' -O users_articles.csv"
      ]
    },
    {
      "cell_type": "markdown",
      "metadata": {
        "id": "rXqISPsTrO0R"
      },
      "source": [
        "Загрузим пользователей и списки последних прочитанных новостей"
      ]
    },
    {
      "cell_type": "code",
      "execution_count": 43,
      "metadata": {
        "colab": {
          "base_uri": "https://localhost:8080/",
          "height": 143
        },
        "id": "B_Wte8vFrO0S",
        "outputId": "69ef7abc-419e-4a71-e6d4-4ddf5329bd97"
      },
      "outputs": [
        {
          "output_type": "execute_result",
          "data": {
            "text/plain": [
              "       uid                                        articles\n",
              "0  u105138  [293672, 293328, 293001, 293622, 293126, 1852]\n",
              "1  u108690          [3405, 1739, 2972, 1158, 1599, 322665]\n",
              "2  u108339          [1845, 2009, 2356, 1424, 2939, 323389]"
            ],
            "text/html": [
              "<div>\n",
              "<style scoped>\n",
              "    .dataframe tbody tr th:only-of-type {\n",
              "        vertical-align: middle;\n",
              "    }\n",
              "\n",
              "    .dataframe tbody tr th {\n",
              "        vertical-align: top;\n",
              "    }\n",
              "\n",
              "    .dataframe thead th {\n",
              "        text-align: right;\n",
              "    }\n",
              "</style>\n",
              "<table border=\"1\" class=\"dataframe\">\n",
              "  <thead>\n",
              "    <tr style=\"text-align: right;\">\n",
              "      <th></th>\n",
              "      <th>uid</th>\n",
              "      <th>articles</th>\n",
              "    </tr>\n",
              "  </thead>\n",
              "  <tbody>\n",
              "    <tr>\n",
              "      <th>0</th>\n",
              "      <td>u105138</td>\n",
              "      <td>[293672, 293328, 293001, 293622, 293126, 1852]</td>\n",
              "    </tr>\n",
              "    <tr>\n",
              "      <th>1</th>\n",
              "      <td>u108690</td>\n",
              "      <td>[3405, 1739, 2972, 1158, 1599, 322665]</td>\n",
              "    </tr>\n",
              "    <tr>\n",
              "      <th>2</th>\n",
              "      <td>u108339</td>\n",
              "      <td>[1845, 2009, 2356, 1424, 2939, 323389]</td>\n",
              "    </tr>\n",
              "  </tbody>\n",
              "</table>\n",
              "</div>"
            ]
          },
          "metadata": {},
          "execution_count": 43
        }
      ],
      "source": [
        "users = pd.read_csv(\"C:/users_articles.csv\")\n",
        "users.head(3)"
      ]
    },
    {
      "cell_type": "markdown",
      "metadata": {
        "id": "gC2mYbVorO0T"
      },
      "source": [
        "Итак, нам нужно получить векторные представления пользователей на основе прочитанным ими новостей и самих новостей"
      ]
    },
    {
      "cell_type": "markdown",
      "metadata": {
        "id": "yzjqymHOrO0U"
      },
      "source": [
        "### 1. Получаем векторные представления новостей"
      ]
    },
    {
      "cell_type": "markdown",
      "metadata": {
        "id": "6IAvfEF7vwlo"
      },
      "source": [
        "**ПОЗАВТРАКАЛИ**\n",
        "\n",
        "Стемминг (убираем лишнии куски слова):\n",
        "**завтрак**<br>\n",
        "Очень быстро, очень дешево и очень слабо.\n",
        "\n",
        "Лемматизация (перевод в неопределенную форму для гл. и в им.падеж для сущ.):\n",
        "**завтракать**<br>\n",
        "Небыстро, сложно."
      ]
    },
    {
      "cell_type": "code",
      "execution_count": 44,
      "metadata": {
        "colab": {
          "base_uri": "https://localhost:8080/"
        },
        "id": "IOUvCQhMtEbt",
        "outputId": "60133b0c-815b-4378-83f8-c30314200549"
      },
      "outputs": [
        {
          "output_type": "stream",
          "name": "stdout",
          "text": [
            "Collecting razdel\n",
            "  Downloading razdel-0.5.0-py3-none-any.whl (21 kB)\n",
            "Collecting pymorphy2\n",
            "  Downloading pymorphy2-0.9.1-py3-none-any.whl (55 kB)\n",
            "Collecting pyLDAvis\n",
            "  Downloading pyLDAvis-3.3.1.tar.gz (1.7 MB)\n",
            "  Installing build dependencies: started\n",
            "  Installing build dependencies: finished with status 'done'\n",
            "  Getting requirements to build wheel: started\n",
            "  Getting requirements to build wheel: finished with status 'done'\n",
            "  Installing backend dependencies: started\n",
            "  Installing backend dependencies: finished with status 'done'\n",
            "    Preparing wheel metadata: started\n",
            "    Preparing wheel metadata: finished with status 'done'\n",
            "Collecting dawg-python>=0.7.1\n",
            "  Downloading DAWG_Python-0.7.2-py2.py3-none-any.whl (11 kB)\n",
            "Collecting pymorphy2-dicts-ru<3.0,>=2.4\n",
            "  Downloading pymorphy2_dicts_ru-2.4.417127.4579844-py2.py3-none-any.whl (8.2 MB)\n",
            "Collecting docopt>=0.6\n",
            "  Downloading docopt-0.6.2.tar.gz (25 kB)\n",
            "Collecting numpy>=1.20.0\n",
            "  Downloading numpy-1.22.3-cp38-cp38-win_amd64.whl (14.7 MB)\n",
            "Requirement already satisfied: numexpr in c:\\programdata\\anaconda3\\lib\\site-packages (from pyLDAvis) (2.7.1)\n",
            "Requirement already satisfied: future in c:\\programdata\\anaconda3\\lib\\site-packages (from pyLDAvis) (0.18.2)\n",
            "Collecting gensim\n",
            "  Downloading gensim-4.1.2-cp38-cp38-win_amd64.whl (24.0 MB)\n",
            "Collecting pandas>=1.2.0\n",
            "  Downloading pandas-1.4.1-cp38-cp38-win_amd64.whl (10.6 MB)\n",
            "Collecting funcy\n",
            "  Downloading funcy-1.17-py2.py3-none-any.whl (33 kB)\n",
            "Requirement already satisfied: jinja2 in c:\\programdata\\anaconda3\\lib\\site-packages (from pyLDAvis) (2.11.2)\n",
            "Collecting sklearn\n",
            "  Downloading sklearn-0.0.tar.gz (1.1 kB)\n",
            "Requirement already satisfied: scikit-learn in c:\\programdata\\anaconda3\\lib\\site-packages (from pyLDAvis) (0.23.2)\n",
            "Requirement already satisfied: setuptools in c:\\programdata\\anaconda3\\lib\\site-packages (from pyLDAvis) (50.3.1.post20201107)\n",
            "Requirement already satisfied: joblib in c:\\programdata\\anaconda3\\lib\\site-packages (from pyLDAvis) (0.17.0)\n",
            "Requirement already satisfied: scipy in c:\\programdata\\anaconda3\\lib\\site-packages (from pyLDAvis) (1.5.2)\n",
            "Collecting Cython==0.29.23\n",
            "  Downloading Cython-0.29.23-cp38-cp38-win_amd64.whl (1.7 MB)\n",
            "Collecting smart-open>=1.8.1\n",
            "  Downloading smart_open-5.2.1-py3-none-any.whl (58 kB)\n",
            "Requirement already satisfied: python-dateutil>=2.8.1 in c:\\programdata\\anaconda3\\lib\\site-packages (from pandas>=1.2.0->pyLDAvis) (2.8.1)\n",
            "Requirement already satisfied: pytz>=2020.1 in c:\\programdata\\anaconda3\\lib\\site-packages (from pandas>=1.2.0->pyLDAvis) (2020.1)\n",
            "Requirement already satisfied: MarkupSafe>=0.23 in c:\\programdata\\anaconda3\\lib\\site-packages (from jinja2->pyLDAvis) (1.1.1)\n",
            "Requirement already satisfied: threadpoolctl>=2.0.0 in c:\\programdata\\anaconda3\\lib\\site-packages (from scikit-learn->pyLDAvis) (2.1.0)\n",
            "Requirement already satisfied: six>=1.5 in c:\\programdata\\anaconda3\\lib\\site-packages (from python-dateutil>=2.8.1->pandas>=1.2.0->pyLDAvis) (1.15.0)\n",
            "Building wheels for collected packages: pyLDAvis, docopt, sklearn\n",
            "  Building wheel for pyLDAvis (PEP 517): started\n",
            "  Building wheel for pyLDAvis (PEP 517): finished with status 'done'\n",
            "  Created wheel for pyLDAvis: filename=pyLDAvis-3.3.1-py2.py3-none-any.whl size=136900 sha256=da3befc8a6f14288a44b8ee4d8377827ed656a4b8fe6e50c2ae8bbc54398fa48\n",
            "  Stored in directory: c:\\users\\tseyk\\appdata\\local\\pip\\cache\\wheels\\90\\61\\ec\\9dbe9efc3acf9c4e37ba70fbbcc3f3a0ebd121060aa593181a\n",
            "  Building wheel for docopt (setup.py): started\n",
            "  Building wheel for docopt (setup.py): finished with status 'done'\n",
            "  Created wheel for docopt: filename=docopt-0.6.2-py2.py3-none-any.whl size=13709 sha256=d920de99105ee7220688e8b5afc08e3be40305513d390b7cfe2caf81f3a663e9\n",
            "  Stored in directory: c:\\users\\tseyk\\appdata\\local\\pip\\cache\\wheels\\56\\ea\\58\\ead137b087d9e326852a851351d1debf4ada529b6ac0ec4e8c\n",
            "  Building wheel for sklearn (setup.py): started\n",
            "  Building wheel for sklearn (setup.py): finished with status 'done'\n",
            "  Created wheel for sklearn: filename=sklearn-0.0-py2.py3-none-any.whl size=1321 sha256=54315da2e82a0793a26ef7db689437d835c8e7e175fe58a2d55487ca2ab5f6fd\n",
            "  Stored in directory: c:\\users\\tseyk\\appdata\\local\\pip\\cache\\wheels\\22\\0b\\40\\fd3f795caaa1fb4c6cb738bc1f56100be1e57da95849bfc897\n",
            "Successfully built pyLDAvis docopt sklearn\n",
            "Installing collected packages: razdel, dawg-python, pymorphy2-dicts-ru, docopt, pymorphy2, numpy, Cython, smart-open, gensim, pandas, funcy, sklearn, pyLDAvis\n",
            "  Attempting uninstall: numpy\n",
            "    Found existing installation: numpy 1.19.2\n",
            "    Uninstalling numpy-1.19.2:\n",
            "      Successfully uninstalled numpy-1.19.2\n"
          ]
        },
        {
          "output_type": "stream",
          "name": "stderr",
          "text": [
            "ERROR: Could not install packages due to an EnvironmentError: [WinError 5] Access is denied: 'C:\\\\ProgramData\\\\Anaconda3\\\\Lib\\\\site-packages\\\\~umpy\\\\core\\\\_multiarray_tests.cp38-win_amd64.pyd'\n",
            "Consider using the `--user` option or check the permissions.\n",
            "\n"
          ]
        }
      ],
      "source": [
        "!pip install razdel pymorphy2 pyLDAvis"
      ]
    },
    {
      "cell_type": "code",
      "execution_count": 47,
      "metadata": {
        "id": "r5aEUfAArO0W"
      },
      "outputs": [],
      "source": [
        "# предобработка текстов\n",
        "import re\n",
        "import numpy as np\n",
        "from gensim.corpora.dictionary import Dictionary\n",
        "from razdel import tokenize  # сегментация русскоязычного текста на токены и предложения https://github.com/natasha/razdel\n",
        "import pymorphy2  # Морфологический анализатор"
      ]
    },
    {
      "cell_type": "markdown",
      "metadata": {
        "id": "qkL7Aq9owwIz"
      },
      "source": [
        "Не все слова равны, не все слова одинаково работают. К примеру, союзы и предлоги в нашей задачи никак не помогут, поэтому можем их выкидывать. (*Но в задачах оценки стиля, к примеру, такие слова будут очень полезны*)"
      ]
    },
    {
      "cell_type": "code",
      "execution_count": 48,
      "metadata": {
        "colab": {
          "base_uri": "https://localhost:8080/"
        },
        "id": "stfdHK-ivFlT",
        "outputId": "0bbb1faf-e602-4d9c-c141-d77194e4abc0"
      },
      "outputs": [
        {
          "output_type": "stream",
          "name": "stderr",
          "text": [
            "[nltk_data] Downloading package stopwords to\n",
            "[nltk_data]     C:\\Users\\tseyk\\AppData\\Roaming\\nltk_data...\n",
            "[nltk_data]   Unzipping corpora\\stopwords.zip.\n"
          ]
        },
        {
          "output_type": "execute_result",
          "data": {
            "text/plain": [
              "True"
            ]
          },
          "metadata": {},
          "execution_count": 48
        }
      ],
      "source": [
        "import nltk\n",
        "from nltk.corpus import stopwords\n",
        "nltk.download('stopwords')"
      ]
    },
    {
      "cell_type": "code",
      "execution_count": 49,
      "metadata": {
        "colab": {
          "base_uri": "https://localhost:8080/"
        },
        "id": "bwgnYaT7rO0X",
        "outputId": "6615b760-e27a-4a5a-e2cc-8d36175d1280"
      },
      "outputs": [
        {
          "output_type": "stream",
          "name": "stdout",
          "text": [
            "151\n"
          ]
        }
      ],
      "source": [
        "stopword_ru = stopwords.words('russian')\n",
        "print(len(stopword_ru))"
      ]
    },
    {
      "cell_type": "code",
      "execution_count": 50,
      "metadata": {
        "colab": {
          "base_uri": "https://localhost:8080/"
        },
        "id": "3VeXs0NIxTIU",
        "outputId": "b67c9970-9cbf-4a75-f0e3-25ba00209bd8"
      },
      "outputs": [
        {
          "output_type": "execute_result",
          "data": {
            "text/plain": [
              "['и', 'в', 'во', 'не', 'что', 'он', 'на', 'я', 'с', 'со']"
            ]
          },
          "metadata": {},
          "execution_count": 50
        }
      ],
      "source": [
        "stopword_ru[:10]"
      ]
    },
    {
      "cell_type": "code",
      "execution_count": null,
      "metadata": {
        "colab": {
          "base_uri": "https://localhost:8080/"
        },
        "id": "GnsDhcwLxcwU",
        "outputId": "e813ce2e-735d-4392-c123-10f5e497f6c2"
      },
      "outputs": [
        {
          "name": "stdout",
          "output_type": "stream",
          "text": [
            "--2022-03-26 19:40:39--  https://drive.google.com/uc?export=download&id=17wVn5YPpMjHToctGgff_KfSeWcIIlf7c\n",
            "Resolving drive.google.com (drive.google.com)... 64.233.189.100, 64.233.189.101, 64.233.189.113, ...\n",
            "Connecting to drive.google.com (drive.google.com)|64.233.189.100|:443... connected.\n",
            "HTTP request sent, awaiting response... 303 See Other\n",
            "Location: https://doc-0s-c0-docs.googleusercontent.com/docs/securesc/ha0ro937gcuc7l7deffksulhg5h7mbp1/9pp3665792l77om4cs8u2gen9fp22sem/1648323600000/14904333240138417226/*/17wVn5YPpMjHToctGgff_KfSeWcIIlf7c?e=download [following]\n",
            "Warning: wildcards not supported in HTTP.\n",
            "--2022-03-26 19:40:39--  https://doc-0s-c0-docs.googleusercontent.com/docs/securesc/ha0ro937gcuc7l7deffksulhg5h7mbp1/9pp3665792l77om4cs8u2gen9fp22sem/1648323600000/14904333240138417226/*/17wVn5YPpMjHToctGgff_KfSeWcIIlf7c?e=download\n",
            "Resolving doc-0s-c0-docs.googleusercontent.com (doc-0s-c0-docs.googleusercontent.com)... 64.233.189.132, 2404:6800:4008:c07::84\n",
            "Connecting to doc-0s-c0-docs.googleusercontent.com (doc-0s-c0-docs.googleusercontent.com)|64.233.189.132|:443... connected.\n",
            "HTTP request sent, awaiting response... 200 OK\n",
            "Length: 5368 (5.2K) [text/plain]\n",
            "Saving to: ‘stopwords.txt’\n",
            "\n",
            "stopwords.txt       100%[===================>]   5.24K  --.-KB/s    in 0s      \n",
            "\n",
            "2022-03-26 19:40:40 (28.1 MB/s) - ‘stopwords.txt’ saved [5368/5368]\n",
            "\n"
          ]
        }
      ],
      "source": [
        "!wget 'https://drive.google.com/uc?export=download&id=17wVn5YPpMjHToctGgff_KfSeWcIIlf7c' -O stopwords.txt"
      ]
    },
    {
      "cell_type": "code",
      "execution_count": 52,
      "metadata": {
        "colab": {
          "base_uri": "https://localhost:8080/"
        },
        "id": "fw3Nj3qhrO0X",
        "outputId": "bf9eec44-030d-46bb-e4b9-7d08f8e94933"
      },
      "outputs": [
        {
          "output_type": "execute_result",
          "data": {
            "text/plain": [
              "776"
            ]
          },
          "metadata": {},
          "execution_count": 52
        }
      ],
      "source": [
        "with open('C:/stopwords.txt', encoding=\"utf8\") as f:\n",
        "    additional_stopwords = [w.strip() for w in f.readlines() if w]\n",
        "    \n",
        "stopword_ru += additional_stopwords\n",
        "len(stopword_ru)"
      ]
    },
    {
      "cell_type": "code",
      "execution_count": 53,
      "metadata": {
        "colab": {
          "base_uri": "https://localhost:8080/"
        },
        "id": "vZV9fxlbxjQQ",
        "outputId": "cde6303a-aada-4c42-dc55-c7bc5ea1fcfe"
      },
      "outputs": [
        {
          "output_type": "execute_result",
          "data": {
            "text/plain": [
              "['ни', 'быть', 'был', 'него', 'до', 'вас', 'нибудь', 'опять', 'уж', 'вам']"
            ]
          },
          "metadata": {},
          "execution_count": 53
        }
      ],
      "source": [
        "stopword_ru[200:210]"
      ]
    },
    {
      "cell_type": "code",
      "execution_count": 54,
      "metadata": {
        "id": "hdyTS-yDrO0Y"
      },
      "outputs": [],
      "source": [
        "def clean_text(text):\n",
        "    '''\n",
        "    очистка текста\n",
        "    \n",
        "    на выходе очищеный текст\n",
        "    '''\n",
        "    if not isinstance(text, str):\n",
        "        text = str(text)\n",
        "    \n",
        "    text = text.lower()\n",
        "    text = text.strip('\\n').strip('\\r').strip('\\t')\n",
        "    text = re.sub(\"-\\s\\r\\n\\|-\\s\\r\\n|\\r\\n\", '', str(text))\n",
        "\n",
        "    text = re.sub(\"[0-9]|[-—.,:;_%©«»?*!@#№$^•·&()]|[+=]|[[]|[]]|[/]|\", '', text)\n",
        "    text = re.sub(r\"\\r\\n\\t|\\n|\\\\s|\\r\\t|\\\\n\", ' ', text)\n",
        "    text = re.sub(r'[\\xad]|[\\s+]', ' ', text.strip())\n",
        "    text = re.sub('n', ' ', text)\n",
        "    \n",
        "    return text\n",
        "\n",
        "cache = {}\n",
        "morph = pymorphy2.MorphAnalyzer()\n",
        "\n",
        "def lemmatization(text):    \n",
        "    '''\n",
        "    лемматизация\n",
        "        [0] если зашел тип не `str` делаем его `str`\n",
        "        [1] токенизация предложения через razdel\n",
        "        [2] проверка есть ли в начале слова '-'\n",
        "        [3] проверка токена с одного символа\n",
        "        [4] проверка есть ли данное слово в кэше\n",
        "        [5] лемматизация слова\n",
        "        [6] проверка на стоп-слова\n",
        "\n",
        "    на выходе лист лемматизированых токенов\n",
        "    '''\n",
        "\n",
        "    # [0]\n",
        "    if not isinstance(text, str):\n",
        "        text = str(text)\n",
        "    \n",
        "    # [1]\n",
        "    tokens = list(tokenize(text))\n",
        "    words = [_.text for _ in tokens]\n",
        "\n",
        "    words_lem = []\n",
        "    for w in words:\n",
        "        if w[0] == '-': # [2]\n",
        "            w = w[1:]\n",
        "        if len(w) > 1: # [3]\n",
        "            if w in cache: # [4]\n",
        "                words_lem.append(cache[w])\n",
        "            else: # [5]\n",
        "                temp_cach = cache[w] = morph.parse(w)[0].normal_form\n",
        "                words_lem.append(temp_cach)\n",
        "    \n",
        "    words_lem_without_stopwords = [i for i in words_lem if not i in stopword_ru] # [6]\n",
        "    \n",
        "    return words_lem_without_stopwords"
      ]
    },
    {
      "cell_type": "code",
      "execution_count": 55,
      "metadata": {
        "colab": {
          "base_uri": "https://localhost:8080/"
        },
        "id": "3dkl71coyj3S",
        "outputId": "b740b01a-a675-4ff9-9e99-dfd4a0eee137"
      },
      "outputs": [
        {
          "output_type": "execute_result",
          "data": {
            "text/plain": [
              "'сбегать'"
            ]
          },
          "metadata": {},
          "execution_count": 55
        }
      ],
      "source": [
        "morph = pymorphy2.MorphAnalyzer()\n",
        "morph.parse('сбегали')[0].normal_form"
      ]
    },
    {
      "cell_type": "code",
      "execution_count": 56,
      "metadata": {
        "colab": {
          "base_uri": "https://localhost:8080/"
        },
        "id": "C5grR2zdzi-X",
        "outputId": "4669979b-8ea0-4295-e693-68ffff83d7f1"
      },
      "outputs": [
        {
          "output_type": "stream",
          "name": "stderr",
          "text": [
            "<ipython-input-54-898b573b2830>:14: FutureWarning: Possible nested set at position 39\n",
            "  text = re.sub(\"[0-9]|[-—.,:;_%©«»?*!@#№$^•·&()]|[+=]|[[]|[]]|[/]|\", '', text)\n"
          ]
        },
        {
          "output_type": "execute_result",
          "data": {
            "text/plain": [
              "0    заместитель председателя правительства рф серг...\n",
              "1    матч  финала кубка россии по футболу был приос...\n",
              "Name: title, dtype: object"
            ]
          },
          "metadata": {},
          "execution_count": 56
        }
      ],
      "source": [
        "news['title'].iloc[:2].apply(lambda x: clean_text(x))"
      ]
    },
    {
      "cell_type": "code",
      "execution_count": 57,
      "metadata": {
        "colab": {
          "base_uri": "https://localhost:8080/"
        },
        "id": "QB2yF4CsrO0Z",
        "outputId": "d8dd18b8-07d7-476c-88b8-16772a057375",
        "scrolled": true
      },
      "outputs": [
        {
          "output_type": "stream",
          "name": "stderr",
          "text": [
            "C:\\ProgramData\\Anaconda3\\lib\\site-packages\\tqdm\\std.py:697: FutureWarning: The Panel class is removed from pandas. Accessing it from the top-level namespace will also be removed in the next version\n",
            "  from pandas import Panel\n",
            "100%|███████████████████████████████████████████████████████████████████████████| 27000/27000 [00:30<00:00, 896.52it/s]\n"
          ]
        },
        {
          "output_type": "stream",
          "name": "stdout",
          "text": [
            "Wall time: 30.2 s\n"
          ]
        }
      ],
      "source": [
        "%%time\n",
        "from tqdm import tqdm\n",
        "tqdm.pandas()\n",
        "\n",
        "# Запускаем очистку текста. Будет долго...\n",
        "news['title'] = news['title'].progress_apply(lambda x: clean_text(x))"
      ]
    },
    {
      "cell_type": "code",
      "execution_count": 58,
      "metadata": {
        "colab": {
          "base_uri": "https://localhost:8080/"
        },
        "id": "XmkV3EefzYf0",
        "outputId": "1bf4ca5a-ac19-4d9a-9160-2ec4fdf56cd6"
      },
      "outputs": [
        {
          "output_type": "execute_result",
          "data": {
            "text/plain": [
              "0    заместитель председателя правительства рф серг...\n",
              "1    матч  финала кубка россии по футболу был приос...\n",
              "2    форвард авангарда томаш заборский прокомментир...\n",
              "3    главный тренер кубани юрий красножан прокоммен...\n",
              "4    решением попечительского совета владивостокско...\n",
              "5    ио главного тренера вячеслав буцаев прокоммент...\n",
              "6    запорожский металлург дома потерпел разгромное...\n",
              "7    сборная сша одержала победу над австрией со сч...\n",
              "8    бывший защитник сборной россии дарюс каспарайт...\n",
              "9    полузащитник цска зоран тошич после победы над...\n",
              "Name: title, dtype: object"
            ]
          },
          "metadata": {},
          "execution_count": 58
        }
      ],
      "source": [
        "news['title'].iloc[:10]"
      ]
    },
    {
      "cell_type": "code",
      "execution_count": 59,
      "metadata": {
        "colab": {
          "base_uri": "https://localhost:8080/"
        },
        "id": "Em-afWYY0Ntx",
        "outputId": "8241f90b-3403-4746-a30d-f6615e275dbc"
      },
      "outputs": [
        {
          "output_type": "execute_result",
          "data": {
            "text/plain": [
              "0    [заместитель, председатель, правительство, рф,...\n",
              "1    [матч, финал, кубок, россия, футбол, приостано...\n",
              "Name: title, dtype: object"
            ]
          },
          "metadata": {},
          "execution_count": 59
        }
      ],
      "source": [
        "news['title'].iloc[:2].apply(lambda x: lemmatization(x))"
      ]
    },
    {
      "cell_type": "code",
      "execution_count": 60,
      "metadata": {
        "colab": {
          "base_uri": "https://localhost:8080/"
        },
        "id": "ug4Q6n2VrO0b",
        "outputId": "88c58af0-35a5-4a1a-d09b-f2ce1542124b"
      },
      "outputs": [
        {
          "output_type": "stream",
          "name": "stderr",
          "text": [
            "100%|███████████████████████████████████████████████████████████████████████████| 27000/27000 [03:31<00:00, 127.41it/s]"
          ]
        },
        {
          "output_type": "stream",
          "name": "stdout",
          "text": [
            "Wall time: 3min 31s\n"
          ]
        },
        {
          "output_type": "stream",
          "name": "stderr",
          "text": [
            "\n"
          ]
        }
      ],
      "source": [
        "%%time\n",
        "# Запускаем лемматизацию текста. Будет очень долго...\n",
        "news['title'] = news['title'].progress_apply(lambda x: lemmatization(x))"
      ]
    },
    {
      "cell_type": "markdown",
      "metadata": {
        "id": "pUGOY6a5rO0c"
      },
      "source": [
        "А теперь в 3 строчки обучим нашу модель"
      ]
    },
    {
      "cell_type": "code",
      "execution_count": 61,
      "metadata": {
        "id": "TCyJb8-8rO0d"
      },
      "outputs": [],
      "source": [
        "# сформируем список наших текстов\n",
        "texts = list(news['title'].values)\n",
        "\n",
        "# Создадим корпус из списка с текстами\n",
        "common_dictionary = Dictionary(texts)\n",
        "common_corpus = [common_dictionary.doc2bow(text) for text in texts]"
      ]
    },
    {
      "cell_type": "markdown",
      "metadata": {
        "id": "HXPsfhNYrO0i"
      },
      "source": [
        "Запускаем обучение"
      ]
    },
    {
      "cell_type": "code",
      "execution_count": 142,
      "metadata": {
        "id": "yKtJddFL8UjP"
      },
      "outputs": [],
      "source": [
        "N_topic = 40"
      ]
    },
    {
      "cell_type": "code",
      "execution_count": 143,
      "metadata": {
        "colab": {
          "base_uri": "https://localhost:8080/"
        },
        "id": "M7vErZgurO0j",
        "outputId": "94520082-afe8-41a6-f484-1d01282fbd2a"
      },
      "outputs": [
        {
          "output_type": "stream",
          "name": "stdout",
          "text": [
            "Wall time: 9min 19s\n"
          ]
        }
      ],
      "source": [
        "%%time\n",
        "from gensim.models import LdaModel\n",
        "\n",
        "# Обучаем модель на корпусе\n",
        "lda = LdaModel(common_corpus, num_topics=N_topic, id2word=common_dictionary, passes=10)"
      ]
    },
    {
      "cell_type": "code",
      "execution_count": 144,
      "metadata": {
        "id": "wSqtDjVJrO0j"
      },
      "outputs": [],
      "source": [
        "from gensim.test.utils import datapath\n",
        "\n",
        "# Сохраняем модель на диск\n",
        "temp_file = datapath(\"model.lda\")\n",
        "lda.save(temp_file)"
      ]
    },
    {
      "cell_type": "code",
      "execution_count": 145,
      "metadata": {
        "id": "HdhE3p_KysTd"
      },
      "outputs": [],
      "source": [
        "# Загружаем обученную модель с диска\n",
        "lda = LdaModel.load(temp_file)"
      ]
    },
    {
      "cell_type": "code",
      "execution_count": 146,
      "metadata": {
        "colab": {
          "base_uri": "https://localhost:8080/"
        },
        "id": "P6AZMJMXrO0l",
        "outputId": "fd584af2-5544-4226-d534-7d9680099863"
      },
      "outputs": [
        {
          "output_type": "stream",
          "name": "stdout",
          "text": [
            "['форвард', 'авангард', 'томаш', 'заборский', 'прокомментировать', 'игра', 'команда', 'матч', 'чемпионат', 'кхл', 'против', 'атланта', 'плохой', 'матч', 'нижний', 'новгород', 'против', 'торпедо', 'настраиваться', 'первый', 'минута', 'включиться', 'заборский', 'получиться', 'забросить', 'быстрый', 'гол', 'задать', 'хороший', 'темп', 'поединок', 'играть', 'хороший', 'сторона', 'пять', 'очко', 'выезд', 'девять', 'хороший']\n"
          ]
        },
        {
          "output_type": "execute_result",
          "data": {
            "text/plain": [
              "[(2, 0.14447911),\n",
              " (11, 0.032442573),\n",
              " (20, 0.57821155),\n",
              " (25, 0.13704644),\n",
              " (26, 0.056121662),\n",
              " (28, 0.029286627)]"
            ]
          },
          "metadata": {},
          "execution_count": 146
        }
      ],
      "source": [
        "# Создаем новый корпус документов, которые раньше не видели\n",
        "other_texts = list(news['title'].iloc[:3])\n",
        "other_corpus = [common_dictionary.doc2bow(text) for text in other_texts]\n",
        "\n",
        "unseen_doc = other_corpus[2]\n",
        "print(other_texts[2])\n",
        "lda[unseen_doc] "
      ]
    },
    {
      "cell_type": "markdown",
      "metadata": {
        "id": "wuxhnNakrO0k"
      },
      "source": [
        "Обучили модель. Теперь 2 вопроса:\n",
        "\n",
        "1. как выглядят наши темы\n",
        "2. как получить для документа вектор значений (вероятности принадлежности каждой теме)"
      ]
    },
    {
      "cell_type": "code",
      "execution_count": 147,
      "metadata": {
        "colab": {
          "base_uri": "https://localhost:8080/"
        },
        "id": "W0Q0uqACrO0m",
        "outputId": "57661220-5196-4ef1-a199-5319dcf166c9"
      },
      "outputs": [
        {
          "output_type": "stream",
          "name": "stdout",
          "text": [
            "topic_0: всё очень большой ru сделать первый газета\n",
            "topic_1: белоруссия бизнесмен белорусский компьютерный минск музыка золото\n",
            "topic_2: сезон миллиард отдых клуб контракт звонок зима\n",
            "topic_3: ребёнок школа следствие родитель детский мальчик девочка\n",
            "topic_4: опубликовать статья информация источник связь депутат проверка\n",
            "topic_5: женщина мужчина жизнь смерть врач семья возраст\n",
            "topic_6: военный сила операция оборона боевой территория российский\n",
            "topic_7: газ район произойти помощь пострадать место данные\n",
            "topic_8: млн цена ставка объём составить стоимость сумма\n",
            "topic_9: научный наука проект академия развитие директор завод\n",
            "topic_10: планета час обнаружить звезда высота скорость метр\n",
            "topic_11: рост рынок банк рубль уровень экономика снижение\n",
            "topic_12: сша американский выяснить американец вашингтон удар америка\n",
            "topic_13: участник день мероприятие участие сайт праздник программа\n",
            "topic_14: армия советский область ссср рф начальник городской\n",
            "topic_15: мозг лечение автор страдать al atio джон\n",
            "topic_16: эксперт проект развитие новый население россия программа\n",
            "topic_17: украина украинский киев донбасс украинец рада резерв\n",
            "topic_18: тыс новый первый центр количество министерство большой\n",
            "topic_19: погибнуть день огонь воздух ночью житель израиль\n",
            "topic_20: команда общество реформа хороший игра объяснять лёд\n",
            "topic_21: китай остров китайский япония японский южный корея\n",
            "topic_22: земля русский энергия язык иран офицер изучение\n",
            "topic_23: обнаружить агентство найти след принадлежать предполагать покупатель\n",
            "topic_24: статья признать мвд свобода чёрный бывший ст\n",
            "topic_25: исследование риск университет фактор форум доклад активность\n",
            "topic_26: новость риа убийство сотрудник конкурс фильм следователь\n",
            "topic_27: дом фонд писать тело журнал газета площадь\n",
            "topic_28: британский великобритания налог космос евро лондон франция\n",
            "topic_29: стрельба иванов добраться терминал трансляция сибирский пистолет\n",
            "topic_30: европа германия технология доля немецкий польша век\n",
            "topic_31: взрыв турция рак кровь берег кость медицина\n",
            "topic_32: система ракета новый двигатель первый испытание комплекс\n",
            "topic_33: пенсия вода падение катастрофа специальный волна сигнал\n",
            "topic_34: россия глава власть российский сторона вопрос решение\n",
            "topic_35: экипаж место рейтинг список опрос третий занять\n",
            "topic_36: россия российский путин владимир москва дмитрий рф\n",
            "topic_37: млрд закон документ доход право рубль правительство\n",
            "topic_38: гражданин россиянин реальный туризм сократиться житель введение\n",
            "topic_39: обращение парк чечня республика грозный чеченский художественный\n"
          ]
        }
      ],
      "source": [
        "x = lda.show_topics(num_topics=N_topic, num_words=7, formatted=False)\n",
        "topics_words = [(tp[0], [wd[0] for wd in tp[1]]) for tp in x]\n",
        "\n",
        "# Печатаем только слова\n",
        "for topic, words in topics_words:\n",
        "    print(f\"topic_{topic}: \" + \" \".join(words))"
      ]
    },
    {
      "cell_type": "markdown",
      "metadata": {
        "id": "54-NWqJlrO0m"
      },
      "source": [
        "Очень неплохо - большинство тем вполне можно описать о чем они"
      ]
    },
    {
      "cell_type": "markdown",
      "metadata": {
        "id": "Ty7ZrvUirO0n"
      },
      "source": [
        "Давайте напишем функцию, которая будет нам возвращать векторное представление новости"
      ]
    },
    {
      "cell_type": "code",
      "execution_count": 148,
      "metadata": {
        "id": "KprjS5qLrO0o"
      },
      "outputs": [],
      "source": [
        "def get_lda_vector(lda, text):\n",
        "    unseen_doc = common_dictionary.doc2bow(text)\n",
        "    lda_tuple = lda[unseen_doc]\n",
        "\n",
        "    not_null_topics = dict(zip([i[0] for i in lda_tuple], [i[1] for i in lda_tuple]))\n",
        "\n",
        "    output_vector = []\n",
        "    for i in range(N_topic):\n",
        "        if i not in not_null_topics:\n",
        "            output_vector.append(0)\n",
        "        else:\n",
        "            output_vector.append(not_null_topics[i])\n",
        "    return np.array(output_vector)"
      ]
    },
    {
      "cell_type": "code",
      "execution_count": 149,
      "metadata": {
        "colab": {
          "base_uri": "https://localhost:8080/"
        },
        "id": "Ior7y34i-Uwo",
        "outputId": "f8df9323-7e3d-4405-9417-50e75ab41a2e"
      },
      "outputs": [
        {
          "output_type": "execute_result",
          "data": {
            "text/plain": [
              "array([0.        , 0.        , 0.        , 0.        , 0.        ,\n",
              "       0.        , 0.        , 0.        , 0.        , 0.04283297,\n",
              "       0.        , 0.05506551, 0.        , 0.        , 0.61486042,\n",
              "       0.        , 0.05377868, 0.        , 0.        , 0.01000177,\n",
              "       0.11073722, 0.        , 0.        , 0.        , 0.        ,\n",
              "       0.        , 0.        , 0.        , 0.        , 0.02025606,\n",
              "       0.        , 0.        , 0.        , 0.        , 0.0844603 ,\n",
              "       0.        , 0.        , 0.        , 0.        , 0.        ])"
            ]
          },
          "metadata": {},
          "execution_count": 149
        }
      ],
      "source": [
        "get_lda_vector(lda, news['title'].iloc[0])"
      ]
    },
    {
      "cell_type": "code",
      "execution_count": 150,
      "metadata": {
        "colab": {
          "base_uri": "https://localhost:8080/",
          "height": 254
        },
        "id": "VbrPcaB6rO0o",
        "outputId": "2148852f-b173-415e-aa82-7331f9095d82"
      },
      "outputs": [
        {
          "output_type": "stream",
          "name": "stdout",
          "text": [
            "Wall time: 41 s\n"
          ]
        },
        {
          "output_type": "execute_result",
          "data": {
            "text/plain": [
              "   doc_id   topic_0  topic_1   topic_2  topic_3   topic_4  topic_5   topic_6  \\\n",
              "0       6  0.000000      0.0  0.000000      0.0  0.000000      0.0  0.000000   \n",
              "1    4896  0.000000      0.0  0.000000      0.0  0.044677      0.0  0.000000   \n",
              "2    4897  0.000000      0.0  0.144456      0.0  0.000000      0.0  0.000000   \n",
              "3    4898  0.258948      0.0  0.058734      0.0  0.000000      0.0  0.148037   \n",
              "4    4899  0.113569      0.0  0.250967      0.0  0.126702      0.0  0.000000   \n",
              "\n",
              "   topic_7  topic_8  ...  topic_30  topic_31  topic_32  topic_33  topic_34  \\\n",
              "0      0.0      0.0  ...       0.0  0.000000  0.000000       0.0  0.084399   \n",
              "1      0.0      0.0  ...       0.0  0.212049  0.000000       0.0  0.000000   \n",
              "2      0.0      0.0  ...       0.0  0.000000  0.000000       0.0  0.000000   \n",
              "3      0.0      0.0  ...       0.0  0.000000  0.029833       0.0  0.062628   \n",
              "4      0.0      0.0  ...       0.0  0.000000  0.000000       0.0  0.264106   \n",
              "\n",
              "   topic_35  topic_36  topic_37  topic_38  topic_39  \n",
              "0       0.0   0.00000       0.0       0.0  0.000000  \n",
              "1       0.0   0.03459       0.0       0.0  0.000000  \n",
              "2       0.0   0.00000       0.0       0.0  0.000000  \n",
              "3       0.0   0.00000       0.0       0.0  0.000000  \n",
              "4       0.0   0.00000       0.0       0.0  0.030142  \n",
              "\n",
              "[5 rows x 41 columns]"
            ],
            "text/html": [
              "<div>\n",
              "<style scoped>\n",
              "    .dataframe tbody tr th:only-of-type {\n",
              "        vertical-align: middle;\n",
              "    }\n",
              "\n",
              "    .dataframe tbody tr th {\n",
              "        vertical-align: top;\n",
              "    }\n",
              "\n",
              "    .dataframe thead th {\n",
              "        text-align: right;\n",
              "    }\n",
              "</style>\n",
              "<table border=\"1\" class=\"dataframe\">\n",
              "  <thead>\n",
              "    <tr style=\"text-align: right;\">\n",
              "      <th></th>\n",
              "      <th>doc_id</th>\n",
              "      <th>topic_0</th>\n",
              "      <th>topic_1</th>\n",
              "      <th>topic_2</th>\n",
              "      <th>topic_3</th>\n",
              "      <th>topic_4</th>\n",
              "      <th>topic_5</th>\n",
              "      <th>topic_6</th>\n",
              "      <th>topic_7</th>\n",
              "      <th>topic_8</th>\n",
              "      <th>...</th>\n",
              "      <th>topic_30</th>\n",
              "      <th>topic_31</th>\n",
              "      <th>topic_32</th>\n",
              "      <th>topic_33</th>\n",
              "      <th>topic_34</th>\n",
              "      <th>topic_35</th>\n",
              "      <th>topic_36</th>\n",
              "      <th>topic_37</th>\n",
              "      <th>topic_38</th>\n",
              "      <th>topic_39</th>\n",
              "    </tr>\n",
              "  </thead>\n",
              "  <tbody>\n",
              "    <tr>\n",
              "      <th>0</th>\n",
              "      <td>6</td>\n",
              "      <td>0.000000</td>\n",
              "      <td>0.0</td>\n",
              "      <td>0.000000</td>\n",
              "      <td>0.0</td>\n",
              "      <td>0.000000</td>\n",
              "      <td>0.0</td>\n",
              "      <td>0.000000</td>\n",
              "      <td>0.0</td>\n",
              "      <td>0.0</td>\n",
              "      <td>...</td>\n",
              "      <td>0.0</td>\n",
              "      <td>0.000000</td>\n",
              "      <td>0.000000</td>\n",
              "      <td>0.0</td>\n",
              "      <td>0.084399</td>\n",
              "      <td>0.0</td>\n",
              "      <td>0.00000</td>\n",
              "      <td>0.0</td>\n",
              "      <td>0.0</td>\n",
              "      <td>0.000000</td>\n",
              "    </tr>\n",
              "    <tr>\n",
              "      <th>1</th>\n",
              "      <td>4896</td>\n",
              "      <td>0.000000</td>\n",
              "      <td>0.0</td>\n",
              "      <td>0.000000</td>\n",
              "      <td>0.0</td>\n",
              "      <td>0.044677</td>\n",
              "      <td>0.0</td>\n",
              "      <td>0.000000</td>\n",
              "      <td>0.0</td>\n",
              "      <td>0.0</td>\n",
              "      <td>...</td>\n",
              "      <td>0.0</td>\n",
              "      <td>0.212049</td>\n",
              "      <td>0.000000</td>\n",
              "      <td>0.0</td>\n",
              "      <td>0.000000</td>\n",
              "      <td>0.0</td>\n",
              "      <td>0.03459</td>\n",
              "      <td>0.0</td>\n",
              "      <td>0.0</td>\n",
              "      <td>0.000000</td>\n",
              "    </tr>\n",
              "    <tr>\n",
              "      <th>2</th>\n",
              "      <td>4897</td>\n",
              "      <td>0.000000</td>\n",
              "      <td>0.0</td>\n",
              "      <td>0.144456</td>\n",
              "      <td>0.0</td>\n",
              "      <td>0.000000</td>\n",
              "      <td>0.0</td>\n",
              "      <td>0.000000</td>\n",
              "      <td>0.0</td>\n",
              "      <td>0.0</td>\n",
              "      <td>...</td>\n",
              "      <td>0.0</td>\n",
              "      <td>0.000000</td>\n",
              "      <td>0.000000</td>\n",
              "      <td>0.0</td>\n",
              "      <td>0.000000</td>\n",
              "      <td>0.0</td>\n",
              "      <td>0.00000</td>\n",
              "      <td>0.0</td>\n",
              "      <td>0.0</td>\n",
              "      <td>0.000000</td>\n",
              "    </tr>\n",
              "    <tr>\n",
              "      <th>3</th>\n",
              "      <td>4898</td>\n",
              "      <td>0.258948</td>\n",
              "      <td>0.0</td>\n",
              "      <td>0.058734</td>\n",
              "      <td>0.0</td>\n",
              "      <td>0.000000</td>\n",
              "      <td>0.0</td>\n",
              "      <td>0.148037</td>\n",
              "      <td>0.0</td>\n",
              "      <td>0.0</td>\n",
              "      <td>...</td>\n",
              "      <td>0.0</td>\n",
              "      <td>0.000000</td>\n",
              "      <td>0.029833</td>\n",
              "      <td>0.0</td>\n",
              "      <td>0.062628</td>\n",
              "      <td>0.0</td>\n",
              "      <td>0.00000</td>\n",
              "      <td>0.0</td>\n",
              "      <td>0.0</td>\n",
              "      <td>0.000000</td>\n",
              "    </tr>\n",
              "    <tr>\n",
              "      <th>4</th>\n",
              "      <td>4899</td>\n",
              "      <td>0.113569</td>\n",
              "      <td>0.0</td>\n",
              "      <td>0.250967</td>\n",
              "      <td>0.0</td>\n",
              "      <td>0.126702</td>\n",
              "      <td>0.0</td>\n",
              "      <td>0.000000</td>\n",
              "      <td>0.0</td>\n",
              "      <td>0.0</td>\n",
              "      <td>...</td>\n",
              "      <td>0.0</td>\n",
              "      <td>0.000000</td>\n",
              "      <td>0.000000</td>\n",
              "      <td>0.0</td>\n",
              "      <td>0.264106</td>\n",
              "      <td>0.0</td>\n",
              "      <td>0.00000</td>\n",
              "      <td>0.0</td>\n",
              "      <td>0.0</td>\n",
              "      <td>0.030142</td>\n",
              "    </tr>\n",
              "  </tbody>\n",
              "</table>\n",
              "<p>5 rows × 41 columns</p>\n",
              "</div>"
            ]
          },
          "metadata": {},
          "execution_count": 150
        }
      ],
      "source": [
        "%%time\n",
        "topic_matrix = pd.DataFrame([get_lda_vector(lda, text) for text in news['title'].values])\n",
        "topic_matrix.columns = [f'topic_{i}' for i in range(N_topic)]\n",
        "topic_matrix['doc_id'] = news['doc_id'].values\n",
        "topic_matrix = topic_matrix[['doc_id']+[f'topic_{i}' for i in range(N_topic)]]\n",
        "topic_matrix.head(5)"
      ]
    },
    {
      "cell_type": "code",
      "execution_count": 151,
      "metadata": {
        "colab": {
          "base_uri": "https://localhost:8080/",
          "height": 235
        },
        "id": "p99gDUJLbJMI",
        "outputId": "c5e92c6d-f7be-4e23-8900-f70d9c7a9433"
      },
      "outputs": [
        {
          "output_type": "execute_result",
          "data": {
            "text/plain": [
              "   doc_id   topic_0  topic_1   topic_2  topic_3   topic_4  topic_5   topic_6  \\\n",
              "0       6  0.000000      0.0  0.000000      0.0  0.000000      0.0  0.000000   \n",
              "1    4896  0.000000      0.0  0.000000      0.0  0.044677      0.0  0.000000   \n",
              "2    4897  0.000000      0.0  0.144456      0.0  0.000000      0.0  0.000000   \n",
              "3    4898  0.258948      0.0  0.058734      0.0  0.000000      0.0  0.148037   \n",
              "4    4899  0.113569      0.0  0.250967      0.0  0.126702      0.0  0.000000   \n",
              "\n",
              "   topic_7  topic_8  ...  topic_30  topic_31  topic_32  topic_33  topic_34  \\\n",
              "0      0.0      0.0  ...       0.0  0.000000  0.000000       0.0  0.084399   \n",
              "1      0.0      0.0  ...       0.0  0.212049  0.000000       0.0  0.000000   \n",
              "2      0.0      0.0  ...       0.0  0.000000  0.000000       0.0  0.000000   \n",
              "3      0.0      0.0  ...       0.0  0.000000  0.029833       0.0  0.062628   \n",
              "4      0.0      0.0  ...       0.0  0.000000  0.000000       0.0  0.264106   \n",
              "\n",
              "   topic_35  topic_36  topic_37  topic_38  topic_39  \n",
              "0       0.0   0.00000       0.0       0.0  0.000000  \n",
              "1       0.0   0.03459       0.0       0.0  0.000000  \n",
              "2       0.0   0.00000       0.0       0.0  0.000000  \n",
              "3       0.0   0.00000       0.0       0.0  0.000000  \n",
              "4       0.0   0.00000       0.0       0.0  0.030142  \n",
              "\n",
              "[5 rows x 41 columns]"
            ],
            "text/html": [
              "<div>\n",
              "<style scoped>\n",
              "    .dataframe tbody tr th:only-of-type {\n",
              "        vertical-align: middle;\n",
              "    }\n",
              "\n",
              "    .dataframe tbody tr th {\n",
              "        vertical-align: top;\n",
              "    }\n",
              "\n",
              "    .dataframe thead th {\n",
              "        text-align: right;\n",
              "    }\n",
              "</style>\n",
              "<table border=\"1\" class=\"dataframe\">\n",
              "  <thead>\n",
              "    <tr style=\"text-align: right;\">\n",
              "      <th></th>\n",
              "      <th>doc_id</th>\n",
              "      <th>topic_0</th>\n",
              "      <th>topic_1</th>\n",
              "      <th>topic_2</th>\n",
              "      <th>topic_3</th>\n",
              "      <th>topic_4</th>\n",
              "      <th>topic_5</th>\n",
              "      <th>topic_6</th>\n",
              "      <th>topic_7</th>\n",
              "      <th>topic_8</th>\n",
              "      <th>...</th>\n",
              "      <th>topic_30</th>\n",
              "      <th>topic_31</th>\n",
              "      <th>topic_32</th>\n",
              "      <th>topic_33</th>\n",
              "      <th>topic_34</th>\n",
              "      <th>topic_35</th>\n",
              "      <th>topic_36</th>\n",
              "      <th>topic_37</th>\n",
              "      <th>topic_38</th>\n",
              "      <th>topic_39</th>\n",
              "    </tr>\n",
              "  </thead>\n",
              "  <tbody>\n",
              "    <tr>\n",
              "      <th>0</th>\n",
              "      <td>6</td>\n",
              "      <td>0.000000</td>\n",
              "      <td>0.0</td>\n",
              "      <td>0.000000</td>\n",
              "      <td>0.0</td>\n",
              "      <td>0.000000</td>\n",
              "      <td>0.0</td>\n",
              "      <td>0.000000</td>\n",
              "      <td>0.0</td>\n",
              "      <td>0.0</td>\n",
              "      <td>...</td>\n",
              "      <td>0.0</td>\n",
              "      <td>0.000000</td>\n",
              "      <td>0.000000</td>\n",
              "      <td>0.0</td>\n",
              "      <td>0.084399</td>\n",
              "      <td>0.0</td>\n",
              "      <td>0.00000</td>\n",
              "      <td>0.0</td>\n",
              "      <td>0.0</td>\n",
              "      <td>0.000000</td>\n",
              "    </tr>\n",
              "    <tr>\n",
              "      <th>1</th>\n",
              "      <td>4896</td>\n",
              "      <td>0.000000</td>\n",
              "      <td>0.0</td>\n",
              "      <td>0.000000</td>\n",
              "      <td>0.0</td>\n",
              "      <td>0.044677</td>\n",
              "      <td>0.0</td>\n",
              "      <td>0.000000</td>\n",
              "      <td>0.0</td>\n",
              "      <td>0.0</td>\n",
              "      <td>...</td>\n",
              "      <td>0.0</td>\n",
              "      <td>0.212049</td>\n",
              "      <td>0.000000</td>\n",
              "      <td>0.0</td>\n",
              "      <td>0.000000</td>\n",
              "      <td>0.0</td>\n",
              "      <td>0.03459</td>\n",
              "      <td>0.0</td>\n",
              "      <td>0.0</td>\n",
              "      <td>0.000000</td>\n",
              "    </tr>\n",
              "    <tr>\n",
              "      <th>2</th>\n",
              "      <td>4897</td>\n",
              "      <td>0.000000</td>\n",
              "      <td>0.0</td>\n",
              "      <td>0.144456</td>\n",
              "      <td>0.0</td>\n",
              "      <td>0.000000</td>\n",
              "      <td>0.0</td>\n",
              "      <td>0.000000</td>\n",
              "      <td>0.0</td>\n",
              "      <td>0.0</td>\n",
              "      <td>...</td>\n",
              "      <td>0.0</td>\n",
              "      <td>0.000000</td>\n",
              "      <td>0.000000</td>\n",
              "      <td>0.0</td>\n",
              "      <td>0.000000</td>\n",
              "      <td>0.0</td>\n",
              "      <td>0.00000</td>\n",
              "      <td>0.0</td>\n",
              "      <td>0.0</td>\n",
              "      <td>0.000000</td>\n",
              "    </tr>\n",
              "    <tr>\n",
              "      <th>3</th>\n",
              "      <td>4898</td>\n",
              "      <td>0.258948</td>\n",
              "      <td>0.0</td>\n",
              "      <td>0.058734</td>\n",
              "      <td>0.0</td>\n",
              "      <td>0.000000</td>\n",
              "      <td>0.0</td>\n",
              "      <td>0.148037</td>\n",
              "      <td>0.0</td>\n",
              "      <td>0.0</td>\n",
              "      <td>...</td>\n",
              "      <td>0.0</td>\n",
              "      <td>0.000000</td>\n",
              "      <td>0.029833</td>\n",
              "      <td>0.0</td>\n",
              "      <td>0.062628</td>\n",
              "      <td>0.0</td>\n",
              "      <td>0.00000</td>\n",
              "      <td>0.0</td>\n",
              "      <td>0.0</td>\n",
              "      <td>0.000000</td>\n",
              "    </tr>\n",
              "    <tr>\n",
              "      <th>4</th>\n",
              "      <td>4899</td>\n",
              "      <td>0.113569</td>\n",
              "      <td>0.0</td>\n",
              "      <td>0.250967</td>\n",
              "      <td>0.0</td>\n",
              "      <td>0.126702</td>\n",
              "      <td>0.0</td>\n",
              "      <td>0.000000</td>\n",
              "      <td>0.0</td>\n",
              "      <td>0.0</td>\n",
              "      <td>...</td>\n",
              "      <td>0.0</td>\n",
              "      <td>0.000000</td>\n",
              "      <td>0.000000</td>\n",
              "      <td>0.0</td>\n",
              "      <td>0.264106</td>\n",
              "      <td>0.0</td>\n",
              "      <td>0.00000</td>\n",
              "      <td>0.0</td>\n",
              "      <td>0.0</td>\n",
              "      <td>0.030142</td>\n",
              "    </tr>\n",
              "  </tbody>\n",
              "</table>\n",
              "<p>5 rows × 41 columns</p>\n",
              "</div>"
            ]
          },
          "metadata": {},
          "execution_count": 151
        }
      ],
      "source": [
        "topic_matrix.head()"
      ]
    },
    {
      "cell_type": "markdown",
      "metadata": {
        "id": "VUA1PoYtrO0p"
      },
      "source": [
        "Прекрасно, мы получили вектора наших новостей! И даже умеем интерпретировать получившиеся темы.\n",
        "\n",
        "Можно двигаться далее"
      ]
    },
    {
      "cell_type": "markdown",
      "metadata": {
        "id": "IuomDk2XrO0q"
      },
      "source": [
        "### Следующий шаг - векторные представления пользователей"
      ]
    },
    {
      "cell_type": "code",
      "execution_count": 152,
      "metadata": {
        "colab": {
          "base_uri": "https://localhost:8080/",
          "height": 143
        },
        "id": "qoGsZWbFrO0r",
        "scrolled": true,
        "outputId": "d5df6717-f861-4b01-9c9b-9b388d37f07f"
      },
      "outputs": [
        {
          "output_type": "execute_result",
          "data": {
            "text/plain": [
              "       uid                                        articles\n",
              "0  u105138  [293672, 293328, 293001, 293622, 293126, 1852]\n",
              "1  u108690          [3405, 1739, 2972, 1158, 1599, 322665]\n",
              "2  u108339          [1845, 2009, 2356, 1424, 2939, 323389]"
            ],
            "text/html": [
              "<div>\n",
              "<style scoped>\n",
              "    .dataframe tbody tr th:only-of-type {\n",
              "        vertical-align: middle;\n",
              "    }\n",
              "\n",
              "    .dataframe tbody tr th {\n",
              "        vertical-align: top;\n",
              "    }\n",
              "\n",
              "    .dataframe thead th {\n",
              "        text-align: right;\n",
              "    }\n",
              "</style>\n",
              "<table border=\"1\" class=\"dataframe\">\n",
              "  <thead>\n",
              "    <tr style=\"text-align: right;\">\n",
              "      <th></th>\n",
              "      <th>uid</th>\n",
              "      <th>articles</th>\n",
              "    </tr>\n",
              "  </thead>\n",
              "  <tbody>\n",
              "    <tr>\n",
              "      <th>0</th>\n",
              "      <td>u105138</td>\n",
              "      <td>[293672, 293328, 293001, 293622, 293126, 1852]</td>\n",
              "    </tr>\n",
              "    <tr>\n",
              "      <th>1</th>\n",
              "      <td>u108690</td>\n",
              "      <td>[3405, 1739, 2972, 1158, 1599, 322665]</td>\n",
              "    </tr>\n",
              "    <tr>\n",
              "      <th>2</th>\n",
              "      <td>u108339</td>\n",
              "      <td>[1845, 2009, 2356, 1424, 2939, 323389]</td>\n",
              "    </tr>\n",
              "  </tbody>\n",
              "</table>\n",
              "</div>"
            ]
          },
          "metadata": {},
          "execution_count": 152
        }
      ],
      "source": [
        "users.head(3)"
      ]
    },
    {
      "cell_type": "code",
      "execution_count": 153,
      "metadata": {
        "id": "yHXCN3VsrO0s"
      },
      "outputs": [],
      "source": [
        "doc_dict = dict(zip(topic_matrix['doc_id'].values, topic_matrix[[f'topic_{i}' for i in range(N_topic)]].values))"
      ]
    },
    {
      "cell_type": "code",
      "execution_count": 154,
      "metadata": {
        "id": "x_M9N6AQrO0u"
      },
      "outputs": [],
      "source": [
        "def get_user_embedding_mean(user_articles_list):\n",
        "    user_articles_list = eval(user_articles_list)\n",
        "    user_vector = np.array([doc_dict[doc_id] for doc_id in user_articles_list])\n",
        "    user_vector = np.mean(user_vector, 0)\n",
        "    return user_vector\n",
        "\n",
        "def get_user_embedding_median(user_articles_list):\n",
        "    user_articles_list = eval(user_articles_list)\n",
        "    user_vector = np.array([doc_dict[doc_id] for doc_id in user_articles_list])\n",
        "    user_vector = np.median(user_vector, 0)\n",
        "    return user_vector\n",
        "\n",
        "def get_user_embedding_max(user_articles_list):\n",
        "    user_articles_list = eval(user_articles_list)\n",
        "    user_vector = np.array([doc_dict[doc_id] for doc_id in user_articles_list])\n",
        "    user_vector = np.max(user_vector, 0)\n",
        "    return user_vector    "
      ]
    },
    {
      "cell_type": "code",
      "execution_count": 155,
      "metadata": {
        "id": "MT74Vkzu_9Rx"
      },
      "outputs": [],
      "source": [
        "!wget 'https://drive.google.com/uc?export=download&id=1nWKteQgEr9Rl8CwTRY7N2f7igevNH7oK' -O users_churn.csv"
      ]
    },
    {
      "cell_type": "markdown",
      "metadata": {
        "id": "HZ9S0UIGrO0-"
      },
      "source": [
        "### Рассчитаем Precision, Recall, F_score"
      ]
    },
    {
      "cell_type": "code",
      "execution_count": 156,
      "metadata": {
        "id": "4_7clnabrO1A"
      },
      "outputs": [],
      "source": [
        "def plot_confusion_matrix(cm, classes,\n",
        "                          normalize=False,\n",
        "                          title='Confusion matrix',\n",
        "                          cmap=plt.cm.Blues):\n",
        "    \"\"\"\n",
        "    This function prints and plots the confusion matrix.\n",
        "    Normalization can be applied by setting `normalize=True`.\n",
        "    \"\"\"\n",
        "    plt.imshow(cm, interpolation='nearest', cmap=cmap)\n",
        "    plt.title(title)\n",
        "    plt.colorbar()\n",
        "    tick_marks = np.arange(len(classes))\n",
        "    plt.xticks(tick_marks, classes, rotation=45)\n",
        "    plt.yticks(tick_marks, classes)\n",
        "\n",
        "    if normalize:\n",
        "        cm = cm.astype('float') / cm.sum(axis=1)[:, np.newaxis]\n",
        "        print(\"Normalized confusion matrix\")\n",
        "    else:\n",
        "        print('Confusion matrix, without normalization')\n",
        "\n",
        "    print(cm)\n",
        "\n",
        "    thresh = cm.max() / 2.\n",
        "    for i, j in itertools.product(range(cm.shape[0]), range(cm.shape[1])):\n",
        "        plt.text(j, i, cm[i, j],\n",
        "                 horizontalalignment=\"center\",\n",
        "                 color=\"white\" if cm[i, j] > thresh else \"black\")\n",
        "\n",
        "    plt.tight_layout()\n",
        "    plt.ylabel('True label')\n",
        "    plt.xlabel('Predicted label')"
      ]
    },
    {
      "cell_type": "code",
      "source": [
        "def score_with_user_embedding(func, func_name):\n",
        "    from sklearn.linear_model import LogisticRegression\n",
        "    from sklearn.model_selection import train_test_split\n",
        "    import itertools\n",
        "    from sklearn.metrics import f1_score, roc_auc_score, precision_score, classification_report, precision_recall_curve, confusion_matrix\n",
        "\n",
        "    user_embeddings = pd.DataFrame([i for i in users['articles'].apply(lambda x: func(x), 1)])\n",
        "    user_embeddings.columns = [f'topic_{i}' for i in range(N_topic)]\n",
        "    user_embeddings['uid'] = users['uid'].values\n",
        "    user_embeddings = user_embeddings[['uid'] + [f'topic_{i}' for i in range(N_topic)]]\n",
        "\n",
        "    X = pd.merge(user_embeddings, target, 'left')\n",
        "\n",
        "    #разделим данные на train/test\n",
        "    X_train, X_test, y_train, y_test = train_test_split(\n",
        "    X[[f'topic_{i}' for i in range(N_topic)]], X['churn'], random_state=0)\n",
        "    \n",
        "    logreg = LogisticRegression()\n",
        "\n",
        "    #обучим наш пайплайн\n",
        "    logreg.fit(X_train, y_train)\n",
        "\n",
        "    #наши прогнозы для тестовой выборки\n",
        "    preds = logreg.predict_proba(X_test)[:, 1]\n",
        "\n",
        "    #график\n",
        "    n = 50\n",
        "    plt.figure(figsize=(10, 6))\n",
        "    plt.plot(preds[:n], label='predict')\n",
        "    plt.plot(y_test.values[:n], label='true')\n",
        "    plt.title(f'ответ модели {func_name}')\n",
        "    plt.xlabel('№ примера')\n",
        "    plt.ylabel('выход')\n",
        "    plt.legend()\n",
        "    plt.grid('On')\n",
        "    plt.show()    \n",
        "\n",
        "    # Рассчитаем Precision, Recall, F_score, roc_auc_score\n",
        "    precision, recall, thresholds = precision_recall_curve(y_test, preds)\n",
        "    fscore = (2 * precision * recall) / (precision + recall)\n",
        "    # locate the index of the largest f score\n",
        "    ix = np.argmax(fscore)\n",
        "    roc_auc_score = roc_auc_score(y_test, preds)\n",
        "\n",
        "\n",
        "    # confusion matrix    \n",
        "    font = {'size' : 15}\n",
        "    plt.rc('font', **font)\n",
        "    cnf_matrix = confusion_matrix(y_test, preds > thresholds[ix])\n",
        "    plt.figure(figsize=(10, 8))\n",
        "    plot_confusion_matrix(cnf_matrix, classes=['Non-Churn', 'churn'], title=f'Confusion matrix for model {func_name}')\n",
        "    plt.savefig(\"conf_matrix.png\")\n",
        "    plt.show()  \n",
        "\n",
        "\n",
        "    return round(thresholds[ix], 4), round(fscore[ix], 4), round(precision[ix], 4), round(recall[ix], 4), round(roc_auc_score, 4)"
      ],
      "metadata": {
        "id": "hBe10XkAKIBo"
      },
      "execution_count": 157,
      "outputs": []
    },
    {
      "cell_type": "code",
      "source": [
        "target = pd.read_csv(\"C:/users_churn.csv\")"
      ],
      "metadata": {
        "id": "4CYyQXkFKWgn"
      },
      "execution_count": 158,
      "outputs": []
    },
    {
      "cell_type": "code",
      "source": [
        "results = pd.DataFrame(np.array([\n",
        "    score_with_user_embedding(func=get_user_embedding_mean, func_name='mean'),\n",
        "    score_with_user_embedding(func=get_user_embedding_median, func_name='median'),\n",
        "    score_with_user_embedding(func=get_user_embedding_max, func_name='max')\n",
        "]), columns=['Best Threshold', 'F-Score', 'Precision', 'Recall', 'ROC AUC score'])\n",
        "\n",
        "results['func'] = ['mean', 'median', 'max']\n",
        "results = results.set_index('func')"
      ],
      "metadata": {
        "colab": {
          "base_uri": "https://localhost:8080/",
          "height": 1000
        },
        "id": "Ost_tMRJKZZA",
        "outputId": "b78d3046-fa30-4a21-90df-270736bb4ca1"
      },
      "execution_count": 160,
      "outputs": [
        {
          "output_type": "display_data",
          "data": {
            "text/plain": [
              "<Figure size 720x432 with 1 Axes>"
            ],
            "image/png": "[encoded data removed]"
          },
          "metadata": {
            "needs_background": "light"
          }
        },
        {
          "output_type": "stream",
          "name": "stdout",
          "text": [
            "Confusion matrix, without normalization\n",
            "[[1668   87]\n",
            " [  32  213]]\n"
          ]
        },
        {
          "output_type": "display_data",
          "data": {
            "text/plain": [
              "<Figure size 720x576 with 2 Axes>"
            ],
            "image/png": "[encoded data removed]"
          },
          "metadata": {
            "needs_background": "light"
          }
        },
        {
          "output_type": "display_data",
          "data": {
            "text/plain": [
              "<Figure size 720x432 with 1 Axes>"
            ],
            "image/png": "[encoded data removed]"
          },
          "metadata": {
            "needs_background": "light"
          }
        },
        {
          "output_type": "stream",
          "name": "stdout",
          "text": [
            "Confusion matrix, without normalization\n",
            "[[1702   53]\n",
            " [  30  215]]\n"
          ]
        },
        {
          "output_type": "display_data",
          "data": {
            "text/plain": [
              "<Figure size 720x576 with 2 Axes>"
            ],
            "image/png": "[encoded data removed]"
          },
          "metadata": {
            "needs_background": "light"
          }
        },
        {
          "output_type": "display_data",
          "data": {
            "text/plain": [
              "<Figure size 720x432 with 1 Axes>"
            ],
            "image/png": "[encoded data removed]"
          },
          "metadata": {
            "needs_background": "light"
          }
        },
        {
          "output_type": "stream",
          "name": "stdout",
          "text": [
            "Confusion matrix, without normalization\n",
            "[[1731   24]\n",
            " [  32  213]]\n"
          ]
        },
        {
          "output_type": "display_data",
          "data": {
            "text/plain": [
              "<Figure size 720x576 with 2 Axes>"
            ],
            "image/png": "[encoded data removed]"
          },
          "metadata": {
            "needs_background": "light"
          }
        }
      ]
    },
    {
      "cell_type": "code",
      "source": [
        "results"
      ],
      "metadata": {
        "colab": {
          "base_uri": "https://localhost:8080/",
          "height": 174
        },
        "id": "VvYLzZDMKZ2i",
        "outputId": "9b5def2f-77bd-47a6-a9e2-73371fb3f0a9"
      },
      "execution_count": 161,
      "outputs": [
        {
          "output_type": "execute_result",
          "data": {
            "text/plain": [
              "        Best Threshold  F-Score  Precision  Recall  ROC AUC score\n",
              "func                                                             \n",
              "mean            0.2265   0.7839     0.7110  0.8735         0.9737\n",
              "median          0.2502   0.8405     0.8030  0.8816         0.9844\n",
              "max             0.3626   0.8861     0.8992  0.8735         0.9920"
            ],
            "text/html": [
              "<div>\n",
              "<style scoped>\n",
              "    .dataframe tbody tr th:only-of-type {\n",
              "        vertical-align: middle;\n",
              "    }\n",
              "\n",
              "    .dataframe tbody tr th {\n",
              "        vertical-align: top;\n",
              "    }\n",
              "\n",
              "    .dataframe thead th {\n",
              "        text-align: right;\n",
              "    }\n",
              "</style>\n",
              "<table border=\"1\" class=\"dataframe\">\n",
              "  <thead>\n",
              "    <tr style=\"text-align: right;\">\n",
              "      <th></th>\n",
              "      <th>Best Threshold</th>\n",
              "      <th>F-Score</th>\n",
              "      <th>Precision</th>\n",
              "      <th>Recall</th>\n",
              "      <th>ROC AUC score</th>\n",
              "    </tr>\n",
              "    <tr>\n",
              "      <th>func</th>\n",
              "      <th></th>\n",
              "      <th></th>\n",
              "      <th></th>\n",
              "      <th></th>\n",
              "      <th></th>\n",
              "    </tr>\n",
              "  </thead>\n",
              "  <tbody>\n",
              "    <tr>\n",
              "      <th>mean</th>\n",
              "      <td>0.2265</td>\n",
              "      <td>0.7839</td>\n",
              "      <td>0.7110</td>\n",
              "      <td>0.8735</td>\n",
              "      <td>0.9737</td>\n",
              "    </tr>\n",
              "    <tr>\n",
              "      <th>median</th>\n",
              "      <td>0.2502</td>\n",
              "      <td>0.8405</td>\n",
              "      <td>0.8030</td>\n",
              "      <td>0.8816</td>\n",
              "      <td>0.9844</td>\n",
              "    </tr>\n",
              "    <tr>\n",
              "      <th>max</th>\n",
              "      <td>0.3626</td>\n",
              "      <td>0.8861</td>\n",
              "      <td>0.8992</td>\n",
              "      <td>0.8735</td>\n",
              "      <td>0.9920</td>\n",
              "    </tr>\n",
              "  </tbody>\n",
              "</table>\n",
              "</div>"
            ]
          },
          "metadata": {},
          "execution_count": 161
        }
      ]
    },
    {
      "cell_type": "markdown",
      "source": [
        "Судя по цифрам, самый эффективный способ - через max. \n",
        "Возможные причины - разброс в интересах пользователя становится меньше, интересы как-бы более узкие, но более точные."
      ],
      "metadata": {
        "id": "DlVDbyrjPpCa"
      }
    },
    {
      "cell_type": "markdown",
      "metadata": {
        "id": "zIAPv0qyrO1E"
      },
      "source": [
        "## Домашнее задание\n",
        "\n",
        "1. *Самостоятельно повторить tfidf (документация https://scikit-learn.org/stable/modules/generated/sklearn.feature_extraction.text.TfidfVectorizer.html)\n",
        "2. Модифицировать код функции get_user_embedding таким образом, чтобы считалось не среднее (как в примере np.mean), а медиана. Применить такое преобразование к данным, обучить модель прогнозирования оттока и посчитать метрики качества и сохранить их: roc auc, precision/recall/f_score (для 3 последних - подобрать оптимальный порог)\n",
        "3. Повторить п.2, но используя уже не медиану, а max\n",
        "4. *Воспользовавшись полученными знаниями из п.1, повторить пункт 2, но уже взвешивая новости по tfidf (взяв список новостей пользователя)\n",
        "    - подсказка 1: нужно получить веса-коэффициенты для каждого документа. Не все документы одинаково информативны и несут какой-то положительный сигнал\n",
        "    - подсказка 2: нужен именно idf, как вес.\n",
        "5. Сформировать на выходе единую таблицу, сравнивающую качество 2/3 разных метода получения эмбедингов пользователей: median, max, idf_mean по метрикам roc_auc, precision, recall, f_score\n",
        "6. Сделать самостоятельные выводы и предположения о том, почему тот или ной способ оказался эффективнее остальных"
      ]
    },
    {
      "cell_type": "markdown",
      "metadata": {
        "id": "6SG3_MJ7rO1F"
      },
      "source": [
        "## Дополнительные ссылки"
      ]
    },
    {
      "cell_type": "markdown",
      "metadata": {
        "id": "YMKShzIirO1G"
      },
      "source": [
        "1. http://www.machinelearning.ru/wiki/images/d/d5/Voron17survey-artm.pdf\n",
        "2. https://en.wikipedia.org/wiki/Latent_Dirichlet_allocation\n",
        "3. http://blog.echen.me/2011/08/22/introduction-to-latent-dirichlet-allocation/"
      ]
    }
  ],
  "metadata": {
    "colab": {
      "collapsed_sections": [],
      "name": "Lesson_2.ipynb",
      "provenance": [],
      "toc_visible": true,
      "include_colab_link": true
    },
    "kernelspec": {
      "display_name": "Python 3",
      "language": "python",
      "name": "python3"
    },
    "language_info": {
      "codemirror_mode": {
        "name": "ipython",
        "version": 3
      },
      "file_extension": ".py",
      "mimetype": "text/x-python",
      "name": "python",
      "nbconvert_exporter": "python",
      "pygments_lexer": "ipython3",
      "version": "3.7.3"
    }
  },
  "nbformat": 4,
  "nbformat_minor": 0
}