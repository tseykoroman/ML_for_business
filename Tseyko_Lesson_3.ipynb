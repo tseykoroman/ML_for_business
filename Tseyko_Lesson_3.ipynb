{
  "cells": [
    {
      "cell_type": "markdown",
      "metadata": {
        "id": "view-in-github",
        "colab_type": "text"
      },
      "source": [
        "<a href=\"https://colab.research.google.com/github/tseykoroman/ML_for_business/blob/main/Tseyko_Lesson_3.ipynb\" target=\"_parent\"><img src=\"https://colab.research.google.com/assets/colab-badge.svg\" alt=\"Open In Colab\"/></a>"
      ]
    },
    {
      "cell_type": "markdown",
      "id": "dd55ab7e",
      "metadata": {
        "id": "dd55ab7e"
      },
      "source": [
        "1. Обучить несколько разных моделей на наборе данных ССЗ (train_case2.csv): логрег, бустинг, лес и т.д - на ваш выбор 2-3 варианта\n",
        "2. Вывести сравнение полученных моделей по основным метрикам классификации: pr/rec/auc/f_score (можно в виде таблицы, где строки - модели, а столбцы - метрики)\n",
        "3. Вывести сравнение полученных моделей по метрикам бизнеса по показателям с урока\n",
        "    - стоимость лечения 15000р, если сделали тест и начали лечить вовремя\n",
        "    - стоимость лечения 20000р, если упустили и начали лечить когда уже проявились все симптомы\n",
        "    - стоимость теста 1400р\n",
        "4. Сделать выводы о том, какая модель справилась с задачей лучше других\n",
        "5. *Найти порог классификации по деньгам для лучшей модели\n",
        "    - Стоимость лечения 15000р, если сделали тест и начали лечить вовремя\n",
        "    - Стоимость лечения 20000р, если упустили и начали лечить когда уже проявились все симптомы\n",
        "    - Стоимость теста 1400р"
      ]
    },
    {
      "cell_type": "code",
      "execution_count": 1,
      "id": "47a5b6c5",
      "metadata": {
        "id": "47a5b6c5"
      },
      "outputs": [],
      "source": [
        "import numpy as np\n",
        "import pandas as pd\n",
        "\n",
        "from sklearn.metrics import roc_auc_score\n",
        "\n",
        "\n",
        "from sklearn.model_selection import cross_val_score, train_test_split\n",
        "from sklearn.pipeline import Pipeline, make_pipeline\n",
        "from sklearn.base import BaseEstimator, TransformerMixin\n",
        "from sklearn.preprocessing import StandardScaler\n",
        "from sklearn.metrics import precision_recall_curve, roc_curve, roc_auc_score, confusion_matrix\n",
        "\n",
        "from sklearn.linear_model import LogisticRegression\n",
        "from sklearn.ensemble import RandomForestClassifier\n",
        "from sklearn.tree import DecisionTreeClassifier\n",
        "from sklearn.preprocessing import StandardScaler\n",
        "from sklearn.pipeline import FeatureUnion"
      ]
    },
    {
      "cell_type": "code",
      "execution_count": 2,
      "id": "acf84f8a",
      "metadata": {
        "colab": {
          "base_uri": "https://localhost:8080/",
          "height": 143
        },
        "id": "acf84f8a",
        "outputId": "ee3b61a8-ebae-4717-fdf1-bcf77fbc2ea3"
      },
      "outputs": [
        {
          "output_type": "execute_result",
          "data": {
            "text/plain": [
              "   id    age  gender  height  weight  ap_hi  ap_lo  cholesterol  gluc  smoke  \\\n",
              "0   0  18393       2     168    62.0    110     80            1     1      0   \n",
              "1   1  20228       1     156    85.0    140     90            3     1      0   \n",
              "2   2  18857       1     165    64.0    130     70            3     1      0   \n",
              "\n",
              "   alco  active  cardio  \n",
              "0     0       1       0  \n",
              "1     0       1       1  \n",
              "2     0       0       1  "
            ],
            "text/html": [
              "<div>\n",
              "<style scoped>\n",
              "    .dataframe tbody tr th:only-of-type {\n",
              "        vertical-align: middle;\n",
              "    }\n",
              "\n",
              "    .dataframe tbody tr th {\n",
              "        vertical-align: top;\n",
              "    }\n",
              "\n",
              "    .dataframe thead th {\n",
              "        text-align: right;\n",
              "    }\n",
              "</style>\n",
              "<table border=\"1\" class=\"dataframe\">\n",
              "  <thead>\n",
              "    <tr style=\"text-align: right;\">\n",
              "      <th></th>\n",
              "      <th>id</th>\n",
              "      <th>age</th>\n",
              "      <th>gender</th>\n",
              "      <th>height</th>\n",
              "      <th>weight</th>\n",
              "      <th>ap_hi</th>\n",
              "      <th>ap_lo</th>\n",
              "      <th>cholesterol</th>\n",
              "      <th>gluc</th>\n",
              "      <th>smoke</th>\n",
              "      <th>alco</th>\n",
              "      <th>active</th>\n",
              "      <th>cardio</th>\n",
              "    </tr>\n",
              "  </thead>\n",
              "  <tbody>\n",
              "    <tr>\n",
              "      <th>0</th>\n",
              "      <td>0</td>\n",
              "      <td>18393</td>\n",
              "      <td>2</td>\n",
              "      <td>168</td>\n",
              "      <td>62.0</td>\n",
              "      <td>110</td>\n",
              "      <td>80</td>\n",
              "      <td>1</td>\n",
              "      <td>1</td>\n",
              "      <td>0</td>\n",
              "      <td>0</td>\n",
              "      <td>1</td>\n",
              "      <td>0</td>\n",
              "    </tr>\n",
              "    <tr>\n",
              "      <th>1</th>\n",
              "      <td>1</td>\n",
              "      <td>20228</td>\n",
              "      <td>1</td>\n",
              "      <td>156</td>\n",
              "      <td>85.0</td>\n",
              "      <td>140</td>\n",
              "      <td>90</td>\n",
              "      <td>3</td>\n",
              "      <td>1</td>\n",
              "      <td>0</td>\n",
              "      <td>0</td>\n",
              "      <td>1</td>\n",
              "      <td>1</td>\n",
              "    </tr>\n",
              "    <tr>\n",
              "      <th>2</th>\n",
              "      <td>2</td>\n",
              "      <td>18857</td>\n",
              "      <td>1</td>\n",
              "      <td>165</td>\n",
              "      <td>64.0</td>\n",
              "      <td>130</td>\n",
              "      <td>70</td>\n",
              "      <td>3</td>\n",
              "      <td>1</td>\n",
              "      <td>0</td>\n",
              "      <td>0</td>\n",
              "      <td>0</td>\n",
              "      <td>1</td>\n",
              "    </tr>\n",
              "  </tbody>\n",
              "</table>\n",
              "</div>"
            ]
          },
          "metadata": {},
          "execution_count": 2
        }
      ],
      "source": [
        "df = pd.read_csv('C:/train_case2.csv', ';')\n",
        "df.head(3)"
      ]
    },
    {
      "cell_type": "markdown",
      "id": "5ee2b9d2",
      "metadata": {
        "id": "5ee2b9d2"
      },
      "source": [
        "Обучить несколько разных моделей на наборе данных ССЗ (train_case2.csv): логрег, бустинг, лес и т.д - на ваш выбор 2-3 варианта"
      ]
    },
    {
      "cell_type": "code",
      "execution_count": 3,
      "id": "6100c485",
      "metadata": {
        "id": "6100c485"
      },
      "outputs": [],
      "source": [
        "X_train, X_test, y_train, y_test = train_test_split(df.drop('cardio', axis=1), \n",
        "                                                    df['cardio'], random_state=0)"
      ]
    },
    {
      "cell_type": "code",
      "execution_count": 4,
      "id": "cc1fc89e",
      "metadata": {
        "id": "cc1fc89e"
      },
      "outputs": [],
      "source": [
        "class ColumnSelector(BaseEstimator, TransformerMixin):\n",
        "    \"\"\"\n",
        "    Transformer to select a single column from the data frame to perform additional transformations on\n",
        "    \"\"\"\n",
        "    def __init__(self, key):\n",
        "        self.key = key\n",
        "\n",
        "    def fit(self, X, y=None):\n",
        "        return self\n",
        "\n",
        "    def transform(self, X):\n",
        "        return X[self.key]\n",
        "    \n",
        "class NumberSelector(BaseEstimator, TransformerMixin):\n",
        "    \"\"\"\n",
        "    Transformer to select a single column from the data frame to perform additional transformations on\n",
        "    Use on numeric columns in the data\n",
        "    \"\"\"\n",
        "    def __init__(self, key):\n",
        "        self.key = key\n",
        "\n",
        "    def fit(self, X, y=None):\n",
        "        return self\n",
        "\n",
        "    def transform(self, X):\n",
        "        return X[[self.key]]\n",
        "    \n",
        "class OHEEncoder(BaseEstimator, TransformerMixin):\n",
        "    def __init__(self, key):\n",
        "        self.key = key\n",
        "        self.columns = []\n",
        "\n",
        "    def fit(self, X, y=None):\n",
        "        self.columns = [col for col in pd.get_dummies(X, prefix=self.key).columns]\n",
        "        return self\n",
        "\n",
        "    def transform(self, X):\n",
        "        X = pd.get_dummies(X, prefix=self.key)\n",
        "        test_columns = [col for col in X.columns]\n",
        "        for col_ in test_columns:\n",
        "            if col_ not in self.columns:\n",
        "                X[col_] = 0\n",
        "        return X[self.columns]\n",
        "\n",
        "\n",
        "\n",
        "\n",
        "continuos_cols = ['age', 'height', 'weight', 'ap_hi', 'ap_lo']\n",
        "cat_cols = ['gender', 'cholesterol']\n",
        "base_cols = ['gluc', 'smoke', 'alco', 'active']\n",
        "\n",
        "continuos_transformers = []\n",
        "cat_transformers = []\n",
        "base_transformers = []\n",
        "\n",
        "for cont_col in continuos_cols:\n",
        "    transfomer =  Pipeline([\n",
        "                ('selector', NumberSelector(key=cont_col)),\n",
        "                ('standard', StandardScaler())\n",
        "            ])\n",
        "    continuos_transformers.append((cont_col, transfomer))\n",
        "    \n",
        "for cat_col in cat_cols:\n",
        "    cat_transformer = Pipeline([\n",
        "                ('selector', ColumnSelector(key=cat_col)),\n",
        "                ('ohe', OHEEncoder(key=cat_col))\n",
        "            ])\n",
        "    cat_transformers.append((cat_col, cat_transformer))\n",
        "    \n",
        "for base_col in base_cols:\n",
        "    base_transformer = Pipeline([\n",
        "                ('selector', NumberSelector(key=base_col))\n",
        "            ])\n",
        "    base_transformers.append((base_col, base_transformer))"
      ]
    },
    {
      "cell_type": "code",
      "execution_count": 6,
      "id": "e2bf612d",
      "metadata": {
        "colab": {
          "base_uri": "https://localhost:8080/"
        },
        "id": "e2bf612d",
        "outputId": "17553624-bc12-4c4d-edbd-e387db1c744e"
      },
      "outputs": [
        {
          "output_type": "execute_result",
          "data": {
            "text/plain": [
              "array([[-1.73391771,  0.6873301 ,  0.74843904, ...,  1.        ,\n",
              "         0.        ,  1.        ],\n",
              "       [-1.67343538,  0.07758923, -0.29640123, ...,  0.        ,\n",
              "         0.        ,  1.        ],\n",
              "       [ 0.13738132,  1.17512278, -0.15708919, ...,  0.        ,\n",
              "         0.        ,  0.        ],\n",
              "       ...,\n",
              "       [ 1.17775864,  1.17512278, -0.15708919, ...,  0.        ,\n",
              "         0.        ,  1.        ],\n",
              "       [-0.47190715, -1.38578883,  0.74843904, ...,  0.        ,\n",
              "         0.        ,  1.        ],\n",
              "       [ 0.38174619,  0.56538192, -0.08743318, ...,  0.        ,\n",
              "         0.        ,  1.        ]])"
            ]
          },
          "metadata": {},
          "execution_count": 6
        }
      ],
      "source": [
        "feats = FeatureUnion(continuos_transformers+cat_transformers+base_transformers)\n",
        "feature_processing = Pipeline([('feats', feats)])\n",
        "\n",
        "feature_processing.fit_transform(X_train)"
      ]
    },
    {
      "cell_type": "code",
      "execution_count": 8,
      "id": "07573395",
      "metadata": {
        "id": "07573395"
      },
      "outputs": [],
      "source": [
        "def training(classifier):\n",
        "    from sklearn.metrics import roc_auc_score\n",
        "\n",
        "    #запустим кросс-валидацию\n",
        "    cv_scores = cross_val_score(classifier, X_train, y_train, cv=7, scoring='roc_auc')\n",
        "    cv_score = np.mean(cv_scores)\n",
        "    cv_score_std = np.std(cv_scores)\n",
        "\n",
        "    #обучим пайплайн на всем тренировочном датасете\n",
        "    classifier.fit(X_train, y_train)\n",
        "    y_score = classifier.predict_proba(X_test)[:, 1]\n",
        "    \n",
        "    # расчтаем метрики\n",
        "    b = 1\n",
        "    precision, recall, thresholds = precision_recall_curve(y_test.values, y_score)\n",
        "    fscore = (1 + b**2) * (precision * recall) / (b**2 * precision + recall)\n",
        "    roc_auc_score = roc_auc_score(y_test, y_score)\n",
        "    ix = np.argmax(fscore)\n",
        "    \n",
        " \n",
        "    return [round(i, 3) for i in [cv_score, thresholds[ix], fscore[ix], precision[ix], recall[ix], roc_auc_score]]"
      ]
    },
    {
      "cell_type": "code",
      "execution_count": 9,
      "id": "6b13e468",
      "metadata": {
        "id": "6b13e468"
      },
      "outputs": [],
      "source": [
        "results = pd.DataFrame([\n",
        "    training(classifier=Pipeline([('features', feats), ('classifier', LogisticRegression(random_state=42))])),\n",
        "    training(classifier=Pipeline([('features', feats), ('classifier', RandomForestClassifier(random_state=42))])),\n",
        "    training(classifier=Pipeline([('features', feats), ('classifier', DecisionTreeClassifier(max_depth=4, random_state=42))])),\n",
        "], columns=['CV', 'Best Threshold', 'F-Score', 'Precision', 'Recall', 'ROC AUC'])\n",
        "\n",
        "results['models'] = ['LogisticRegression', 'RandomForestClassifier', 'DecisionTreeClassifier']\n",
        "results = results.set_index('models')"
      ]
    },
    {
      "cell_type": "markdown",
      "id": "90cdad89",
      "metadata": {
        "id": "90cdad89"
      },
      "source": [
        "Вывести сравнение полученных моделей по основным метрикам классификации: pr/rec/auc/f_score (можно в виде таблицы, где строки - модели, а столбцы - метрики)"
      ]
    },
    {
      "cell_type": "code",
      "execution_count": 10,
      "id": "0c520a17",
      "metadata": {
        "colab": {
          "base_uri": "https://localhost:8080/",
          "height": 174
        },
        "id": "0c520a17",
        "outputId": "59fea553-7a65-4021-eb7f-6f5ed97336a2"
      },
      "outputs": [
        {
          "output_type": "execute_result",
          "data": {
            "text/plain": [
              "                           CV  Best Threshold      F  Precision  Recall  \\\n",
              "models                                                                    \n",
              "LogisticRegression      0.786           0.387  0.730      0.647   0.838   \n",
              "RandomForestClassifier  0.774           0.350  0.719      0.643   0.816   \n",
              "DecisionTreeClassifier  0.787           0.380  0.731      0.647   0.840   \n",
              "\n",
              "                        ROC AUC  \n",
              "models                           \n",
              "LogisticRegression        0.784  \n",
              "RandomForestClassifier    0.771  \n",
              "DecisionTreeClassifier    0.789  "
            ],
            "text/html": [
              "<div>\n",
              "<style scoped>\n",
              "    .dataframe tbody tr th:only-of-type {\n",
              "        vertical-align: middle;\n",
              "    }\n",
              "\n",
              "    .dataframe tbody tr th {\n",
              "        vertical-align: top;\n",
              "    }\n",
              "\n",
              "    .dataframe thead th {\n",
              "        text-align: right;\n",
              "    }\n",
              "</style>\n",
              "<table border=\"1\" class=\"dataframe\">\n",
              "  <thead>\n",
              "    <tr style=\"text-align: right;\">\n",
              "      <th></th>\n",
              "      <th>CV</th>\n",
              "      <th>Best Threshold</th>\n",
              "      <th>F</th>\n",
              "      <th>Precision</th>\n",
              "      <th>Recall</th>\n",
              "      <th>ROC AUC</th>\n",
              "    </tr>\n",
              "    <tr>\n",
              "      <th>models</th>\n",
              "      <th></th>\n",
              "      <th></th>\n",
              "      <th></th>\n",
              "      <th></th>\n",
              "      <th></th>\n",
              "      <th></th>\n",
              "    </tr>\n",
              "  </thead>\n",
              "  <tbody>\n",
              "    <tr>\n",
              "      <th>LogisticRegression</th>\n",
              "      <td>0.786</td>\n",
              "      <td>0.387</td>\n",
              "      <td>0.730</td>\n",
              "      <td>0.647</td>\n",
              "      <td>0.838</td>\n",
              "      <td>0.784</td>\n",
              "    </tr>\n",
              "    <tr>\n",
              "      <th>RandomForestClassifier</th>\n",
              "      <td>0.774</td>\n",
              "      <td>0.350</td>\n",
              "      <td>0.719</td>\n",
              "      <td>0.643</td>\n",
              "      <td>0.816</td>\n",
              "      <td>0.771</td>\n",
              "    </tr>\n",
              "    <tr>\n",
              "      <th>DecisionTreeClassifier</th>\n",
              "      <td>0.787</td>\n",
              "      <td>0.380</td>\n",
              "      <td>0.731</td>\n",
              "      <td>0.647</td>\n",
              "      <td>0.840</td>\n",
              "      <td>0.789</td>\n",
              "    </tr>\n",
              "  </tbody>\n",
              "</table>\n",
              "</div>"
            ]
          },
          "metadata": {},
          "execution_count": 10
        }
      ],
      "source": [
        "results"
      ]
    },
    {
      "cell_type": "markdown",
      "id": "aaf1ea70",
      "metadata": {
        "id": "aaf1ea70"
      },
      "source": [
        "Вывести сравнение полученных моделей по метрикам бизнеса по показателям с урока\n",
        "\n",
        "стоимость лечения 15000р, если сделали тест и начали лечить вовремя\n",
        "\n",
        "стоимость лечения 20000р, если упустили и начали лечить когда уже проявились все симптомы\n",
        "\n",
        "стоимость теста 1400р"
      ]
    },
    {
      "cell_type": "code",
      "execution_count": 11,
      "id": "0d57fab5",
      "metadata": {
        "id": "0d57fab5"
      },
      "outputs": [],
      "source": [
        "import matplotlib.pyplot as plt\n",
        "import itertools"
      ]
    },
    {
      "cell_type": "code",
      "execution_count": 14,
      "id": "a8e28a5f",
      "metadata": {
        "id": "a8e28a5f"
      },
      "outputs": [],
      "source": [
        "def plot_confusion_matrix(cm, classes,\n",
        "                          normalize=False,\n",
        "                          title='Confusion matrix',\n",
        "                          cmap=plt.cm.Blues):\n",
        "    \"\"\"\n",
        "    This function prints and plots the confusion matrix.\n",
        "    Normalization can be applied by setting `normalize=True`.\n",
        "    \"\"\"\n",
        "    plt.imshow(cm, interpolation='nearest', cmap=cmap)\n",
        "    plt.title(title)\n",
        "    plt.colorbar()\n",
        "    tick_marks = np.arange(len(classes))\n",
        "    plt.xticks(tick_marks, classes, rotation=45)\n",
        "    plt.yticks(tick_marks, classes)\n",
        "\n",
        "    if normalize:\n",
        "        cm = cm.astype('float') / cm.sum(axis=1)[:, np.newaxis]\n",
        "        print(\"Normalized confusion matrix\")\n",
        "    else:\n",
        "        print('Confusion matrix, without normalization')\n",
        "\n",
        "    print(cm)\n",
        "\n",
        "    thresh = cm.max() / 2.\n",
        "    for i, j in itertools.product(range(cm.shape[0]), range(cm.shape[1])):\n",
        "        plt.text(j, i, cm[i, j],\n",
        "                 horizontalalignment=\"center\",\n",
        "                 color=\"white\" if cm[i, j] > thresh else \"black\")\n",
        "\n",
        "    plt.tight_layout()\n",
        "    plt.ylabel('True label')\n",
        "    plt.xlabel('Predicted label')"
      ]
    },
    {
      "cell_type": "code",
      "execution_count": 17,
      "id": "b81ff3cc",
      "metadata": {
        "id": "b81ff3cc"
      },
      "outputs": [],
      "source": [
        "def training(classifier):\n",
        "    from sklearn.metrics import roc_auc_score\n",
        "\n",
        "    #запустим кросс-валидацию\n",
        "    cv_scores = cross_val_score(classifier, X_train, y_train, cv=7, scoring='roc_auc')\n",
        "    cv_score = np.mean(cv_scores)\n",
        "    cv_score_std = np.std(cv_scores)\n",
        "\n",
        "    #обучим пайплайн на всем тренировочном датасете\n",
        "    classifier.fit(X_train, y_train)\n",
        "    y_score = classifier.predict_proba(X_test)[:, 1]\n",
        "    \n",
        "    # расчтаем метрики\n",
        "    b = 1\n",
        "    precision, recall, thresholds = precision_recall_curve(y_test.values, y_score)\n",
        "    fscore = (1 + b**2) * (precision * recall) / (b**2 * precision + recall)\n",
        "    roc_auc_score = roc_auc_score(y_test, y_score)\n",
        "    ix = np.argmax(fscore)\n",
        "    \n",
        "    business_threshold = 0\n",
        "\n",
        "    rubl_ML_ = pow(10, 9)\n",
        "\n",
        "    rs = []\n",
        "    n = 20\n",
        "    \n",
        "    rubl_test = 1400\n",
        "    rubl_early_treatment = 15000\n",
        "    rubl_late_treatment = 20000\n",
        "    \n",
        "    \n",
        "    for opt_buisness_tr in np.linspace(0, 1, n).tolist():\n",
        "        # подберем порог для улучшения бизнесс показателя\n",
        "        \n",
        "        cnf_matrix = confusion_matrix(y_test, y_score > (opt_buisness_tr))\n",
        "        TN = cnf_matrix[0][0]\n",
        "        FN = cnf_matrix[1][0]\n",
        "        TP = cnf_matrix[1][1]\n",
        "        FP = cnf_matrix[0][1]\n",
        "\n",
        "        rubl_1 = (TP + FN) * rubl_late_treatment\n",
        "        rubl_test_all = np.sum(cnf_matrix) * rubl_test + (FN + TP) * rubl_early_treatment\n",
        "        rubl_ML = (TP + FP) * rubl_test + FN * rubl_late_treatment + TP * rubl_early_treatment\n",
        "        \n",
        "        r_test_all_r_ML = rubl_test_all - rubl_ML \n",
        "\n",
        "        if rubl_ML < rubl_ML_:            \n",
        "            business_threshold = opt_buisness_tr\n",
        "            \n",
        "            rubl_ML_ = rubl_ML\n",
        "            \n",
        "        rs.append(rubl_ML)  \n",
        "\n",
        "            \n",
        "    \n",
        "#    print('расходы, если не делать тест и ждать симптомов:', rubl_1)\n",
        "#    print('расходы, если делать тест всем и лечить группу больных:', rubl_test_all)\n",
        "#    print('расходы, если использовать МЛ:', rubl_ML_)\n",
        "\n",
        "#    print('Расходы \"решение не делать тесты - расходы с МL:\"', rubl_1 - rubl_ML_)\n",
        "#    print('Расходы \"решение не делать тесты - расходы сделать тесты всем\":', rubl_1 - rubl_test_all)\n",
        "#    print('Расходы \"сделать тесты всем - решение делать тесты ML\":', rubl_test_all - rubl_ML_)\n",
        "    \n",
        "    return [round(i, 3) for i in [cv_score, thresholds[ix], fscore[ix], precision[ix], recall[ix], roc_auc_score, business_threshold]]"
      ]
    },
    {
      "cell_type": "code",
      "execution_count": 18,
      "id": "6f2cf185",
      "metadata": {
        "id": "6f2cf185"
      },
      "outputs": [],
      "source": [
        "results = pd.DataFrame([\n",
        "    training(classifier=Pipeline([('features', feats), ('classifier', LogisticRegression(random_state=42))])),\n",
        "    training(classifier=Pipeline([('features', feats), ('classifier', RandomForestClassifier(random_state=42))])),\n",
        "    training(classifier=Pipeline([('features', feats), ('classifier', DecisionTreeClassifier(max_depth=4, random_state=42))])),\n",
        "], columns=['CV', 'Best Threshold', 'F-Score', 'Precision', 'Recall', 'ROC AUC', 'Уровень порога по бизнес метрике'])\n",
        "\n",
        "results['models'] = ['LogisticRegression', 'RandomForestClassifier', 'DecisionTreeClassifier']\n",
        "results = results.set_index('models')"
      ]
    },
    {
      "cell_type": "code",
      "execution_count": null,
      "id": "1ebd2e5b",
      "metadata": {
        "id": "1ebd2e5b",
        "outputId": "3b6e0be8-dcde-4ca2-f30e-2741e28bfc75"
      },
      "outputs": [
        {
          "data": {
            "text/html": [
              "<div>\n",
              "<style scoped>\n",
              "    .dataframe tbody tr th:only-of-type {\n",
              "        vertical-align: middle;\n",
              "    }\n",
              "\n",
              "    .dataframe tbody tr th {\n",
              "        vertical-align: top;\n",
              "    }\n",
              "\n",
              "    .dataframe thead th {\n",
              "        text-align: right;\n",
              "    }\n",
              "</style>\n",
              "<table border=\"1\" class=\"dataframe\">\n",
              "  <thead>\n",
              "    <tr style=\"text-align: right;\">\n",
              "      <th></th>\n",
              "      <th>CV</th>\n",
              "      <th>Best Threshold</th>\n",
              "      <th>F</th>\n",
              "      <th>Precision</th>\n",
              "      <th>Recall</th>\n",
              "      <th>ROC AUC</th>\n",
              "      <th>Уровень порога по бизнес метрике</th>\n",
              "    </tr>\n",
              "    <tr>\n",
              "      <th>models</th>\n",
              "      <th></th>\n",
              "      <th></th>\n",
              "      <th></th>\n",
              "      <th></th>\n",
              "      <th></th>\n",
              "      <th></th>\n",
              "      <th></th>\n",
              "    </tr>\n",
              "  </thead>\n",
              "  <tbody>\n",
              "    <tr>\n",
              "      <th>LogisticRegression</th>\n",
              "      <td>0.786</td>\n",
              "      <td>0.387</td>\n",
              "      <td>0.730</td>\n",
              "      <td>0.647</td>\n",
              "      <td>0.838</td>\n",
              "      <td>0.784</td>\n",
              "      <td>0.316</td>\n",
              "    </tr>\n",
              "    <tr>\n",
              "      <th>RandomForestClassifier</th>\n",
              "      <td>0.774</td>\n",
              "      <td>0.350</td>\n",
              "      <td>0.719</td>\n",
              "      <td>0.643</td>\n",
              "      <td>0.816</td>\n",
              "      <td>0.771</td>\n",
              "      <td>0.211</td>\n",
              "    </tr>\n",
              "    <tr>\n",
              "      <th>DecisionTreeClassifier</th>\n",
              "      <td>0.787</td>\n",
              "      <td>0.380</td>\n",
              "      <td>0.731</td>\n",
              "      <td>0.647</td>\n",
              "      <td>0.840</td>\n",
              "      <td>0.789</td>\n",
              "      <td>0.263</td>\n",
              "    </tr>\n",
              "  </tbody>\n",
              "</table>\n",
              "</div>"
            ],
            "text/plain": [
              "                           CV  Best Threshold      F  Precision  Recall  \\\n",
              "models                                                                    \n",
              "LogisticRegression      0.786           0.387  0.730      0.647   0.838   \n",
              "RandomForestClassifier  0.774           0.350  0.719      0.643   0.816   \n",
              "DecisionTreeClassifier  0.787           0.380  0.731      0.647   0.840   \n",
              "\n",
              "                        ROC AUC  Уровень порога по бизнес метрике  \n",
              "models                                                             \n",
              "LogisticRegression        0.784                             0.316  \n",
              "RandomForestClassifier    0.771                             0.211  \n",
              "DecisionTreeClassifier    0.789                             0.263  "
            ]
          },
          "execution_count": 252,
          "metadata": {},
          "output_type": "execute_result"
        }
      ],
      "source": [
        "results"
      ]
    },
    {
      "cell_type": "markdown",
      "id": "25f063d9",
      "metadata": {
        "id": "25f063d9"
      },
      "source": [
        "Сделать выводы о том, какая модель справилась с задачей лучше других:\n"
      ]
    },
    {
      "cell_type": "markdown",
      "id": "21709aa5",
      "metadata": {
        "id": "21709aa5"
      },
      "source": [
        "Если смотреть по roc auc, то лучше всего себя показывает дерево решений. Хотя в целом существенных отличий между деревом и лог. регрессией нет.\n",
        "\n",
        "Если судить по бизнес метрике, то лучшую статистику показывает логистическая регрессия. \n",
        "\n",
        "Думаю, что если учитывать, что регрессия тоже имеет хорошие метрики по roc auc, то лучше всего подходит именно она."
      ]
    }
  ],
  "metadata": {
    "kernelspec": {
      "display_name": "Python 3",
      "language": "python",
      "name": "python3"
    },
    "language_info": {
      "codemirror_mode": {
        "name": "ipython",
        "version": 3
      },
      "file_extension": ".py",
      "mimetype": "text/x-python",
      "name": "python",
      "nbconvert_exporter": "python",
      "pygments_lexer": "ipython3",
      "version": "3.8.8"
    },
    "colab": {
      "name": "Lesson  3.ipynb",
      "provenance": [],
      "collapsed_sections": [],
      "include_colab_link": true
    }
  },
  "nbformat": 4,
  "nbformat_minor": 5
}