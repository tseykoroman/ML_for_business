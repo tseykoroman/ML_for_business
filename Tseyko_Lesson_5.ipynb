{
  "cells": [
    {
      "cell_type": "markdown",
      "metadata": {
        "id": "view-in-github",
        "colab_type": "text"
      },
      "source": [
        "<a href=\"https://colab.research.google.com/github/tseykoroman/ML_for_business/blob/main/Tseyko_Lesson_5.ipynb\" target=\"_parent\"><img src=\"https://colab.research.google.com/assets/colab-badge.svg\" alt=\"Open In Colab\"/></a>"
      ]
    },
    {
      "cell_type": "markdown",
      "metadata": {
        "id": "utlLj-Vhsf4O"
      },
      "source": [
        "# Урок 5. Задача оттока: варианты постановки, возможные способы решения##"
      ]
    },
    {
      "cell_type": "markdown",
      "metadata": {
        "id": "otOJPSW3sf8Q"
      },
      "source": [
        "Давайте поработаем с набором данных с платформы kaggle https://www.kaggle.com/adammaus/predicting-churn-for-bank-customers по оттоку клиентов банка"
      ]
    },
    {
      "cell_type": "code",
      "execution_count": 177,
      "metadata": {
        "id": "_yJFfTXBsf8R"
      },
      "outputs": [],
      "source": [
        "import pandas as pd\n",
        "import numpy as np\n",
        "import xgboost as xgb\n",
        "from sklearn.pipeline import Pipeline, make_pipeline\n",
        "from sklearn.base import BaseEstimator, TransformerMixin\n",
        "from sklearn.linear_model import LogisticRegression\n",
        "from sklearn.model_selection import train_test_split\n",
        "from sklearn.metrics import log_loss\n",
        "from datetime import datetime as dt\n",
        "from sklearn.preprocessing import MinMaxScaler\n",
        "from sklearn.ensemble import GradientBoostingClassifier\n",
        "\n",
        "import itertools\n",
        "\n",
        "import matplotlib.pyplot as plt\n",
        "\n",
        "%matplotlib inline\n",
        "\n",
        "\n",
        "\n",
        "import random\n",
        "\n",
        "random.seed(666)\n",
        "import warnings\n",
        "\n",
        "warnings.filterwarnings(\"ignore\", category=DeprecationWarning)"
      ]
    },
    {
      "cell_type": "markdown",
      "source": [
        "Ссылка на google drive: https://drive.google.com/file/d/1yIIxDfW7Wfq-wPlbsa0dFrSlD3r-Ai91"
      ],
      "metadata": {
        "id": "0mMl3U1uqKxM"
      }
    },
    {
      "cell_type": "code",
      "source": [
        "# !wget 'https://drive.google.com/uc?export=download&id=1yIIxDfW7Wfq-wPlbsa0dFrSlD3r-Ai91' -O churn_data.csv"
      ],
      "metadata": {
        "id": "qeL_iX6Stp7V"
      },
      "execution_count": 178,
      "outputs": []
    },
    {
      "cell_type": "code",
      "execution_count": 179,
      "metadata": {
        "colab": {
          "base_uri": "https://localhost:8080/",
          "height": 143
        },
        "id": "LDKU90Nbsf8U",
        "outputId": "9d7a1be7-bc36-4652-8694-afbbce99da3a"
      },
      "outputs": [
        {
          "output_type": "execute_result",
          "data": {
            "text/plain": [
              "   RowNumber  CustomerId   Surname  CreditScore Geography  Gender  Age  \\\n",
              "0          1    15634602  Hargrave          619    France  Female   42   \n",
              "1          2    15647311      Hill          608     Spain  Female   41   \n",
              "2          3    15619304      Onio          502    France  Female   42   \n",
              "\n",
              "   Tenure    Balance  NumOfProducts  HasCrCard  IsActiveMember  \\\n",
              "0       2       0.00              1          1               1   \n",
              "1       1   83807.86              1          0               1   \n",
              "2       8  159660.80              3          1               0   \n",
              "\n",
              "   EstimatedSalary  Exited  \n",
              "0        101348.88       1  \n",
              "1        112542.58       0  \n",
              "2        113931.57       1  "
            ],
            "text/html": [
              "<div>\n",
              "<style scoped>\n",
              "    .dataframe tbody tr th:only-of-type {\n",
              "        vertical-align: middle;\n",
              "    }\n",
              "\n",
              "    .dataframe tbody tr th {\n",
              "        vertical-align: top;\n",
              "    }\n",
              "\n",
              "    .dataframe thead th {\n",
              "        text-align: right;\n",
              "    }\n",
              "</style>\n",
              "<table border=\"1\" class=\"dataframe\">\n",
              "  <thead>\n",
              "    <tr style=\"text-align: right;\">\n",
              "      <th></th>\n",
              "      <th>RowNumber</th>\n",
              "      <th>CustomerId</th>\n",
              "      <th>Surname</th>\n",
              "      <th>CreditScore</th>\n",
              "      <th>Geography</th>\n",
              "      <th>Gender</th>\n",
              "      <th>Age</th>\n",
              "      <th>Tenure</th>\n",
              "      <th>Balance</th>\n",
              "      <th>NumOfProducts</th>\n",
              "      <th>HasCrCard</th>\n",
              "      <th>IsActiveMember</th>\n",
              "      <th>EstimatedSalary</th>\n",
              "      <th>Exited</th>\n",
              "    </tr>\n",
              "  </thead>\n",
              "  <tbody>\n",
              "    <tr>\n",
              "      <th>0</th>\n",
              "      <td>1</td>\n",
              "      <td>15634602</td>\n",
              "      <td>Hargrave</td>\n",
              "      <td>619</td>\n",
              "      <td>France</td>\n",
              "      <td>Female</td>\n",
              "      <td>42</td>\n",
              "      <td>2</td>\n",
              "      <td>0.00</td>\n",
              "      <td>1</td>\n",
              "      <td>1</td>\n",
              "      <td>1</td>\n",
              "      <td>101348.88</td>\n",
              "      <td>1</td>\n",
              "    </tr>\n",
              "    <tr>\n",
              "      <th>1</th>\n",
              "      <td>2</td>\n",
              "      <td>15647311</td>\n",
              "      <td>Hill</td>\n",
              "      <td>608</td>\n",
              "      <td>Spain</td>\n",
              "      <td>Female</td>\n",
              "      <td>41</td>\n",
              "      <td>1</td>\n",
              "      <td>83807.86</td>\n",
              "      <td>1</td>\n",
              "      <td>0</td>\n",
              "      <td>1</td>\n",
              "      <td>112542.58</td>\n",
              "      <td>0</td>\n",
              "    </tr>\n",
              "    <tr>\n",
              "      <th>2</th>\n",
              "      <td>3</td>\n",
              "      <td>15619304</td>\n",
              "      <td>Onio</td>\n",
              "      <td>502</td>\n",
              "      <td>France</td>\n",
              "      <td>Female</td>\n",
              "      <td>42</td>\n",
              "      <td>8</td>\n",
              "      <td>159660.80</td>\n",
              "      <td>3</td>\n",
              "      <td>1</td>\n",
              "      <td>0</td>\n",
              "      <td>113931.57</td>\n",
              "      <td>1</td>\n",
              "    </tr>\n",
              "  </tbody>\n",
              "</table>\n",
              "</div>"
            ]
          },
          "metadata": {},
          "execution_count": 179
        }
      ],
      "source": [
        "df = pd.read_csv(\"C:/churn_data.csv\")\n",
        "df.head(3)"
      ]
    },
    {
      "cell_type": "markdown",
      "metadata": {
        "id": "fxErVfH_sf8W"
      },
      "source": [
        "Есть как категориальные, так и вещественные признаки. Поле CustomerId нужно будет удалить. \n",
        "\n",
        "Посмотрим на распределение классов:"
      ]
    },
    {
      "cell_type": "code",
      "execution_count": 180,
      "metadata": {
        "colab": {
          "base_uri": "https://localhost:8080/"
        },
        "id": "m76pJ_spsf8X",
        "outputId": "2cd49277-5eb9-47cd-d82b-25bba3bd4393"
      },
      "outputs": [
        {
          "output_type": "execute_result",
          "data": {
            "text/plain": [
              "0    7963\n",
              "1    2037\n",
              "Name: Exited, dtype: int64"
            ]
          },
          "metadata": {},
          "execution_count": 180
        }
      ],
      "source": [
        "df['Exited'].value_counts()"
      ]
    },
    {
      "cell_type": "markdown",
      "metadata": {
        "id": "gHHHgjRmsf8a"
      },
      "source": [
        "Не самое плохое распределение (1 к 4)"
      ]
    },
    {
      "cell_type": "markdown",
      "metadata": {
        "id": "C0UTBvAisf8b"
      },
      "source": [
        "Давайте построим модель. Сразу же будем работать с использованием sklearn pipeline"
      ]
    },
    {
      "cell_type": "code",
      "execution_count": 181,
      "metadata": {
        "id": "mBAkHjXXsf8c"
      },
      "outputs": [],
      "source": [
        "#разделим данные на train/test\n",
        "X_train, X_test, y_train, y_test = train_test_split(df, df['Exited'], random_state=0)"
      ]
    },
    {
      "cell_type": "markdown",
      "metadata": {
        "id": "HJuFLXj3sf8e"
      },
      "source": [
        "- Категориальные признаки закодируем с помощью OneHotEncoding\n",
        "- Вещественные оставим пока как есть"
      ]
    },
    {
      "cell_type": "code",
      "execution_count": 182,
      "metadata": {
        "id": "OfErCKdzsf8f"
      },
      "outputs": [],
      "source": [
        "#соберем наш простой pipeline, но нам понадобится написать класс для выбора нужного поля\n",
        "class FeatureSelector(BaseEstimator, TransformerMixin):\n",
        "    def __init__(self, column):\n",
        "        self.column = column\n",
        "\n",
        "    def fit(self, X, y=None):\n",
        "        return self\n",
        "\n",
        "    def transform(self, X, y=None):\n",
        "        return X[self.column]\n",
        "    \n",
        "\n",
        "class NumberSelector(BaseEstimator, TransformerMixin):\n",
        "    \"\"\"\n",
        "    Transformer to select a single column from the data frame to perform additional transformations on\n",
        "    Use on numeric columns in the data\n",
        "    \"\"\"\n",
        "    def __init__(self, key):\n",
        "        self.key = key\n",
        "\n",
        "    def fit(self, X, y=None):\n",
        "        return self\n",
        "\n",
        "    def transform(self, X):\n",
        "        return X[[self.key]]\n",
        "    \n",
        "    \n",
        "class OHEEncoder(BaseEstimator, TransformerMixin):\n",
        "    def __init__(self, key):\n",
        "        self.key = key\n",
        "        self.columns = []\n",
        "\n",
        "    def fit(self, X, y=None):\n",
        "        self.columns = [col for col in pd.get_dummies(X, prefix=self.key).columns]\n",
        "        return self\n",
        "\n",
        "    def transform(self, X):\n",
        "        X = pd.get_dummies(X, prefix=self.key)\n",
        "        test_columns = [col for col in X.columns]\n",
        "        \n",
        "        for col_ in self.columns:\n",
        "            if col_ not in test_columns:\n",
        "                X[col_] = 0\n",
        "        return X[self.columns]"
      ]
    },
    {
      "cell_type": "code",
      "execution_count": 183,
      "metadata": {
        "colab": {
          "base_uri": "https://localhost:8080/",
          "height": 143
        },
        "id": "CDJDAsM-sf8h",
        "outputId": "d2a883f8-62b1-404a-d543-cc6f576e3b81"
      },
      "outputs": [
        {
          "output_type": "execute_result",
          "data": {
            "text/plain": [
              "   RowNumber  CustomerId   Surname  CreditScore Geography  Gender  Age  \\\n",
              "0          1    15634602  Hargrave          619    France  Female   42   \n",
              "1          2    15647311      Hill          608     Spain  Female   41   \n",
              "2          3    15619304      Onio          502    France  Female   42   \n",
              "\n",
              "   Tenure    Balance  NumOfProducts  HasCrCard  IsActiveMember  \\\n",
              "0       2       0.00              1          1               1   \n",
              "1       1   83807.86              1          0               1   \n",
              "2       8  159660.80              3          1               0   \n",
              "\n",
              "   EstimatedSalary  Exited  \n",
              "0        101348.88       1  \n",
              "1        112542.58       0  \n",
              "2        113931.57       1  "
            ],
            "text/html": [
              "<div>\n",
              "<style scoped>\n",
              "    .dataframe tbody tr th:only-of-type {\n",
              "        vertical-align: middle;\n",
              "    }\n",
              "\n",
              "    .dataframe tbody tr th {\n",
              "        vertical-align: top;\n",
              "    }\n",
              "\n",
              "    .dataframe thead th {\n",
              "        text-align: right;\n",
              "    }\n",
              "</style>\n",
              "<table border=\"1\" class=\"dataframe\">\n",
              "  <thead>\n",
              "    <tr style=\"text-align: right;\">\n",
              "      <th></th>\n",
              "      <th>RowNumber</th>\n",
              "      <th>CustomerId</th>\n",
              "      <th>Surname</th>\n",
              "      <th>CreditScore</th>\n",
              "      <th>Geography</th>\n",
              "      <th>Gender</th>\n",
              "      <th>Age</th>\n",
              "      <th>Tenure</th>\n",
              "      <th>Balance</th>\n",
              "      <th>NumOfProducts</th>\n",
              "      <th>HasCrCard</th>\n",
              "      <th>IsActiveMember</th>\n",
              "      <th>EstimatedSalary</th>\n",
              "      <th>Exited</th>\n",
              "    </tr>\n",
              "  </thead>\n",
              "  <tbody>\n",
              "    <tr>\n",
              "      <th>0</th>\n",
              "      <td>1</td>\n",
              "      <td>15634602</td>\n",
              "      <td>Hargrave</td>\n",
              "      <td>619</td>\n",
              "      <td>France</td>\n",
              "      <td>Female</td>\n",
              "      <td>42</td>\n",
              "      <td>2</td>\n",
              "      <td>0.00</td>\n",
              "      <td>1</td>\n",
              "      <td>1</td>\n",
              "      <td>1</td>\n",
              "      <td>101348.88</td>\n",
              "      <td>1</td>\n",
              "    </tr>\n",
              "    <tr>\n",
              "      <th>1</th>\n",
              "      <td>2</td>\n",
              "      <td>15647311</td>\n",
              "      <td>Hill</td>\n",
              "      <td>608</td>\n",
              "      <td>Spain</td>\n",
              "      <td>Female</td>\n",
              "      <td>41</td>\n",
              "      <td>1</td>\n",
              "      <td>83807.86</td>\n",
              "      <td>1</td>\n",
              "      <td>0</td>\n",
              "      <td>1</td>\n",
              "      <td>112542.58</td>\n",
              "      <td>0</td>\n",
              "    </tr>\n",
              "    <tr>\n",
              "      <th>2</th>\n",
              "      <td>3</td>\n",
              "      <td>15619304</td>\n",
              "      <td>Onio</td>\n",
              "      <td>502</td>\n",
              "      <td>France</td>\n",
              "      <td>Female</td>\n",
              "      <td>42</td>\n",
              "      <td>8</td>\n",
              "      <td>159660.80</td>\n",
              "      <td>3</td>\n",
              "      <td>1</td>\n",
              "      <td>0</td>\n",
              "      <td>113931.57</td>\n",
              "      <td>1</td>\n",
              "    </tr>\n",
              "  </tbody>\n",
              "</table>\n",
              "</div>"
            ]
          },
          "metadata": {},
          "execution_count": 183
        }
      ],
      "source": [
        "df.head(3)"
      ]
    },
    {
      "cell_type": "markdown",
      "metadata": {
        "id": "efYT8DsQsf8j"
      },
      "source": [
        "Зададим списки признаков"
      ]
    },
    {
      "cell_type": "code",
      "execution_count": 184,
      "metadata": {
        "id": "HfpW0u5dsf8k"
      },
      "outputs": [],
      "source": [
        "categorical_columns = ['Geography', 'Gender', 'Tenure', 'HasCrCard', 'IsActiveMember']\n",
        "continuous_columns = ['CreditScore', 'Age', 'Balance', 'NumOfProducts', 'EstimatedSalary']"
      ]
    },
    {
      "cell_type": "markdown",
      "metadata": {
        "id": "gEpR3Pxusf8m"
      },
      "source": [
        "Посмотрим как это работает на примере отдельного категориального признака - Gender"
      ]
    },
    {
      "cell_type": "code",
      "execution_count": 185,
      "metadata": {
        "colab": {
          "base_uri": "https://localhost:8080/",
          "height": 143
        },
        "id": "YTXMT6gesf8m",
        "outputId": "998b61eb-5907-42ba-9864-be6d9b34ce60"
      },
      "outputs": [
        {
          "output_type": "execute_result",
          "data": {
            "text/plain": [
              "      Gender_Female  Gender_Male\n",
              "9394              1            0\n",
              "898               1            0\n",
              "2398              1            0"
            ],
            "text/html": [
              "<div>\n",
              "<style scoped>\n",
              "    .dataframe tbody tr th:only-of-type {\n",
              "        vertical-align: middle;\n",
              "    }\n",
              "\n",
              "    .dataframe tbody tr th {\n",
              "        vertical-align: top;\n",
              "    }\n",
              "\n",
              "    .dataframe thead th {\n",
              "        text-align: right;\n",
              "    }\n",
              "</style>\n",
              "<table border=\"1\" class=\"dataframe\">\n",
              "  <thead>\n",
              "    <tr style=\"text-align: right;\">\n",
              "      <th></th>\n",
              "      <th>Gender_Female</th>\n",
              "      <th>Gender_Male</th>\n",
              "    </tr>\n",
              "  </thead>\n",
              "  <tbody>\n",
              "    <tr>\n",
              "      <th>9394</th>\n",
              "      <td>1</td>\n",
              "      <td>0</td>\n",
              "    </tr>\n",
              "    <tr>\n",
              "      <th>898</th>\n",
              "      <td>1</td>\n",
              "      <td>0</td>\n",
              "    </tr>\n",
              "    <tr>\n",
              "      <th>2398</th>\n",
              "      <td>1</td>\n",
              "      <td>0</td>\n",
              "    </tr>\n",
              "  </tbody>\n",
              "</table>\n",
              "</div>"
            ]
          },
          "metadata": {},
          "execution_count": 185
        }
      ],
      "source": [
        "from sklearn.pipeline import Pipeline\n",
        "from sklearn.pipeline import FeatureUnion\n",
        "\n",
        "gender = Pipeline([\n",
        "                ('selector', FeatureSelector(column='Gender')),\n",
        "                ('ohe', OHEEncoder(key='Gender'))\n",
        "            ])\n",
        "\n",
        "gender.fit(X_train)\n",
        "gender.transform(X_test).head(3)"
      ]
    },
    {
      "cell_type": "markdown",
      "metadata": {
        "id": "TCm3vj5Qsf8p"
      },
      "source": [
        "Аналогичный пример для вещественного признака (здесь мы не применяем какое-либо преобразование, а просто столбец как есть)"
      ]
    },
    {
      "cell_type": "code",
      "execution_count": 186,
      "metadata": {
        "colab": {
          "base_uri": "https://localhost:8080/",
          "height": 143
        },
        "id": "T_bmg_M1sf8q",
        "outputId": "d5d0ccd7-7421-46b3-ea9a-58e3c59070ff"
      },
      "outputs": [
        {
          "output_type": "execute_result",
          "data": {
            "text/plain": [
              "      CreditScore\n",
              "9394          597\n",
              "898           523\n",
              "2398          706"
            ],
            "text/html": [
              "<div>\n",
              "<style scoped>\n",
              "    .dataframe tbody tr th:only-of-type {\n",
              "        vertical-align: middle;\n",
              "    }\n",
              "\n",
              "    .dataframe tbody tr th {\n",
              "        vertical-align: top;\n",
              "    }\n",
              "\n",
              "    .dataframe thead th {\n",
              "        text-align: right;\n",
              "    }\n",
              "</style>\n",
              "<table border=\"1\" class=\"dataframe\">\n",
              "  <thead>\n",
              "    <tr style=\"text-align: right;\">\n",
              "      <th></th>\n",
              "      <th>CreditScore</th>\n",
              "    </tr>\n",
              "  </thead>\n",
              "  <tbody>\n",
              "    <tr>\n",
              "      <th>9394</th>\n",
              "      <td>597</td>\n",
              "    </tr>\n",
              "    <tr>\n",
              "      <th>898</th>\n",
              "      <td>523</td>\n",
              "    </tr>\n",
              "    <tr>\n",
              "      <th>2398</th>\n",
              "      <td>706</td>\n",
              "    </tr>\n",
              "  </tbody>\n",
              "</table>\n",
              "</div>"
            ]
          },
          "metadata": {},
          "execution_count": 186
        }
      ],
      "source": [
        "numr = Pipeline([\n",
        "                ('selector', NumberSelector(key='CreditScore')),            \n",
        "            ])\n",
        "\n",
        "numr.fit(X_train)\n",
        "numr.transform(X_test).head(3)"
      ]
    },
    {
      "cell_type": "markdown",
      "source": [
        "1. **Для нашего пайплайна (Case1) поэкспериментировать с разными моделями:**\n",
        "    - бустинг\n",
        "    - логистическая регрессия"
      ],
      "metadata": {
        "id": "Ha3Z1GpJoJ6g"
      }
    },
    {
      "cell_type": "markdown",
      "metadata": {
        "id": "l7Zzhsdpsf8r"
      },
      "source": [
        "Теперь нам нужно под каждый признак создать трансформер и объединить их в список."
      ]
    },
    {
      "cell_type": "code",
      "source": [
        "from sklearn.preprocessing import StandardScaler\n",
        "\n",
        "final_transformers = list()\n",
        "\n",
        "for cat_col in categorical_columns:\n",
        "    cat_transformer = Pipeline([\n",
        "                ('selector', FeatureSelector(column=cat_col)),\n",
        "                ('ohe', OHEEncoder(key=cat_col))\n",
        "            ])\n",
        "    \n",
        "    final_transformers.append((cat_col, cat_transformer))\n",
        "    \n",
        "for cont_col in continuous_columns:\n",
        "    cont_transformer = Pipeline([\n",
        "                ('selector', NumberSelector(key=cont_col)),\n",
        "                ('standard', StandardScaler())\n",
        "            ])\n",
        "    \n",
        "    final_transformers.append((cont_col, cont_transformer))"
      ],
      "metadata": {
        "id": "xHbgfnHRn9hX"
      },
      "execution_count": 187,
      "outputs": []
    },
    {
      "cell_type": "markdown",
      "source": [
        "Объединим все это в единый пайплайн"
      ],
      "metadata": {
        "id": "GCuxRs9bpWlU"
      }
    },
    {
      "cell_type": "code",
      "source": [
        "feats = FeatureUnion(final_transformers)\n",
        "\n",
        "feature_processing = Pipeline([('feats', feats)])"
      ],
      "metadata": {
        "id": "bnzchyRKpTW8"
      },
      "execution_count": 188,
      "outputs": []
    },
    {
      "cell_type": "markdown",
      "source": [
        "Теперь у нас есть пайплайн, который готовит признаки для моделирования.\n",
        "\n",
        "Добавим модели"
      ],
      "metadata": {
        "id": "VRUCDCZtpb7U"
      }
    },
    {
      "cell_type": "code",
      "source": [
        "def plot_confusion_matrix(cm, classes,\n",
        "                          normalize=False,\n",
        "                          title='Confusion matrix',\n",
        "                          cmap=plt.cm.Blues):\n",
        "    \"\"\"\n",
        "    This function prints and plots the confusion matrix.\n",
        "    Normalization can be applied by setting `normalize=True`.\n",
        "    \"\"\"\n",
        "    plt.imshow(cm, interpolation='nearest', cmap=cmap)\n",
        "    plt.title(title)\n",
        "    plt.colorbar()\n",
        "    tick_marks = np.arange(len(classes))\n",
        "    plt.xticks(tick_marks, classes, rotation=45)\n",
        "    plt.yticks(tick_marks, classes)\n",
        "\n",
        "    if normalize:\n",
        "        cm = cm.astype('float') / cm.sum(axis=1)[:, np.newaxis]\n",
        "        print(\"Normalized confusion matrix\")\n",
        "    else:\n",
        "        print('Confusion matrix, without normalization')\n",
        "\n",
        "    print(cm)\n",
        "\n",
        "    thresh = cm.max() / 2.\n",
        "    for i, j in itertools.product(range(cm.shape[0]), range(cm.shape[1])):\n",
        "        plt.text(j, i, cm[i, j],\n",
        "                 horizontalalignment=\"center\",\n",
        "                 color=\"white\" if cm[i, j] > thresh else \"black\")\n",
        "\n",
        "    plt.tight_layout()\n",
        "    plt.ylabel('True label')\n",
        "    plt.xlabel('Predicted label')"
      ],
      "metadata": {
        "id": "23Sg0l7nq-jb"
      },
      "execution_count": 189,
      "outputs": []
    },
    {
      "cell_type": "code",
      "source": [
        "def training(classifier, classifier_name):\n",
        "    from sklearn.metrics import roc_auc_score\n",
        "\n",
        "    #обучим пайплайн на всем тренировочном датасете\n",
        "    classifier.fit(X_train, y_train)\n",
        "    y_score = classifier.predict_proba(X_test)[:, 1]\n",
        "    \n",
        "    # расчтаем метрики\n",
        "    b = 1\n",
        "    precision, recall, thresholds = precision_recall_curve(y_test.values, y_score)\n",
        "    fscore = (2 * precision * recall) / (precision + recall)\n",
        "    roc_auc_score = roc_auc_score(y_test, y_score)\n",
        "    ix = np.argmax(fscore)\n",
        "    cm = confusion_matrix(y_test, y_score>thresholds[ix])\n",
        "\n",
        "    # мы уже нашли ранее \"оптимальный\" порог, когда максимизировали f_score\n",
        "    font = {'size' : 15}\n",
        "    plt.rc('font', **font)\n",
        "    plt.figure(figsize=(6, 4))\n",
        "    plot_confusion_matrix(cm, classes=['NonChurn', 'Churn'], title=f'Confusion matrix for {classifier_name}')\n",
        "    # plt.savefig(\"conf_matrix.png\")\n",
        "    plt.show()\n",
        " \n",
        "    return [round(i, 3) for i in [thresholds[ix], fscore[ix], precision[ix], recall[ix], roc_auc_score, cm[1,1], cm[0,1], cm[0,0], cm[1,0]]]"
      ],
      "metadata": {
        "id": "jdb0rqHhp2pQ"
      },
      "execution_count": 190,
      "outputs": []
    },
    {
      "cell_type": "code",
      "source": [
        "from sklearn.ensemble import RandomForestClassifier\n",
        "from sklearn.ensemble import GradientBoostingClassifier\n",
        "from sklearn.linear_model import LogisticRegression\n",
        "import xgboost as xgb"
      ],
      "metadata": {
        "id": "fXt6gNtwp3Qr"
      },
      "execution_count": 191,
      "outputs": []
    },
    {
      "cell_type": "code",
      "source": [
        "results = pd.DataFrame([\n",
        "    training(classifier=Pipeline([('features', feats), ('classifier', LogisticRegression(random_state=42))]), classifier_name='LogisticRegression'),\n",
        "    training(classifier=Pipeline([('features', feats), ('classifier', RandomForestClassifier(random_state=42))]), classifier_name='RandomForestClassifier'),\n",
        "    training(classifier=Pipeline([('features', feats), ('classifier', GradientBoostingClassifier(random_state=42))]), classifier_name='GradientBoostingClassifier'),\n",
        "    training(classifier=Pipeline([('features', feats), ('classifier', xgb.XGBClassifier(random_state=42, \n",
        "                                                                                        use_label_encoder=False, \n",
        "                                                                                        eval_metric='logloss'))]), classifier_name='XGBClassifier') \n",
        "], columns=['Best Threshold', 'F', 'Precision', 'Recall', 'ROC AUC', 'TP', 'FP', 'TN', 'FN'])\n",
        "\n",
        "results['models'] = ['LogisticRegression', 'RandomForestClassifier', 'GradientBoostingClassifier', 'XGBClassifier']\n",
        "results = results.set_index('models')"
      ],
      "metadata": {
        "colab": {
          "base_uri": "https://localhost:8080/",
          "height": 1000
        },
        "id": "CyyuMsJlp58f",
        "outputId": "0a950d07-251a-44ac-92fb-b72f7bb9d9b7"
      },
      "execution_count": 192,
      "outputs": [
        {
          "output_type": "stream",
          "name": "stdout",
          "text": [
            "Confusion matrix, without normalization\n",
            "[[1655  336]\n",
            " [ 221  288]]\n"
          ]
        },
        {
          "output_type": "display_data",
          "data": {
            "text/plain": [
              "<Figure size 432x288 with 2 Axes>"
            ],
            "image/png": "[encoded data removed]"
          },
          "metadata": {
            "needs_background": "light"
          }
        },
        {
          "output_type": "stream",
          "name": "stdout",
          "text": [
            "Confusion matrix, without normalization\n",
            "[[1833  158]\n",
            " [ 195  314]]\n"
          ]
        },
        {
          "output_type": "display_data",
          "data": {
            "text/plain": [
              "<Figure size 432x288 with 2 Axes>"
            ],
            "image/png": "[encoded data removed]"
          },
          "metadata": {
            "needs_background": "light"
          }
        },
        {
          "output_type": "stream",
          "name": "stdout",
          "text": [
            "Confusion matrix, without normalization\n",
            "[[1863  128]\n",
            " [ 206  303]]\n"
          ]
        },
        {
          "output_type": "display_data",
          "data": {
            "text/plain": [
              "<Figure size 432x288 with 2 Axes>"
            ],
            "image/png": "[encoded data removed]"
          },
          "metadata": {
            "needs_background": "light"
          }
        },
        {
          "output_type": "stream",
          "name": "stdout",
          "text": [
            "Confusion matrix, without normalization\n",
            "[[1793  198]\n",
            " [ 188  321]]\n"
          ]
        },
        {
          "output_type": "display_data",
          "data": {
            "text/plain": [
              "<Figure size 432x288 with 2 Axes>"
            ],
            "image/png": "[encoded data removed]"
          },
          "metadata": {
            "needs_background": "light"
          }
        }
      ]
    },
    {
      "cell_type": "code",
      "source": [
        "results"
      ],
      "metadata": {
        "colab": {
          "base_uri": "https://localhost:8080/",
          "height": 206
        },
        "id": "6r-bamdyp7qb",
        "outputId": "c09578d0-7a68-4c9a-d549-c41d30f9cbe1"
      },
      "execution_count": 193,
      "outputs": [
        {
          "output_type": "execute_result",
          "data": {
            "text/plain": [
              "                            Best Threshold      F  Precision  Recall  ROC AUC  \\\n",
              "models                                                                          \n",
              "LogisticRegression                   0.290  0.510      0.462   0.568    0.772   \n",
              "RandomForestClassifier               0.380  0.641      0.654   0.629    0.864   \n",
              "GradientBoostingClassifier           0.409  0.646      0.704   0.597    0.876   \n",
              "XGBClassifier                        0.373  0.626      0.619   0.633    0.861   \n",
              "\n",
              "                             TP   FP    TN   FN  \n",
              "models                                           \n",
              "LogisticRegression          288  336  1655  221  \n",
              "RandomForestClassifier      314  158  1833  195  \n",
              "GradientBoostingClassifier  303  128  1863  206  \n",
              "XGBClassifier               321  198  1793  188  "
            ],
            "text/html": [
              "<div>\n",
              "<style scoped>\n",
              "    .dataframe tbody tr th:only-of-type {\n",
              "        vertical-align: middle;\n",
              "    }\n",
              "\n",
              "    .dataframe tbody tr th {\n",
              "        vertical-align: top;\n",
              "    }\n",
              "\n",
              "    .dataframe thead th {\n",
              "        text-align: right;\n",
              "    }\n",
              "</style>\n",
              "<table border=\"1\" class=\"dataframe\">\n",
              "  <thead>\n",
              "    <tr style=\"text-align: right;\">\n",
              "      <th></th>\n",
              "      <th>Best Threshold</th>\n",
              "      <th>F</th>\n",
              "      <th>Precision</th>\n",
              "      <th>Recall</th>\n",
              "      <th>ROC AUC</th>\n",
              "      <th>TP</th>\n",
              "      <th>FP</th>\n",
              "      <th>TN</th>\n",
              "      <th>FN</th>\n",
              "    </tr>\n",
              "    <tr>\n",
              "      <th>models</th>\n",
              "      <th></th>\n",
              "      <th></th>\n",
              "      <th></th>\n",
              "      <th></th>\n",
              "      <th></th>\n",
              "      <th></th>\n",
              "      <th></th>\n",
              "      <th></th>\n",
              "      <th></th>\n",
              "    </tr>\n",
              "  </thead>\n",
              "  <tbody>\n",
              "    <tr>\n",
              "      <th>LogisticRegression</th>\n",
              "      <td>0.290</td>\n",
              "      <td>0.510</td>\n",
              "      <td>0.462</td>\n",
              "      <td>0.568</td>\n",
              "      <td>0.772</td>\n",
              "      <td>288</td>\n",
              "      <td>336</td>\n",
              "      <td>1655</td>\n",
              "      <td>221</td>\n",
              "    </tr>\n",
              "    <tr>\n",
              "      <th>RandomForestClassifier</th>\n",
              "      <td>0.380</td>\n",
              "      <td>0.641</td>\n",
              "      <td>0.654</td>\n",
              "      <td>0.629</td>\n",
              "      <td>0.864</td>\n",
              "      <td>314</td>\n",
              "      <td>158</td>\n",
              "      <td>1833</td>\n",
              "      <td>195</td>\n",
              "    </tr>\n",
              "    <tr>\n",
              "      <th>GradientBoostingClassifier</th>\n",
              "      <td>0.409</td>\n",
              "      <td>0.646</td>\n",
              "      <td>0.704</td>\n",
              "      <td>0.597</td>\n",
              "      <td>0.876</td>\n",
              "      <td>303</td>\n",
              "      <td>128</td>\n",
              "      <td>1863</td>\n",
              "      <td>206</td>\n",
              "    </tr>\n",
              "    <tr>\n",
              "      <th>XGBClassifier</th>\n",
              "      <td>0.373</td>\n",
              "      <td>0.626</td>\n",
              "      <td>0.619</td>\n",
              "      <td>0.633</td>\n",
              "      <td>0.861</td>\n",
              "      <td>321</td>\n",
              "      <td>198</td>\n",
              "      <td>1793</td>\n",
              "      <td>188</td>\n",
              "    </tr>\n",
              "  </tbody>\n",
              "</table>\n",
              "</div>"
            ]
          },
          "metadata": {},
          "execution_count": 193
        }
      ]
    },
    {
      "cell_type": "code",
      "source": [
        ""
      ],
      "metadata": {
        "id": "uKGj0kQ2FXyH"
      },
      "execution_count": null,
      "outputs": []
    },
    {
      "cell_type": "markdown",
      "source": [
        "2. **Отобрать лучшую модель по метрикам (какая по вашему мнению здесь наиболее подходящая ML-метрика)**"
      ],
      "metadata": {
        "id": "0kqM1nxStE5c"
      }
    },
    {
      "cell_type": "markdown",
      "source": [
        "Наиболее подходщая метрика это Precision. Т.о. лучшая модель - GradientBoostingClassifier."
      ],
      "metadata": {
        "id": "IVpcxbCetHCC"
      }
    },
    {
      "cell_type": "markdown",
      "source": [
        "3.**Для отобранной модели (на отложенной выборке) сделать оценку экономической эффективности при тех же вводных, как в вопросе 2:**\n",
        "    - 1 доллар на удержание\n",
        "    - 2 доллара - с каждого правильно классифицированного (True Positive)"
      ],
      "metadata": {
        "id": "MyXQgj3ntCnw"
      }
    },
    {
      "cell_type": "code",
      "source": [
        "retain_sum = (results['FP']['GradientBoostingClassifier'] + results['TP']['GradientBoostingClassifier']) * 1\n",
        "income = results['TP']['GradientBoostingClassifier'] * 2\n",
        "\n",
        "income - retain_sum"
      ],
      "metadata": {
        "colab": {
          "base_uri": "https://localhost:8080/"
        },
        "id": "WX28AH-xtXZB",
        "outputId": "46a10f06-ce9d-4d90-c6eb-fc3290f4761f"
      },
      "execution_count": 194,
      "outputs": [
        {
          "output_type": "execute_result",
          "data": {
            "text/plain": [
              "175"
            ]
          },
          "metadata": {},
          "execution_count": 194
        }
      ]
    },
    {
      "cell_type": "markdown",
      "source": [
        "4. **Провести подбор гиперпараметров лучшей модели по итогам 2-3**"
      ],
      "metadata": {
        "id": "tTEyyL8lt5Ao"
      }
    },
    {
      "cell_type": "markdown",
      "source": [
        "Сетка с параметрами"
      ],
      "metadata": {
        "id": "8Hj3QlE5uQAX"
      }
    },
    {
      "cell_type": "code",
      "source": [
        "from sklearn.model_selection import GridSearchCV\n",
        "\n",
        "params = {\n",
        "    #'classifier__loss':[\"deviance\"],\n",
        "    'classifier__learning_rate': [0.01, 0.025, 0.05, 0.075, 0.1, 0.15, 0.2],\n",
        "    #'classifier__min_samples_split': np.linspace(0.1, 0.5, 12),\n",
        "    #'classifier__min_samples_leaf': np.linspace(0.1, 0.5, 12),\n",
        "    'classifier__max_depth':[3,5,8],\n",
        "    'classifier__max_features':[\"log2\",\"sqrt\"],\n",
        "    #'classifier__criterion': [\"friedman_mse\",  \"mae\"],\n",
        "    #'classifier__subsample':[0.5, 0.618, 0.8, 0.85, 0.9, 0.95, 1.0],\n",
        "    'classifier__n_estimators':[10, 50, 100]\n",
        "}"
      ],
      "metadata": {
        "id": "fibh-RTjuSKL"
      },
      "execution_count": 195,
      "outputs": []
    },
    {
      "cell_type": "code",
      "source": [
        "pipeline = Pipeline([\n",
        "    ('features', feats),\n",
        "    ('classifier', GradientBoostingClassifier()),\n",
        "])"
      ],
      "metadata": {
        "id": "BILuIHwduaIN"
      },
      "execution_count": 196,
      "outputs": []
    },
    {
      "cell_type": "markdown",
      "source": [
        "Запускаем перебор"
      ],
      "metadata": {
        "id": "5X6L3SJjuzJc"
      }
    },
    {
      "cell_type": "code",
      "source": [
        "%%time\n",
        "grid = GridSearchCV(pipeline,\n",
        "                    param_grid=params,\n",
        "                    cv=6,\n",
        "                    refit=False)\n",
        "\n",
        "search = grid.fit(X_train, y_train)\n",
        "search.best_params_"
      ],
      "metadata": {
        "colab": {
          "base_uri": "https://localhost:8080/"
        },
        "id": "wXP2xx_bu1cn",
        "outputId": "b7c53296-66ff-4ed7-fbfe-22c4116bbe56"
      },
      "execution_count": 197,
      "outputs": [
        {
          "output_type": "stream",
          "name": "stdout",
          "text": [
            "Wall time: 4min 23s\n"
          ]
        },
        {
          "output_type": "execute_result",
          "data": {
            "text/plain": [
              "{'classifier__learning_rate': 0.05,\n",
              " 'classifier__max_depth': 5,\n",
              " 'classifier__max_features': 'sqrt',\n",
              " 'classifier__n_estimators': 100}"
            ]
          },
          "metadata": {},
          "execution_count": 197
        }
      ]
    },
    {
      "cell_type": "code",
      "source": [
        "search.best_params_"
      ],
      "metadata": {
        "colab": {
          "base_uri": "https://localhost:8080/"
        },
        "id": "sBP_FKZ_u2-I",
        "outputId": "e1f8e15e-f9fa-4363-bcf4-1932a4327524"
      },
      "execution_count": 198,
      "outputs": [
        {
          "output_type": "execute_result",
          "data": {
            "text/plain": [
              "{'classifier__learning_rate': 0.05,\n",
              " 'classifier__max_depth': 5,\n",
              " 'classifier__max_features': 'sqrt',\n",
              " 'classifier__n_estimators': 100}"
            ]
          },
          "metadata": {},
          "execution_count": 198
        }
      ]
    },
    {
      "cell_type": "markdown",
      "source": [
        "Обучаем модель уже с новыми параметрами"
      ],
      "metadata": {
        "id": "9wSWPzHcu42b"
      }
    },
    {
      "cell_type": "code",
      "source": [
        "results = pd.DataFrame([\n",
        " training(classifier=Pipeline([('features', feats), ('classifier', GradientBoostingClassifier(random_state=42))]), classifier_name='GradientBoostingClassifier'),\n",
        " training(classifier=Pipeline([('features', feats), ('classifier', GradientBoostingClassifier(random_state=42, \n",
        "                                                                                        learning_rate=0.05,\n",
        "                                                                                        max_depth=5,\n",
        "                                                                                        max_features='sqrt',\n",
        "                                                                                        n_estimators=100))]), classifier_name='GradientBoostingClassifier')\n",
        "    ], columns=['Best Threshold', 'F', 'Precision', 'Recall', 'ROC AUC', 'TP', 'FP', 'TN', 'FN'])\n",
        "\n",
        "results['models'] = ['GradientBoostingClassifier', 'GradientBoostingClassifier_2']\n",
        "results = results.set_index('models')"
      ],
      "metadata": {
        "colab": {
          "base_uri": "https://localhost:8080/",
          "height": 705
        },
        "id": "C1PWOOdLu7P_",
        "outputId": "7d8b4c39-167d-4a49-cbc1-e715647f52d5"
      },
      "execution_count": 202,
      "outputs": [
        {
          "output_type": "stream",
          "name": "stdout",
          "text": [
            "Confusion matrix, without normalization\n",
            "[[1863  128]\n",
            " [ 206  303]]\n"
          ]
        },
        {
          "output_type": "display_data",
          "data": {
            "text/plain": [
              "<Figure size 432x288 with 2 Axes>"
            ],
            "image/png": "[encoded data removed]"
          },
          "metadata": {
            "needs_background": "light"
          }
        },
        {
          "output_type": "stream",
          "name": "stdout",
          "text": [
            "Confusion matrix, without normalization\n",
            "[[1774  217]\n",
            " [ 167  342]]\n"
          ]
        },
        {
          "output_type": "display_data",
          "data": {
            "text/plain": [
              "<Figure size 432x288 with 2 Axes>"
            ],
            "image/png": "[encoded data removed]"
          },
          "metadata": {
            "needs_background": "light"
          }
        }
      ]
    },
    {
      "cell_type": "markdown",
      "source": [
        "5. **Еще раз провести оценку экономической эффективности**"
      ],
      "metadata": {
        "id": "-O4SaMeOFi1z"
      }
    },
    {
      "cell_type": "code",
      "source": [
        "retain_sum = (results['FP']['GradientBoostingClassifier'] + results['TP']['GradientBoostingClassifier']) * 1\n",
        "income = results['TP']['GradientBoostingClassifier'] * 2\n",
        "\n",
        "income - retain_sum"
      ],
      "metadata": {
        "colab": {
          "base_uri": "https://localhost:8080/"
        },
        "id": "kDAB91ooAuRT",
        "outputId": "c4e8f113-d2f1-4c48-8cdd-9d2cfe295084"
      },
      "execution_count": 203,
      "outputs": [
        {
          "output_type": "execute_result",
          "data": {
            "text/plain": [
              "175"
            ]
          },
          "metadata": {},
          "execution_count": 203
        }
      ]
    },
    {
      "cell_type": "code",
      "source": [
        "retain_sum = (results['FP']['GradientBoostingClassifier'] + results['TP']['GradientBoostingClassifier']) * 1\n",
        "income = results['TP']['GradientBoostingClassifier'] * 2\n",
        "\n",
        "income - retain_sum"
      ],
      "metadata": {
        "colab": {
          "base_uri": "https://localhost:8080/"
        },
        "id": "0_MMnL7OAvS1",
        "outputId": "58defe77-69b5-47f4-e58a-f3f91248f788"
      },
      "execution_count": 205,
      "outputs": [
        {
          "output_type": "execute_result",
          "data": {
            "text/plain": [
              "175"
            ]
          },
          "metadata": {},
          "execution_count": 205
        }
      ]
    },
    {
      "cell_type": "code",
      "source": [
        "results"
      ],
      "metadata": {
        "colab": {
          "base_uri": "https://localhost:8080/",
          "height": 143
        },
        "id": "VDW2fVDNEzVF",
        "outputId": "bc56dcaf-b97b-412c-d574-4f7eda460a6b"
      },
      "execution_count": 206,
      "outputs": [
        {
          "output_type": "execute_result",
          "data": {
            "text/plain": [
              "                              Best Threshold      F  Precision  Recall  \\\n",
              "models                                                                   \n",
              "GradientBoostingClassifier             0.409  0.646      0.704   0.597   \n",
              "GradientBoostingClassifier_2           0.300  0.642      0.612   0.674   \n",
              "\n",
              "                              ROC AUC   TP   FP    TN   FN  \n",
              "models                                                      \n",
              "GradientBoostingClassifier      0.876  303  128  1863  206  \n",
              "GradientBoostingClassifier_2    0.872  342  217  1774  167  "
            ],
            "text/html": [
              "<div>\n",
              "<style scoped>\n",
              "    .dataframe tbody tr th:only-of-type {\n",
              "        vertical-align: middle;\n",
              "    }\n",
              "\n",
              "    .dataframe tbody tr th {\n",
              "        vertical-align: top;\n",
              "    }\n",
              "\n",
              "    .dataframe thead th {\n",
              "        text-align: right;\n",
              "    }\n",
              "</style>\n",
              "<table border=\"1\" class=\"dataframe\">\n",
              "  <thead>\n",
              "    <tr style=\"text-align: right;\">\n",
              "      <th></th>\n",
              "      <th>Best Threshold</th>\n",
              "      <th>F</th>\n",
              "      <th>Precision</th>\n",
              "      <th>Recall</th>\n",
              "      <th>ROC AUC</th>\n",
              "      <th>TP</th>\n",
              "      <th>FP</th>\n",
              "      <th>TN</th>\n",
              "      <th>FN</th>\n",
              "    </tr>\n",
              "    <tr>\n",
              "      <th>models</th>\n",
              "      <th></th>\n",
              "      <th></th>\n",
              "      <th></th>\n",
              "      <th></th>\n",
              "      <th></th>\n",
              "      <th></th>\n",
              "      <th></th>\n",
              "      <th></th>\n",
              "      <th></th>\n",
              "    </tr>\n",
              "  </thead>\n",
              "  <tbody>\n",
              "    <tr>\n",
              "      <th>GradientBoostingClassifier</th>\n",
              "      <td>0.409</td>\n",
              "      <td>0.646</td>\n",
              "      <td>0.704</td>\n",
              "      <td>0.597</td>\n",
              "      <td>0.876</td>\n",
              "      <td>303</td>\n",
              "      <td>128</td>\n",
              "      <td>1863</td>\n",
              "      <td>206</td>\n",
              "    </tr>\n",
              "    <tr>\n",
              "      <th>GradientBoostingClassifier_2</th>\n",
              "      <td>0.300</td>\n",
              "      <td>0.642</td>\n",
              "      <td>0.612</td>\n",
              "      <td>0.674</td>\n",
              "      <td>0.872</td>\n",
              "      <td>342</td>\n",
              "      <td>217</td>\n",
              "      <td>1774</td>\n",
              "      <td>167</td>\n",
              "    </tr>\n",
              "  </tbody>\n",
              "</table>\n",
              "</div>"
            ]
          },
          "metadata": {},
          "execution_count": 206
        }
      ]
    },
    {
      "cell_type": "markdown",
      "source": [
        "Как мы видим экономическая эффективность не изменилась, f-score уменьшился, нужно подбирать другие параметры для "
      ],
      "metadata": {
        "id": "zN_S8tCxEp-F"
      }
    },
    {
      "cell_type": "markdown",
      "metadata": {
        "id": "ryhLjiN1sf9x"
      },
      "source": [
        "## Домашнее задание"
      ]
    },
    {
      "cell_type": "markdown",
      "metadata": {
        "id": "uCHW7Zyqsf9y"
      },
      "source": [
        "1. Для нашего пайплайна (Case1) поэкспериментировать с разными моделями:\n",
        "    - бустинг\n",
        "    - логистическая регрессия\n",
        "2. Отобрать лучшую модель по метрикам (какая по вашему мнению здесь наиболее подходящая ML-метрика)\n",
        "3. Для отобранной модели (на отложенной выборке) сделать оценку экономической эффективности при тех же вводных, как в вопросе 2:\n",
        "    - 1 доллар на удержание\n",
        "    - 2 доллара - с каждого правильно классифицированного (True Positive)\n",
        "4. *Провести подбор гиперпараметров лучшей модели по итогам 2-3\n",
        "5. *Еще раз провести оценку экономической эффективности"
      ]
    },
    {
      "cell_type": "markdown",
      "metadata": {
        "id": "AwVItI5bsf9z"
      },
      "source": [
        "## Ссылки"
      ]
    },
    {
      "cell_type": "markdown",
      "metadata": {
        "id": "NNMT5a0Rsf90"
      },
      "source": [
        "1. http://hyperopt.github.io/hyperopt/\n",
        "2. https://arxiv.org/pdf/1907.03947.pdf\n",
        "3. https://arxiv.org/pdf/1802.02301.pdf\n",
        "4. https://arxiv.org/list/stat.ML/recent\n",
        "5. https://scikit-learn.org/stable/modules/grid_search.html\n",
        "6. https://scikit-learn.org/stable/modules/compose.html"
      ]
    }
  ],
  "metadata": {
    "kernelspec": {
      "display_name": "Python 3",
      "language": "python",
      "name": "python3"
    },
    "language_info": {
      "codemirror_mode": {
        "name": "ipython",
        "version": 3
      },
      "file_extension": ".py",
      "mimetype": "text/x-python",
      "name": "python",
      "nbconvert_exporter": "python",
      "pygments_lexer": "ipython3",
      "version": "3.7.3"
    },
    "colab": {
      "name": "Copy of Lesson_5.ipynb",
      "provenance": [],
      "collapsed_sections": [],
      "toc_visible": true,
      "include_colab_link": true
    }
  },
  "nbformat": 4,
  "nbformat_minor": 0
}